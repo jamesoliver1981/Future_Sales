{
 "cells": [
  {
   "cell_type": "markdown",
   "metadata": {},
   "source": [
    "## Insights "
   ]
  },
  {
   "cell_type": "code",
   "execution_count": null,
   "metadata": {},
   "outputs": [],
   "source": [
    "# there are 22k products in the prod file, but only 21k are sold\n",
    "#50% of sales come from less than 1k (5%) of products\n",
    "    #source from EDA_J2_02_Freq_Prods\n",
    "#those 50% tend to have big spikes and then reset to smaller levels\n",
    "    #source from EDA_j2 03_sales_over_time\n",
    "#some products are not consistently available - sales for products CAN happen in irregular frequencies\n",
    "    #source from EDA_J2_04_Price_variation\n",
    "#price variation doesn't directly tie to increase in sales- there is some big increase variation in price on the days of peaks\n",
    "    #EDA_J2_04_Price_variation\n",
    "\n"
   ]
  },
  {
   "cell_type": "markdown",
   "metadata": {},
   "source": [
    "## Analysis to do"
   ]
  },
  {
   "cell_type": "code",
   "execution_count": null,
   "metadata": {},
   "outputs": [],
   "source": [
    "#repeat the price variation analysis for multiple products\n",
    "#1k products account for 50% of sales - are these the same over the entire time period?\n",
    "#or are there a top amount where can model\n",
    "#look at splits per shop - consistent proportions?"
   ]
  },
  {
   "cell_type": "markdown",
   "metadata": {},
   "source": [
    "## Modelling Strategy"
   ]
  },
  {
   "cell_type": "code",
   "execution_count": null,
   "metadata": {},
   "outputs": [],
   "source": [
    "#Need to predict sales per shop\n",
    "#create different models for the highest and lowest frequency products - look at most recent prod sales to determine - consistent\n",
    "#can I predict total amounts per product and then allocate per shop - reduces the detail needed from the model\n",
    "\n",
    "#create a continous prediction, (not cateogorical) - base on generic amounts of products sold and prices\n",
    "\n",
    "#for new products, will need seperate model\n",
    "\n",
    "#how build the train set\n",
    "#minimum variant would be build on October 15\n",
    "#rename variables to be current month price average, current month price variation, m_minus1_sales etc\n",
    "\n",
    "#could I build a model for September and have those results feed into the October prediction?  \n",
    "    #Could have it as adjustor / weighting\n",
    "#could be that prediction in November is dependent on the previous year - \n",
    "    #ie a model from last year, predicting on the data it had available (22 months)\n",
    "        #the model would be built to predict Nov 14, from Oct 14 - Jan 13, and would then predict Nov 15 using data from Oct 15 to Jan 14\n",
    "        #repeat for the 2013, based on 10 months of data\n",
    "            #not product specific, just on the line of data you have & features you've (will have) built\n",
    "        #call these seasonality models for the prediction\n",
    "\n",
    "    #how can I test this, given have data until start Nov? \n",
    "        #can I build this model on the start of November - is there every product sold here?\n"
   ]
  },
  {
   "cell_type": "code",
   "execution_count": null,
   "metadata": {},
   "outputs": [],
   "source": [
    "#Create 2 models\n",
    "    #a Minus 1 model - based on October 15 - does the most recent data predict what is happening\n",
    "    #a seasonality model - based on Nov 14 - is there a seasonality impact\n",
    "\n",
    "#can create October 15 from October- just do a stratified sample  -will still be fine\n",
    "    #can also train Nov 14 and test on rest of Nov 14 - then capture seasonality and have 20 months of data\n",
    "    \n",
    "#can then look at how good they were and calculate a correction factor \n",
    "\n",
    "#what will be cross validation method be?\n",
    "\n",
    "#need to think about how I could then take these models and then ensemble their results into a prediction\n",
    "    #this would effectiively calculate the correction factor but need to figure out how to get there"
   ]
  },
  {
   "cell_type": "markdown",
   "metadata": {},
   "source": [
    "## Feature Engineering"
   ]
  },
  {
   "cell_type": "code",
   "execution_count": null,
   "metadata": {},
   "outputs": [],
   "source": [
    "#predict one line per product and shop but effectively drop this information so its not in the calc\n",
    "#all data sets need to be renamed to be sales_minus1 , current price etc\n",
    "\n",
    "#average sales last 3 6 9 months\n",
    "#trend of sales in last 3 and 6 months - gradient of line\n",
    "#variance in sales of recent vs the considered period\n",
    "# variance in price in last month, m-2\n",
    "#days since first sale\n",
    "#consistency of sales - continuous or stacatto\n",
    "# total sales for this shop in the last month, m-2\n",
    "# total sales for this product in the last month"
   ]
  }
 ],
 "metadata": {
  "kernelspec": {
   "display_name": "Python 3",
   "language": "python",
   "name": "python3"
  },
  "language_info": {
   "codemirror_mode": {
    "name": "ipython",
    "version": 3
   },
   "file_extension": ".py",
   "mimetype": "text/x-python",
   "name": "python",
   "nbconvert_exporter": "python",
   "pygments_lexer": "ipython3",
   "version": "3.6.8"
  }
 },
 "nbformat": 4,
 "nbformat_minor": 2
}
