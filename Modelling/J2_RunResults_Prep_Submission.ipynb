{
 "cells": [
  {
   "cell_type": "code",
   "execution_count": 40,
   "metadata": {},
   "outputs": [],
   "source": [
    "#in this workbook, I will take the model generated and apply it against the November data set as the basis of the Kaggle submission"
   ]
  },
  {
   "cell_type": "code",
   "execution_count": 41,
   "metadata": {},
   "outputs": [],
   "source": [
    "from sklearn.model_selection import train_test_split\n",
    "from sklearn.metrics import mean_squared_error\n",
    "from sklearn.ensemble import RandomForestRegressor\n",
    "import pickle\n",
    "import pandas as pd\n",
    "from matplotlib import pyplot as plt\n",
    "import numpy as np\n",
    "import os\n",
    "Nov=pd.read_csv(\"/home/cdsw/Novdata_for_preds.csv\")"
   ]
  },
  {
   "cell_type": "code",
   "execution_count": 42,
   "metadata": {},
   "outputs": [],
   "source": [
    "# Load from file\n",
    "with open(\"/home/cdsw/Models/rf_red_1000_min5_v2\", 'rb') as file:\n",
    "    rf2 = pickle.load(file)"
   ]
  },
  {
   "cell_type": "code",
   "execution_count": 43,
   "metadata": {},
   "outputs": [],
   "source": [
    "#reduce the data down to those which are non null\n",
    "Nov2=Nov[Nov.PStdMinus1.notnull()]\n",
    "#extract the target variable\n",
    "Nov3=Nov2.drop([\"Target\"],axis=\"columns\")\n",
    "Nov3=Nov3.drop(Nov3.iloc[:,0:24],axis=1)\n",
    "#predict the results from the remaining data\n",
    "preds1=pd.Series(rf2.predict(Nov3))"
   ]
  },
  {
   "cell_type": "code",
   "execution_count": 44,
   "metadata": {},
   "outputs": [
    {
     "data": {
      "text/plain": [
       "count    61387.000000\n",
       "mean         0.759933\n",
       "std          5.216102\n",
       "min          0.000000\n",
       "25%          0.000000\n",
       "50%          0.000000\n",
       "75%          1.000000\n",
       "max        453.000000\n",
       "dtype: float64"
      ]
     },
     "execution_count": 44,
     "metadata": {},
     "output_type": "execute_result"
    }
   ],
   "source": [
    "round(yhat2,0).astype(\"int64\").describe()"
   ]
  },
  {
   "cell_type": "code",
   "execution_count": 66,
   "metadata": {},
   "outputs": [],
   "source": [
    "# read in the second Nov data and mod 2\n",
    "# NovData2=pd.read_csv(\"/home/cdsw/Novdata_for_mod2_v1.csv\")\n",
    "NovData2=pd.read_csv(\"/home/cdsw/Novdata_for_mod2_v2.csv\")\n",
    "with open(\"/home/cdsw/Models/mod2_rf_1000_min5_v2\", 'rb') as file:\n",
    "    mod2 = pickle.load(file)"
   ]
  },
  {
   "cell_type": "code",
   "execution_count": 71,
   "metadata": {},
   "outputs": [],
   "source": [
    "NovData2_2=NovData2.drop([\"Target\"],axis=\"columns\")\n",
    "NovData2_2[\"AV3Months\"]=NovData2_2.loc[: , \"Shop_min3\":\"Shop_min1\"].mean(axis=1)\n",
    "NovData2_2.drop(NovData2_2.columns.to_series().loc[\"Unnamed: 0\":\"shop_id\"],axis=1,inplace=True)\n",
    "\n",
    "#predict the results from the remaining data\n",
    "preds2=pd.Series(mod2.predict(NovData2_2))\n"
   ]
  },
  {
   "cell_type": "code",
   "execution_count": 72,
   "metadata": {},
   "outputs": [
    {
     "data": {
      "text/plain": [
       "count    1.002934e+06\n",
       "mean     3.596388e-01\n",
       "std      6.396752e-01\n",
       "min      0.000000e+00\n",
       "25%      0.000000e+00\n",
       "50%      0.000000e+00\n",
       "75%      1.000000e+00\n",
       "max      1.800000e+01\n",
       "dtype: float64"
      ]
     },
     "execution_count": 72,
     "metadata": {},
     "output_type": "execute_result"
    }
   ],
   "source": [
    "round(preds2,0).astype(\"int64\").describe()"
   ]
  },
  {
   "cell_type": "code",
   "execution_count": 74,
   "metadata": {},
   "outputs": [
    {
     "name": "stdout",
     "output_type": "stream",
     "text": [
      "<class 'pandas.core.frame.DataFrame'>\n",
      "Int64Index: 214200 entries, 0 to 214199\n",
      "Data columns (total 5 columns):\n",
      "ID              214200 non-null int64\n",
      "shop_id         214200 non-null int64\n",
      "item_id         214200 non-null int64\n",
      "Sales_preds1    47696 non-null float64\n",
      "Sales_preds2    198954 non-null float64\n",
      "dtypes: float64(2), int64(3)\n",
      "memory usage: 9.8 MB\n"
     ]
    }
   ],
   "source": [
    "#read in the submission format to know what I have to prepare\n",
    "submission=pd.read_csv(\"/home/cdsw/01_future-sales/data/test.csv\")\n",
    "#Need to append to orig data sets\n",
    "prep=Nov2.loc[:,[\"shop_id\",\"item_id\"]]\n",
    "prep.reset_index(drop=True,inplace=True)\n",
    "prep[\"Sales_preds1\"]=preds1\n",
    "\n",
    "prep2=NovData2.loc[:,[\"shop_id\",\"item_id\"]]\n",
    "prep2.reset_index(drop=True,inplace=True)\n",
    "prep2[\"Sales_preds2\"]=preds2\n",
    "\n",
    "sub=pd.merge(submission, prep, how=\"left\",on=[\"shop_id\",\"item_id\"])\n",
    "sub2=pd.merge(sub, prep2, how=\"left\", on=[\"shop_id\",\"item_id\"])\n",
    "sub2.info()"
   ]
  },
  {
   "cell_type": "code",
   "execution_count": 75,
   "metadata": {},
   "outputs": [
    {
     "name": "stdout",
     "output_type": "stream",
     "text": [
      "Number where can make a submission: 198954\n"
     ]
    }
   ],
   "source": [
    "print(\"Number where can make a submission:\" ,len(sub2)-len(sub2[(sub2.Sales_preds1.isnull())& (sub2.Sales_preds2.isnull())]))"
   ]
  },
  {
   "cell_type": "code",
   "execution_count": 76,
   "metadata": {},
   "outputs": [
    {
     "data": {
      "text/html": [
       "<div>\n",
       "<style>\n",
       "    .dataframe thead tr:only-child th {\n",
       "        text-align: right;\n",
       "    }\n",
       "\n",
       "    .dataframe thead th {\n",
       "        text-align: left;\n",
       "    }\n",
       "\n",
       "    .dataframe tbody tr th {\n",
       "        vertical-align: top;\n",
       "    }\n",
       "</style>\n",
       "<table border=\"1\" class=\"dataframe\">\n",
       "  <thead>\n",
       "    <tr style=\"text-align: right;\">\n",
       "      <th></th>\n",
       "      <th>ID</th>\n",
       "      <th>shop_id</th>\n",
       "      <th>item_id</th>\n",
       "      <th>Sales_preds1</th>\n",
       "      <th>Sales_preds2</th>\n",
       "    </tr>\n",
       "  </thead>\n",
       "  <tbody>\n",
       "    <tr>\n",
       "      <th>0</th>\n",
       "      <td>0</td>\n",
       "      <td>5</td>\n",
       "      <td>5037</td>\n",
       "      <td>NaN</td>\n",
       "      <td>1.779551</td>\n",
       "    </tr>\n",
       "    <tr>\n",
       "      <th>1</th>\n",
       "      <td>1</td>\n",
       "      <td>5</td>\n",
       "      <td>5320</td>\n",
       "      <td>NaN</td>\n",
       "      <td>NaN</td>\n",
       "    </tr>\n",
       "    <tr>\n",
       "      <th>2</th>\n",
       "      <td>2</td>\n",
       "      <td>5</td>\n",
       "      <td>5233</td>\n",
       "      <td>0.634556</td>\n",
       "      <td>1.631441</td>\n",
       "    </tr>\n",
       "    <tr>\n",
       "      <th>3</th>\n",
       "      <td>3</td>\n",
       "      <td>5</td>\n",
       "      <td>5232</td>\n",
       "      <td>NaN</td>\n",
       "      <td>1.002701</td>\n",
       "    </tr>\n",
       "    <tr>\n",
       "      <th>4</th>\n",
       "      <td>4</td>\n",
       "      <td>5</td>\n",
       "      <td>5268</td>\n",
       "      <td>NaN</td>\n",
       "      <td>NaN</td>\n",
       "    </tr>\n",
       "  </tbody>\n",
       "</table>\n",
       "</div>"
      ],
      "text/plain": [
       "   ID  shop_id  item_id  Sales_preds1  Sales_preds2\n",
       "0   0        5     5037           NaN      1.779551\n",
       "1   1        5     5320           NaN           NaN\n",
       "2   2        5     5233      0.634556      1.631441\n",
       "3   3        5     5232           NaN      1.002701\n",
       "4   4        5     5268           NaN           NaN"
      ]
     },
     "execution_count": 76,
     "metadata": {},
     "output_type": "execute_result"
    }
   ],
   "source": [
    "sub2.head()"
   ]
  },
  {
   "cell_type": "code",
   "execution_count": 77,
   "metadata": {},
   "outputs": [
    {
     "data": {
      "text/html": [
       "<div>\n",
       "<style>\n",
       "    .dataframe thead tr:only-child th {\n",
       "        text-align: right;\n",
       "    }\n",
       "\n",
       "    .dataframe thead th {\n",
       "        text-align: left;\n",
       "    }\n",
       "\n",
       "    .dataframe tbody tr th {\n",
       "        vertical-align: top;\n",
       "    }\n",
       "</style>\n",
       "<table border=\"1\" class=\"dataframe\">\n",
       "  <thead>\n",
       "    <tr style=\"text-align: right;\">\n",
       "      <th></th>\n",
       "      <th>ID</th>\n",
       "      <th>item_cnt_month</th>\n",
       "    </tr>\n",
       "  </thead>\n",
       "  <tbody>\n",
       "    <tr>\n",
       "      <th>0</th>\n",
       "      <td>0</td>\n",
       "      <td>1.779551</td>\n",
       "    </tr>\n",
       "    <tr>\n",
       "      <th>1</th>\n",
       "      <td>1</td>\n",
       "      <td>0.000000</td>\n",
       "    </tr>\n",
       "    <tr>\n",
       "      <th>2</th>\n",
       "      <td>2</td>\n",
       "      <td>1.631441</td>\n",
       "    </tr>\n",
       "    <tr>\n",
       "      <th>3</th>\n",
       "      <td>3</td>\n",
       "      <td>1.002701</td>\n",
       "    </tr>\n",
       "    <tr>\n",
       "      <th>4</th>\n",
       "      <td>4</td>\n",
       "      <td>0.000000</td>\n",
       "    </tr>\n",
       "  </tbody>\n",
       "</table>\n",
       "</div>"
      ],
      "text/plain": [
       "   ID  item_cnt_month\n",
       "0   0        1.779551\n",
       "1   1        0.000000\n",
       "2   2        1.631441\n",
       "3   3        1.002701\n",
       "4   4        0.000000"
      ]
     },
     "execution_count": 77,
     "metadata": {},
     "output_type": "execute_result"
    }
   ],
   "source": [
    "#submission where take preds2 if there is a conflict\n",
    "sub2[\"endresult\"]=np.where(sub2.Sales_preds2.isnull(),sub2.Sales_preds1,sub2.Sales_preds2)\n",
    "sub2[\"item_cnt_month\"]=sub2.endresult.fillna(0)\n",
    "sub3=sub2.drop([\"Sales_preds1\",\"Sales_preds2\",\"endresult\",\"shop_id\",\"item_id\"],axis=1)\n",
    "sub3.to_csv(\"/home/cdsw/Submission2_Predict117k_mod2pref_2.csv\",index=False)\n",
    "sub3.head()"
   ]
  },
  {
   "cell_type": "code",
   "execution_count": 78,
   "metadata": {},
   "outputs": [
    {
     "data": {
      "text/html": [
       "<div>\n",
       "<style>\n",
       "    .dataframe thead tr:only-child th {\n",
       "        text-align: right;\n",
       "    }\n",
       "\n",
       "    .dataframe thead th {\n",
       "        text-align: left;\n",
       "    }\n",
       "\n",
       "    .dataframe tbody tr th {\n",
       "        vertical-align: top;\n",
       "    }\n",
       "</style>\n",
       "<table border=\"1\" class=\"dataframe\">\n",
       "  <thead>\n",
       "    <tr style=\"text-align: right;\">\n",
       "      <th></th>\n",
       "      <th>ID</th>\n",
       "      <th>item_cnt_month</th>\n",
       "    </tr>\n",
       "  </thead>\n",
       "  <tbody>\n",
       "    <tr>\n",
       "      <th>0</th>\n",
       "      <td>0</td>\n",
       "      <td>1.779551</td>\n",
       "    </tr>\n",
       "    <tr>\n",
       "      <th>1</th>\n",
       "      <td>1</td>\n",
       "      <td>0.000000</td>\n",
       "    </tr>\n",
       "    <tr>\n",
       "      <th>2</th>\n",
       "      <td>2</td>\n",
       "      <td>0.634556</td>\n",
       "    </tr>\n",
       "    <tr>\n",
       "      <th>3</th>\n",
       "      <td>3</td>\n",
       "      <td>1.002701</td>\n",
       "    </tr>\n",
       "    <tr>\n",
       "      <th>4</th>\n",
       "      <td>4</td>\n",
       "      <td>0.000000</td>\n",
       "    </tr>\n",
       "  </tbody>\n",
       "</table>\n",
       "</div>"
      ],
      "text/plain": [
       "   ID  item_cnt_month\n",
       "0   0        1.779551\n",
       "1   1        0.000000\n",
       "2   2        0.634556\n",
       "3   3        1.002701\n",
       "4   4        0.000000"
      ]
     },
     "execution_count": 78,
     "metadata": {},
     "output_type": "execute_result"
    }
   ],
   "source": [
    "#create a version where preds1 has dominance\n",
    "sub4=sub2.drop([\"item_cnt_month\"], axis=\"columns\")\n",
    "sub4[\"endresult2\"]=np.where(sub2.Sales_preds1.notnull(),sub2.Sales_preds1,sub2.Sales_preds2)\n",
    "sub4[\"item_cnt_month\"]=sub4.endresult2.fillna(0)\n",
    "sub5=sub4.drop([\"Sales_preds1\",\"Sales_preds2\",\"endresult\", \"endresult2\",\"shop_id\",\"item_id\"],axis=1)\n",
    "sub5.to_csv(\"/home/cdsw/Submission2_Predict117k_mod1pref_2.csv\",index=False)\n",
    "sub5.head()"
   ]
  },
  {
   "cell_type": "code",
   "execution_count": 48,
   "metadata": {},
   "outputs": [
    {
     "data": {
      "text/html": [
       "<div>\n",
       "<style>\n",
       "    .dataframe thead tr:only-child th {\n",
       "        text-align: right;\n",
       "    }\n",
       "\n",
       "    .dataframe thead th {\n",
       "        text-align: left;\n",
       "    }\n",
       "\n",
       "    .dataframe tbody tr th {\n",
       "        vertical-align: top;\n",
       "    }\n",
       "</style>\n",
       "<table border=\"1\" class=\"dataframe\">\n",
       "  <thead>\n",
       "    <tr style=\"text-align: right;\">\n",
       "      <th></th>\n",
       "      <th>ID</th>\n",
       "      <th>item_cnt_month</th>\n",
       "    </tr>\n",
       "  </thead>\n",
       "  <tbody>\n",
       "    <tr>\n",
       "      <th>0</th>\n",
       "      <td>0</td>\n",
       "      <td>0.5</td>\n",
       "    </tr>\n",
       "    <tr>\n",
       "      <th>1</th>\n",
       "      <td>1</td>\n",
       "      <td>0.5</td>\n",
       "    </tr>\n",
       "    <tr>\n",
       "      <th>2</th>\n",
       "      <td>2</td>\n",
       "      <td>0.5</td>\n",
       "    </tr>\n",
       "    <tr>\n",
       "      <th>3</th>\n",
       "      <td>3</td>\n",
       "      <td>0.5</td>\n",
       "    </tr>\n",
       "    <tr>\n",
       "      <th>4</th>\n",
       "      <td>4</td>\n",
       "      <td>0.5</td>\n",
       "    </tr>\n",
       "  </tbody>\n",
       "</table>\n",
       "</div>"
      ],
      "text/plain": [
       "   ID  item_cnt_month\n",
       "0   0             0.5\n",
       "1   1             0.5\n",
       "2   2             0.5\n",
       "3   3             0.5\n",
       "4   4             0.5"
      ]
     },
     "execution_count": 48,
     "metadata": {},
     "output_type": "execute_result"
    }
   ],
   "source": [
    "eg=pd.read_csv(\"/home/cdsw/01_future-sales/data/sample_submission.csv\")\n",
    "eg.head()"
   ]
  },
  {
   "cell_type": "code",
   "execution_count": 63,
   "metadata": {},
   "outputs": [
    {
     "data": {
      "text/plain": [
       "<matplotlib.axes._subplots.AxesSubplot at 0x7f10be3884e0>"
      ]
     },
     "execution_count": 63,
     "metadata": {},
     "output_type": "execute_result"
    },
    {
     "data": {
      "image/png": "[encoded data removed]",
      "text/plain": [
       "<matplotlib.figure.Figure at 0x7f10be388c88>"
      ]
     },
     "metadata": {
      "needs_background": "light"
     },
     "output_type": "display_data"
    }
   ],
   "source": [
    "feat_importances = pd.Series(mod2.feature_importances_, index=NovData2_2.columns)\n",
    "plt.figure(figsize=(20,10)) \n",
    "plt.rcParams.update({'font.size': 22})\n",
    "feat_importances.nlargest(10).plot(kind='barh')\n"
   ]
  },
  {
   "cell_type": "code",
   "execution_count": 65,
   "metadata": {},
   "outputs": [
    {
     "data": {
      "text/plain": [
       "1002929    1002929\n",
       "1002930    1002930\n",
       "1002931    1002931\n",
       "1002932    1002932\n",
       "1002933    1002933\n",
       "Name: Unnamed: 0, dtype: int64"
      ]
     },
     "execution_count": 65,
     "metadata": {},
     "output_type": "execute_result"
    }
   ],
   "source": []
  }
 ],
 "metadata": {
  "kernelspec": {
   "display_name": "Python 3",
   "language": "python",
   "name": "python3"
  },
  "language_info": {
   "codemirror_mode": {
    "name": "ipython",
    "version": 3
   },
   "file_extension": ".py",
   "mimetype": "text/x-python",
   "name": "python",
   "nbconvert_exporter": "python",
   "pygments_lexer": "ipython3",
   "version": "3.6.8"
  }
 },
 "nbformat": 4,
 "nbformat_minor": 2
}
