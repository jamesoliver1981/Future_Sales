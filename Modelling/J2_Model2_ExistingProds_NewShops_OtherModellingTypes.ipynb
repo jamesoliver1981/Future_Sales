{
 "cells": [
  {
   "cell_type": "code",
   "execution_count": null,
   "metadata": {},
   "outputs": [],
   "source": [
    "#what improvements can I get over the RF\n",
    "    #try xgboost and NN\n",
    "#read the RF in and get performance\n",
    "#build xgb"
   ]
  },
  {
   "cell_type": "code",
   "execution_count": 1,
   "metadata": {},
   "outputs": [],
   "source": [
    "from sklearn.model_selection import train_test_split\n",
    "from sklearn.metrics import mean_squared_error\n",
    "from sklearn.ensemble import RandomForestRegressor\n",
    "import pickle\n",
    "import pandas as pd\n",
    "from matplotlib import pyplot as plt\n",
    "import numpy as np\n",
    "import os\n",
    "df=pd.read_csv(\"/home/cdsw/train_for_mod2_v1.csv\")"
   ]
  },
  {
   "cell_type": "code",
   "execution_count": 13,
   "metadata": {},
   "outputs": [
    {
     "name": "stderr",
     "output_type": "stream",
     "text": [
      "/usr/local/lib/python3.6/dist-packages/ipykernel_launcher.py:4: SettingWithCopyWarning: \n",
      "A value is trying to be set on a copy of a slice from a DataFrame\n",
      "\n",
      "See the caveats in the documentation: http://pandas.pydata.org/pandas-docs/stable/indexing.html#indexing-view-versus-copy\n",
      "  after removing the cwd from sys.path.\n"
     ]
    }
   ],
   "source": [
    "df_check=df\n",
    "df_check[\"AV3Months\"]=df.loc[: , \"Shop_min3\":\"Shop_min1\"].mean(axis=1)\n",
    "df_check2=df_check[df_check.AV3Months >1]\n",
    "df_check2.drop(df_check2.columns.to_series().loc[\"Unnamed: 0\":\"shop_id\"],axis=1,inplace=True)\n",
    "#split into train and test set\n",
    "Y1=df_check2[[\"Target\"]]\n",
    "X1=df_check2.drop([\"Target\"],axis=1)\n",
    "\n",
    "X_train1, X_test1,Y_train1, Y_test1 = train_test_split(X1,Y1,test_size=0.3, \n",
    "                                                   random_state=428)"
   ]
  },
  {
   "cell_type": "code",
   "execution_count": 4,
   "metadata": {},
   "outputs": [
    {
     "name": "stdout",
     "output_type": "stream",
     "text": [
      "RMSE of RF Model: 0.5952289546696087\n"
     ]
    },
    {
     "name": "stderr",
     "output_type": "stream",
     "text": [
      "/usr/local/lib/python3.6/dist-packages/ipykernel_launcher.py:7: SettingWithCopyWarning: \n",
      "A value is trying to be set on a copy of a slice from a DataFrame.\n",
      "Try using .loc[row_indexer,col_indexer] = value instead\n",
      "\n",
      "See the caveats in the documentation: http://pandas.pydata.org/pandas-docs/stable/indexing.html#indexing-view-versus-copy\n",
      "  import sys\n"
     ]
    }
   ],
   "source": [
    "with open(\"/home/cdsw/Models/mod2_rf_1000_min5_v2\", 'rb') as file:\n",
    "    rf2 = pickle.load(file)\n",
    "compare=Y_test1\n",
    "compare.reset_index(drop=True,inplace=True)\n",
    "\n",
    "yhat2=pd.Series(rf2.predict(X_test1))\n",
    "compare[\"preds2\"]=round(yhat2,0).astype(\"int64\")\n",
    "\n",
    "#compare2=pd.concat([compare, adds],axis=0)\n",
    "print(\"RMSE of RF Model:\", mean_squared_error(compare.Target,compare.preds2)**0.5)"
   ]
  },
  {
   "cell_type": "code",
   "execution_count": 15,
   "metadata": {},
   "outputs": [
    {
     "name": "stdout",
     "output_type": "stream",
     "text": [
      "[15:58:42] WARNING: /workspace/src/objective/regression_obj.cu:152: reg:linear is now deprecated in favor of reg:squarederror.\n",
      "[0]\tvalidation_0-rmse:0.863143\tvalidation_1-rmse:0.834613\n",
      "Multiple eval metrics have been passed: 'validation_1-rmse' will be used for early stopping.\n",
      "\n",
      "Will train until validation_1-rmse hasn't improved in 10 rounds.\n",
      "[1]\tvalidation_0-rmse:0.834165\tvalidation_1-rmse:0.805369\n",
      "[2]\tvalidation_0-rmse:0.809685\tvalidation_1-rmse:0.781038\n",
      "[3]\tvalidation_0-rmse:0.789569\tvalidation_1-rmse:0.760499\n",
      "[4]\tvalidation_0-rmse:0.770921\tvalidation_1-rmse:0.741908\n",
      "[5]\tvalidation_0-rmse:0.755363\tvalidation_1-rmse:0.7258\n",
      "[6]\tvalidation_0-rmse:0.742678\tvalidation_1-rmse:0.712349\n",
      "[7]\tvalidation_0-rmse:0.731664\tvalidation_1-rmse:0.70058\n",
      "[8]\tvalidation_0-rmse:0.721539\tvalidation_1-rmse:0.689392\n",
      "[9]\tvalidation_0-rmse:0.713358\tvalidation_1-rmse:0.681542\n",
      "[10]\tvalidation_0-rmse:0.706347\tvalidation_1-rmse:0.674933\n",
      "[11]\tvalidation_0-rmse:0.700268\tvalidation_1-rmse:0.668043\n",
      "[12]\tvalidation_0-rmse:0.694866\tvalidation_1-rmse:0.662696\n",
      "[13]\tvalidation_0-rmse:0.690391\tvalidation_1-rmse:0.657499\n",
      "[14]\tvalidation_0-rmse:0.686107\tvalidation_1-rmse:0.652654\n",
      "[15]\tvalidation_0-rmse:0.682237\tvalidation_1-rmse:0.649291\n",
      "[16]\tvalidation_0-rmse:0.679767\tvalidation_1-rmse:0.646626\n",
      "[17]\tvalidation_0-rmse:0.676675\tvalidation_1-rmse:0.644316\n",
      "[18]\tvalidation_0-rmse:0.674103\tvalidation_1-rmse:0.642245\n",
      "[19]\tvalidation_0-rmse:0.671534\tvalidation_1-rmse:0.639987\n",
      "[20]\tvalidation_0-rmse:0.669267\tvalidation_1-rmse:0.637929\n",
      "[21]\tvalidation_0-rmse:0.666924\tvalidation_1-rmse:0.635321\n",
      "[22]\tvalidation_0-rmse:0.665567\tvalidation_1-rmse:0.634187\n",
      "[23]\tvalidation_0-rmse:0.66381\tvalidation_1-rmse:0.63301\n",
      "[24]\tvalidation_0-rmse:0.662142\tvalidation_1-rmse:0.631932\n",
      "[25]\tvalidation_0-rmse:0.660855\tvalidation_1-rmse:0.630304\n",
      "[26]\tvalidation_0-rmse:0.659373\tvalidation_1-rmse:0.629319\n",
      "[27]\tvalidation_0-rmse:0.658229\tvalidation_1-rmse:0.628401\n",
      "[28]\tvalidation_0-rmse:0.656278\tvalidation_1-rmse:0.626412\n",
      "[29]\tvalidation_0-rmse:0.654307\tvalidation_1-rmse:0.624708\n",
      "[30]\tvalidation_0-rmse:0.653397\tvalidation_1-rmse:0.624199\n",
      "[31]\tvalidation_0-rmse:0.652341\tvalidation_1-rmse:0.623509\n",
      "[32]\tvalidation_0-rmse:0.651206\tvalidation_1-rmse:0.62217\n",
      "[33]\tvalidation_0-rmse:0.649853\tvalidation_1-rmse:0.621008\n",
      "[34]\tvalidation_0-rmse:0.648813\tvalidation_1-rmse:0.620405\n",
      "[35]\tvalidation_0-rmse:0.648336\tvalidation_1-rmse:0.62007\n",
      "[36]\tvalidation_0-rmse:0.647475\tvalidation_1-rmse:0.619532\n",
      "[37]\tvalidation_0-rmse:0.646648\tvalidation_1-rmse:0.618961\n",
      "[38]\tvalidation_0-rmse:0.646264\tvalidation_1-rmse:0.618715\n",
      "[39]\tvalidation_0-rmse:0.645317\tvalidation_1-rmse:0.618101\n",
      "[40]\tvalidation_0-rmse:0.644147\tvalidation_1-rmse:0.617122\n",
      "[41]\tvalidation_0-rmse:0.643719\tvalidation_1-rmse:0.616964\n",
      "[42]\tvalidation_0-rmse:0.643052\tvalidation_1-rmse:0.616623\n",
      "[43]\tvalidation_0-rmse:0.642203\tvalidation_1-rmse:0.615501\n",
      "[44]\tvalidation_0-rmse:0.641545\tvalidation_1-rmse:0.615322\n",
      "[45]\tvalidation_0-rmse:0.641175\tvalidation_1-rmse:0.615098\n",
      "[46]\tvalidation_0-rmse:0.64068\tvalidation_1-rmse:0.614842\n",
      "[47]\tvalidation_0-rmse:0.639476\tvalidation_1-rmse:0.614033\n",
      "[48]\tvalidation_0-rmse:0.638687\tvalidation_1-rmse:0.613166\n",
      "[49]\tvalidation_0-rmse:0.638024\tvalidation_1-rmse:0.612804\n",
      "[50]\tvalidation_0-rmse:0.637397\tvalidation_1-rmse:0.612124\n",
      "[51]\tvalidation_0-rmse:0.635987\tvalidation_1-rmse:0.61114\n",
      "[52]\tvalidation_0-rmse:0.635689\tvalidation_1-rmse:0.611024\n",
      "[53]\tvalidation_0-rmse:0.634648\tvalidation_1-rmse:0.610241\n",
      "[54]\tvalidation_0-rmse:0.633856\tvalidation_1-rmse:0.609665\n",
      "[55]\tvalidation_0-rmse:0.633226\tvalidation_1-rmse:0.609039\n",
      "[56]\tvalidation_0-rmse:0.632913\tvalidation_1-rmse:0.608816\n",
      "[57]\tvalidation_0-rmse:0.632424\tvalidation_1-rmse:0.608497\n",
      "[58]\tvalidation_0-rmse:0.631817\tvalidation_1-rmse:0.608191\n",
      "[59]\tvalidation_0-rmse:0.631446\tvalidation_1-rmse:0.607933\n",
      "[60]\tvalidation_0-rmse:0.630695\tvalidation_1-rmse:0.607524\n",
      "[61]\tvalidation_0-rmse:0.62992\tvalidation_1-rmse:0.607118\n",
      "[62]\tvalidation_0-rmse:0.629173\tvalidation_1-rmse:0.606906\n",
      "[63]\tvalidation_0-rmse:0.628727\tvalidation_1-rmse:0.606757\n",
      "[64]\tvalidation_0-rmse:0.628005\tvalidation_1-rmse:0.606309\n",
      "[65]\tvalidation_0-rmse:0.627661\tvalidation_1-rmse:0.606059\n",
      "[66]\tvalidation_0-rmse:0.626793\tvalidation_1-rmse:0.605361\n",
      "[67]\tvalidation_0-rmse:0.626338\tvalidation_1-rmse:0.605085\n",
      "[68]\tvalidation_0-rmse:0.625802\tvalidation_1-rmse:0.604806\n",
      "[69]\tvalidation_0-rmse:0.625092\tvalidation_1-rmse:0.604413\n",
      "[70]\tvalidation_0-rmse:0.624159\tvalidation_1-rmse:0.604178\n",
      "[71]\tvalidation_0-rmse:0.623615\tvalidation_1-rmse:0.603977\n",
      "[72]\tvalidation_0-rmse:0.623043\tvalidation_1-rmse:0.603625\n",
      "[73]\tvalidation_0-rmse:0.622555\tvalidation_1-rmse:0.603329\n",
      "[74]\tvalidation_0-rmse:0.62199\tvalidation_1-rmse:0.602968\n",
      "[75]\tvalidation_0-rmse:0.621399\tvalidation_1-rmse:0.602657\n",
      "[76]\tvalidation_0-rmse:0.621177\tvalidation_1-rmse:0.6026\n",
      "[77]\tvalidation_0-rmse:0.62062\tvalidation_1-rmse:0.602088\n",
      "[78]\tvalidation_0-rmse:0.619968\tvalidation_1-rmse:0.60163\n",
      "[79]\tvalidation_0-rmse:0.619637\tvalidation_1-rmse:0.601539\n",
      "[80]\tvalidation_0-rmse:0.619052\tvalidation_1-rmse:0.601322\n",
      "[81]\tvalidation_0-rmse:0.618714\tvalidation_1-rmse:0.601117\n",
      "[82]\tvalidation_0-rmse:0.618388\tvalidation_1-rmse:0.600907\n",
      "[83]\tvalidation_0-rmse:0.617882\tvalidation_1-rmse:0.600628\n",
      "[84]\tvalidation_0-rmse:0.617177\tvalidation_1-rmse:0.600218\n",
      "[85]\tvalidation_0-rmse:0.616903\tvalidation_1-rmse:0.600053\n",
      "[86]\tvalidation_0-rmse:0.616594\tvalidation_1-rmse:0.599836\n",
      "[87]\tvalidation_0-rmse:0.616035\tvalidation_1-rmse:0.599523\n",
      "[88]\tvalidation_0-rmse:0.61573\tvalidation_1-rmse:0.599448\n",
      "[89]\tvalidation_0-rmse:0.615357\tvalidation_1-rmse:0.599261\n",
      "[90]\tvalidation_0-rmse:0.615028\tvalidation_1-rmse:0.599031\n",
      "[91]\tvalidation_0-rmse:0.614738\tvalidation_1-rmse:0.598823\n",
      "[92]\tvalidation_0-rmse:0.614293\tvalidation_1-rmse:0.598545\n",
      "[93]\tvalidation_0-rmse:0.613942\tvalidation_1-rmse:0.598334\n",
      "[94]\tvalidation_0-rmse:0.613349\tvalidation_1-rmse:0.597998\n",
      "[95]\tvalidation_0-rmse:0.613084\tvalidation_1-rmse:0.597836\n",
      "[96]\tvalidation_0-rmse:0.612764\tvalidation_1-rmse:0.597784\n",
      "[97]\tvalidation_0-rmse:0.61246\tvalidation_1-rmse:0.597634\n",
      "[98]\tvalidation_0-rmse:0.612173\tvalidation_1-rmse:0.597568\n",
      "[99]\tvalidation_0-rmse:0.61164\tvalidation_1-rmse:0.597351\n",
      "[100]\tvalidation_0-rmse:0.611158\tvalidation_1-rmse:0.597278\n",
      "[101]\tvalidation_0-rmse:0.610814\tvalidation_1-rmse:0.597209\n",
      "[102]\tvalidation_0-rmse:0.610705\tvalidation_1-rmse:0.597099\n",
      "[103]\tvalidation_0-rmse:0.610382\tvalidation_1-rmse:0.596749\n",
      "[104]\tvalidation_0-rmse:0.609839\tvalidation_1-rmse:0.596529\n",
      "[105]\tvalidation_0-rmse:0.609219\tvalidation_1-rmse:0.595928\n",
      "[106]\tvalidation_0-rmse:0.608998\tvalidation_1-rmse:0.595792\n",
      "[107]\tvalidation_0-rmse:0.608622\tvalidation_1-rmse:0.595714\n",
      "[108]\tvalidation_0-rmse:0.608448\tvalidation_1-rmse:0.595604\n",
      "[109]\tvalidation_0-rmse:0.608\tvalidation_1-rmse:0.595522\n",
      "[110]\tvalidation_0-rmse:0.607813\tvalidation_1-rmse:0.595303\n",
      "[111]\tvalidation_0-rmse:0.607504\tvalidation_1-rmse:0.595151\n",
      "[112]\tvalidation_0-rmse:0.607336\tvalidation_1-rmse:0.595194\n",
      "[113]\tvalidation_0-rmse:0.606882\tvalidation_1-rmse:0.594977\n",
      "[114]\tvalidation_0-rmse:0.606616\tvalidation_1-rmse:0.594929\n",
      "[115]\tvalidation_0-rmse:0.606384\tvalidation_1-rmse:0.594764\n",
      "[116]\tvalidation_0-rmse:0.605797\tvalidation_1-rmse:0.594425\n",
      "[117]\tvalidation_0-rmse:0.605516\tvalidation_1-rmse:0.594322\n",
      "[118]\tvalidation_0-rmse:0.605187\tvalidation_1-rmse:0.59417\n",
      "[119]\tvalidation_0-rmse:0.60495\tvalidation_1-rmse:0.594094\n",
      "[120]\tvalidation_0-rmse:0.604449\tvalidation_1-rmse:0.593974\n",
      "[121]\tvalidation_0-rmse:0.604014\tvalidation_1-rmse:0.593794\n",
      "[122]\tvalidation_0-rmse:0.60356\tvalidation_1-rmse:0.59385\n",
      "[123]\tvalidation_0-rmse:0.603154\tvalidation_1-rmse:0.593637\n",
      "[124]\tvalidation_0-rmse:0.602859\tvalidation_1-rmse:0.593609\n",
      "[125]\tvalidation_0-rmse:0.602674\tvalidation_1-rmse:0.593462\n",
      "[126]\tvalidation_0-rmse:0.602461\tvalidation_1-rmse:0.5935\n",
      "[127]\tvalidation_0-rmse:0.602121\tvalidation_1-rmse:0.593479\n",
      "[128]\tvalidation_0-rmse:0.60192\tvalidation_1-rmse:0.59347\n",
      "[129]\tvalidation_0-rmse:0.601769\tvalidation_1-rmse:0.593406\n",
      "[130]\tvalidation_0-rmse:0.601613\tvalidation_1-rmse:0.593324\n",
      "[131]\tvalidation_0-rmse:0.601147\tvalidation_1-rmse:0.592967\n",
      "[132]\tvalidation_0-rmse:0.600977\tvalidation_1-rmse:0.592947\n",
      "[133]\tvalidation_0-rmse:0.600785\tvalidation_1-rmse:0.592758\n",
      "[134]\tvalidation_0-rmse:0.600312\tvalidation_1-rmse:0.592447\n"
     ]
    },
    {
     "name": "stdout",
     "output_type": "stream",
     "text": [
      "[135]\tvalidation_0-rmse:0.59995\tvalidation_1-rmse:0.592116\n",
      "[136]\tvalidation_0-rmse:0.599373\tvalidation_1-rmse:0.591915\n",
      "[137]\tvalidation_0-rmse:0.59917\tvalidation_1-rmse:0.591854\n",
      "[138]\tvalidation_0-rmse:0.598586\tvalidation_1-rmse:0.591212\n",
      "[139]\tvalidation_0-rmse:0.598338\tvalidation_1-rmse:0.591085\n",
      "[140]\tvalidation_0-rmse:0.598047\tvalidation_1-rmse:0.591018\n",
      "[141]\tvalidation_0-rmse:0.597925\tvalidation_1-rmse:0.590863\n",
      "[142]\tvalidation_0-rmse:0.597677\tvalidation_1-rmse:0.590654\n",
      "[143]\tvalidation_0-rmse:0.5975\tvalidation_1-rmse:0.590752\n",
      "[144]\tvalidation_0-rmse:0.597266\tvalidation_1-rmse:0.590558\n",
      "[145]\tvalidation_0-rmse:0.596982\tvalidation_1-rmse:0.590441\n",
      "[146]\tvalidation_0-rmse:0.596238\tvalidation_1-rmse:0.59045\n",
      "[147]\tvalidation_0-rmse:0.596088\tvalidation_1-rmse:0.590312\n",
      "[148]\tvalidation_0-rmse:0.595644\tvalidation_1-rmse:0.590121\n",
      "[149]\tvalidation_0-rmse:0.595571\tvalidation_1-rmse:0.590154\n",
      "[150]\tvalidation_0-rmse:0.595299\tvalidation_1-rmse:0.590163\n",
      "[151]\tvalidation_0-rmse:0.595148\tvalidation_1-rmse:0.590009\n",
      "[152]\tvalidation_0-rmse:0.594976\tvalidation_1-rmse:0.589938\n",
      "[153]\tvalidation_0-rmse:0.594604\tvalidation_1-rmse:0.589835\n",
      "[154]\tvalidation_0-rmse:0.5945\tvalidation_1-rmse:0.589906\n",
      "[155]\tvalidation_0-rmse:0.594348\tvalidation_1-rmse:0.589871\n",
      "[156]\tvalidation_0-rmse:0.594153\tvalidation_1-rmse:0.58981\n",
      "[157]\tvalidation_0-rmse:0.593817\tvalidation_1-rmse:0.589511\n",
      "[158]\tvalidation_0-rmse:0.593615\tvalidation_1-rmse:0.58936\n",
      "[159]\tvalidation_0-rmse:0.593171\tvalidation_1-rmse:0.589312\n",
      "[160]\tvalidation_0-rmse:0.592994\tvalidation_1-rmse:0.589164\n",
      "[161]\tvalidation_0-rmse:0.592545\tvalidation_1-rmse:0.589034\n",
      "[162]\tvalidation_0-rmse:0.592432\tvalidation_1-rmse:0.588963\n",
      "[163]\tvalidation_0-rmse:0.592175\tvalidation_1-rmse:0.58879\n",
      "[164]\tvalidation_0-rmse:0.592052\tvalidation_1-rmse:0.588728\n",
      "[165]\tvalidation_0-rmse:0.591795\tvalidation_1-rmse:0.588703\n",
      "[166]\tvalidation_0-rmse:0.591637\tvalidation_1-rmse:0.588452\n",
      "[167]\tvalidation_0-rmse:0.591342\tvalidation_1-rmse:0.588278\n",
      "[168]\tvalidation_0-rmse:0.591073\tvalidation_1-rmse:0.58813\n",
      "[169]\tvalidation_0-rmse:0.590803\tvalidation_1-rmse:0.58809\n",
      "[170]\tvalidation_0-rmse:0.590455\tvalidation_1-rmse:0.587936\n",
      "[171]\tvalidation_0-rmse:0.590182\tvalidation_1-rmse:0.587856\n",
      "[172]\tvalidation_0-rmse:0.589992\tvalidation_1-rmse:0.587767\n",
      "[173]\tvalidation_0-rmse:0.589504\tvalidation_1-rmse:0.587413\n",
      "[174]\tvalidation_0-rmse:0.589332\tvalidation_1-rmse:0.587246\n",
      "[175]\tvalidation_0-rmse:0.588986\tvalidation_1-rmse:0.587249\n",
      "[176]\tvalidation_0-rmse:0.588762\tvalidation_1-rmse:0.587129\n",
      "[177]\tvalidation_0-rmse:0.588459\tvalidation_1-rmse:0.586976\n",
      "[178]\tvalidation_0-rmse:0.588322\tvalidation_1-rmse:0.586866\n",
      "[179]\tvalidation_0-rmse:0.588123\tvalidation_1-rmse:0.586786\n",
      "[180]\tvalidation_0-rmse:0.587912\tvalidation_1-rmse:0.586602\n",
      "[181]\tvalidation_0-rmse:0.58767\tvalidation_1-rmse:0.586607\n",
      "[182]\tvalidation_0-rmse:0.587288\tvalidation_1-rmse:0.586331\n",
      "[183]\tvalidation_0-rmse:0.586944\tvalidation_1-rmse:0.586113\n",
      "[184]\tvalidation_0-rmse:0.586863\tvalidation_1-rmse:0.586147\n",
      "[185]\tvalidation_0-rmse:0.586686\tvalidation_1-rmse:0.586116\n",
      "[186]\tvalidation_0-rmse:0.58655\tvalidation_1-rmse:0.586071\n",
      "[187]\tvalidation_0-rmse:0.586315\tvalidation_1-rmse:0.586032\n",
      "[188]\tvalidation_0-rmse:0.58608\tvalidation_1-rmse:0.58578\n",
      "[189]\tvalidation_0-rmse:0.585763\tvalidation_1-rmse:0.585822\n",
      "[190]\tvalidation_0-rmse:0.585658\tvalidation_1-rmse:0.585895\n",
      "[191]\tvalidation_0-rmse:0.585427\tvalidation_1-rmse:0.585872\n",
      "[192]\tvalidation_0-rmse:0.585175\tvalidation_1-rmse:0.585789\n",
      "[193]\tvalidation_0-rmse:0.584942\tvalidation_1-rmse:0.585684\n",
      "[194]\tvalidation_0-rmse:0.584588\tvalidation_1-rmse:0.585482\n",
      "[195]\tvalidation_0-rmse:0.584462\tvalidation_1-rmse:0.585415\n",
      "[196]\tvalidation_0-rmse:0.584302\tvalidation_1-rmse:0.585466\n",
      "[197]\tvalidation_0-rmse:0.584116\tvalidation_1-rmse:0.58535\n",
      "[198]\tvalidation_0-rmse:0.583962\tvalidation_1-rmse:0.5853\n",
      "[199]\tvalidation_0-rmse:0.583854\tvalidation_1-rmse:0.585056\n",
      "[200]\tvalidation_0-rmse:0.583553\tvalidation_1-rmse:0.584945\n",
      "[201]\tvalidation_0-rmse:0.583444\tvalidation_1-rmse:0.585074\n",
      "[202]\tvalidation_0-rmse:0.583393\tvalidation_1-rmse:0.584984\n",
      "[203]\tvalidation_0-rmse:0.583073\tvalidation_1-rmse:0.58475\n",
      "[204]\tvalidation_0-rmse:0.582644\tvalidation_1-rmse:0.584506\n",
      "[205]\tvalidation_0-rmse:0.582421\tvalidation_1-rmse:0.584489\n",
      "[206]\tvalidation_0-rmse:0.581951\tvalidation_1-rmse:0.584407\n",
      "[207]\tvalidation_0-rmse:0.58181\tvalidation_1-rmse:0.584306\n",
      "[208]\tvalidation_0-rmse:0.581571\tvalidation_1-rmse:0.584003\n",
      "[209]\tvalidation_0-rmse:0.581494\tvalidation_1-rmse:0.583979\n",
      "[210]\tvalidation_0-rmse:0.581179\tvalidation_1-rmse:0.583633\n",
      "[211]\tvalidation_0-rmse:0.581068\tvalidation_1-rmse:0.583642\n",
      "[212]\tvalidation_0-rmse:0.580767\tvalidation_1-rmse:0.583554\n",
      "[213]\tvalidation_0-rmse:0.58054\tvalidation_1-rmse:0.583697\n",
      "[214]\tvalidation_0-rmse:0.580459\tvalidation_1-rmse:0.58368\n",
      "[215]\tvalidation_0-rmse:0.580248\tvalidation_1-rmse:0.583809\n",
      "[216]\tvalidation_0-rmse:0.580054\tvalidation_1-rmse:0.58376\n",
      "[217]\tvalidation_0-rmse:0.579811\tvalidation_1-rmse:0.583656\n",
      "[218]\tvalidation_0-rmse:0.579625\tvalidation_1-rmse:0.583502\n",
      "[219]\tvalidation_0-rmse:0.579073\tvalidation_1-rmse:0.583402\n",
      "[220]\tvalidation_0-rmse:0.578889\tvalidation_1-rmse:0.583216\n",
      "[221]\tvalidation_0-rmse:0.578467\tvalidation_1-rmse:0.583076\n",
      "[222]\tvalidation_0-rmse:0.578024\tvalidation_1-rmse:0.582897\n",
      "[223]\tvalidation_0-rmse:0.577674\tvalidation_1-rmse:0.582931\n",
      "[224]\tvalidation_0-rmse:0.577568\tvalidation_1-rmse:0.582887\n",
      "[225]\tvalidation_0-rmse:0.577254\tvalidation_1-rmse:0.582663\n",
      "[226]\tvalidation_0-rmse:0.577154\tvalidation_1-rmse:0.58268\n",
      "[227]\tvalidation_0-rmse:0.577053\tvalidation_1-rmse:0.582706\n",
      "[228]\tvalidation_0-rmse:0.576871\tvalidation_1-rmse:0.582741\n",
      "[229]\tvalidation_0-rmse:0.576412\tvalidation_1-rmse:0.582411\n",
      "[230]\tvalidation_0-rmse:0.576189\tvalidation_1-rmse:0.582431\n",
      "[231]\tvalidation_0-rmse:0.575983\tvalidation_1-rmse:0.582332\n",
      "[232]\tvalidation_0-rmse:0.57588\tvalidation_1-rmse:0.582266\n",
      "[233]\tvalidation_0-rmse:0.575535\tvalidation_1-rmse:0.582291\n",
      "[234]\tvalidation_0-rmse:0.575408\tvalidation_1-rmse:0.582234\n",
      "[235]\tvalidation_0-rmse:0.575127\tvalidation_1-rmse:0.582121\n",
      "[236]\tvalidation_0-rmse:0.574998\tvalidation_1-rmse:0.58213\n",
      "[237]\tvalidation_0-rmse:0.574719\tvalidation_1-rmse:0.581917\n",
      "[238]\tvalidation_0-rmse:0.574545\tvalidation_1-rmse:0.581909\n",
      "[239]\tvalidation_0-rmse:0.574401\tvalidation_1-rmse:0.581869\n",
      "[240]\tvalidation_0-rmse:0.574069\tvalidation_1-rmse:0.581935\n",
      "[241]\tvalidation_0-rmse:0.573632\tvalidation_1-rmse:0.581958\n",
      "[242]\tvalidation_0-rmse:0.573432\tvalidation_1-rmse:0.581788\n",
      "[243]\tvalidation_0-rmse:0.573334\tvalidation_1-rmse:0.581818\n",
      "[244]\tvalidation_0-rmse:0.573219\tvalidation_1-rmse:0.581788\n",
      "[245]\tvalidation_0-rmse:0.573\tvalidation_1-rmse:0.581756\n",
      "[246]\tvalidation_0-rmse:0.572851\tvalidation_1-rmse:0.581672\n",
      "[247]\tvalidation_0-rmse:0.572777\tvalidation_1-rmse:0.581647\n",
      "[248]\tvalidation_0-rmse:0.572731\tvalidation_1-rmse:0.581657\n",
      "[249]\tvalidation_0-rmse:0.572436\tvalidation_1-rmse:0.58154\n",
      "[250]\tvalidation_0-rmse:0.572306\tvalidation_1-rmse:0.581481\n",
      "[251]\tvalidation_0-rmse:0.572252\tvalidation_1-rmse:0.581542\n",
      "[252]\tvalidation_0-rmse:0.572154\tvalidation_1-rmse:0.581531\n",
      "[253]\tvalidation_0-rmse:0.572032\tvalidation_1-rmse:0.581455\n",
      "[254]\tvalidation_0-rmse:0.57194\tvalidation_1-rmse:0.581583\n",
      "[255]\tvalidation_0-rmse:0.571807\tvalidation_1-rmse:0.581403\n",
      "[256]\tvalidation_0-rmse:0.571634\tvalidation_1-rmse:0.581372\n",
      "[257]\tvalidation_0-rmse:0.571468\tvalidation_1-rmse:0.581271\n",
      "[258]\tvalidation_0-rmse:0.571268\tvalidation_1-rmse:0.581024\n",
      "[259]\tvalidation_0-rmse:0.571058\tvalidation_1-rmse:0.580989\n",
      "[260]\tvalidation_0-rmse:0.570837\tvalidation_1-rmse:0.581021\n",
      "[261]\tvalidation_0-rmse:0.57074\tvalidation_1-rmse:0.581135\n",
      "[262]\tvalidation_0-rmse:0.570637\tvalidation_1-rmse:0.581201\n",
      "[263]\tvalidation_0-rmse:0.570554\tvalidation_1-rmse:0.581294\n",
      "[264]\tvalidation_0-rmse:0.570056\tvalidation_1-rmse:0.58128\n",
      "[265]\tvalidation_0-rmse:0.569931\tvalidation_1-rmse:0.581267\n",
      "[266]\tvalidation_0-rmse:0.569728\tvalidation_1-rmse:0.581303\n",
      "[267]\tvalidation_0-rmse:0.56962\tvalidation_1-rmse:0.581292\n",
      "[268]\tvalidation_0-rmse:0.569409\tvalidation_1-rmse:0.581276\n",
      "[269]\tvalidation_0-rmse:0.569343\tvalidation_1-rmse:0.581225\n",
      "Stopping. Best iteration:\n",
      "[259]\tvalidation_0-rmse:0.571058\tvalidation_1-rmse:0.580989\n",
      "\n"
     ]
    },
    {
     "data": {
      "text/plain": [
       "49.148794174194336"
      ]
     },
     "execution_count": 15,
     "metadata": {},
     "output_type": "execute_result"
    }
   ],
   "source": [
    "from xgboost import XGBRegressor\n",
    "from xgboost import plot_importance\n",
    "import time\n",
    "ts = time.time()\n",
    "\n",
    "model = XGBRegressor(\n",
    "    max_depth=8,\n",
    "    n_estimators=1000,\n",
    "    min_child_weight=300, \n",
    "    colsample_bytree=0.8, \n",
    "    subsample=0.8, \n",
    "    eta=0.3,    \n",
    "    seed=42)\n",
    "\n",
    "model.fit(\n",
    "    X_train1, \n",
    "    Y_train1, \n",
    "    eval_metric=\"rmse\", \n",
    "    eval_set=[(X_train1, Y_train1), (X_test1, Y_test1)], \n",
    "    verbose=True, \n",
    "    early_stopping_rounds = 10)\n",
    "\n",
    "time.time() - ts"
   ]
  },
  {
   "cell_type": "code",
   "execution_count": 23,
   "metadata": {},
   "outputs": [
    {
     "name": "stdout",
     "output_type": "stream",
     "text": [
      "RMSE of XGB Model Rounded: 0.5982676845029381\n",
      "RMSE of XGB Model As is: 0.5809887265245456\n"
     ]
    }
   ],
   "source": [
    "xg_preds=model.predict(X_test1)\n",
    "compare[\"xgb\"]=xg_preds\n",
    "compare[\"xgb_round\"]=np.round(xg_preds,0).astype(\"int64\")\n",
    "\n",
    "print(\"RMSE of XGB Model Rounded:\", mean_squared_error(compare.Target,compare.xgb_round)**0.5)\n",
    "print(\"RMSE of XGB Model As is:\", mean_squared_error(compare.Target,compare.xgb)**0.5)"
   ]
  },
  {
   "cell_type": "code",
   "execution_count": 25,
   "metadata": {},
   "outputs": [
    {
     "data": {
      "text/plain": [
       "<matplotlib.axes._subplots.AxesSubplot at 0x7feb9ff18a20>"
      ]
     },
     "execution_count": 25,
     "metadata": {},
     "output_type": "execute_result"
    },
    {
     "data": {
      "image/png": "[encoded data removed]",
      "text/plain": [
       "<matplotlib.figure.Figure at 0x7feba154dcc0>"
      ]
     },
     "metadata": {
      "needs_background": "light"
     },
     "output_type": "display_data"
    }
   ],
   "source": [
    "feat_importances = pd.Series(model.feature_importances_, index=X_train1.columns)\n",
    "plt.figure(figsize=(20,10)) \n",
    "plt.rcParams.update({'font.size': 22})\n",
    "feat_importances.nlargest(10).plot(kind='barh')"
   ]
  },
  {
   "cell_type": "code",
   "execution_count": 29,
   "metadata": {},
   "outputs": [
    {
     "name": "stdout",
     "output_type": "stream",
     "text": [
      "Number times the models match: 32051\n",
      "vs total number of predictions: 33915\n"
     ]
    }
   ],
   "source": [
    "print(\"Number times the models match:\",len(compare[compare.preds2==compare.xgb_round]))\n",
    "print(\"vs total number of predictions:\", len(compare))"
   ]
  },
  {
   "cell_type": "code",
   "execution_count": 28,
   "metadata": {},
   "outputs": [],
   "source": [
    "with open('/home/cdsw/Models/xgb_1000', 'wb') as f:\n",
    "    pickle.dump(model, f)"
   ]
  },
  {
   "cell_type": "code",
   "execution_count": 30,
   "metadata": {},
   "outputs": [],
   "source": [
    "NovData2=pd.read_csv(\"/home/cdsw/Novdata_for_mod2_v2.csv\")\n",
    "NovData2_2=NovData2.drop([\"Target\"],axis=\"columns\")\n",
    "NovData2_2[\"AV3Months\"]=NovData2_2.loc[: , \"Shop_min3\":\"Shop_min1\"].mean(axis=1)\n",
    "NovData2_2.drop(NovData2_2.columns.to_series().loc[\"Unnamed: 0\":\"shop_id\"],axis=1,inplace=True)\n",
    "\n",
    "#predict the results from the remaining data\n",
    "preds2=pd.Series(model.predict(NovData2_2))"
   ]
  },
  {
   "cell_type": "code",
   "execution_count": 31,
   "metadata": {},
   "outputs": [],
   "source": [
    "submission=pd.read_csv(\"/home/cdsw/01_future-sales/data/test.csv\")\n",
    "#Need to append to orig data sets\n",
    "prep2=NovData2.loc[:,[\"shop_id\",\"item_id\"]]\n",
    "prep2.reset_index(drop=True,inplace=True)\n",
    "prep2[\"Sales_preds2\"]=preds2\n",
    "\n",
    "sub2=pd.merge(submission, prep2, how=\"left\", on=[\"shop_id\",\"item_id\"])"
   ]
  },
  {
   "cell_type": "code",
   "execution_count": 36,
   "metadata": {},
   "outputs": [
    {
     "data": {
      "text/html": [
       "<div>\n",
       "<style>\n",
       "    .dataframe thead tr:only-child th {\n",
       "        text-align: right;\n",
       "    }\n",
       "\n",
       "    .dataframe thead th {\n",
       "        text-align: left;\n",
       "    }\n",
       "\n",
       "    .dataframe tbody tr th {\n",
       "        vertical-align: top;\n",
       "    }\n",
       "</style>\n",
       "<table border=\"1\" class=\"dataframe\">\n",
       "  <thead>\n",
       "    <tr style=\"text-align: right;\">\n",
       "      <th></th>\n",
       "      <th>ID</th>\n",
       "      <th>item_cnt_month</th>\n",
       "    </tr>\n",
       "  </thead>\n",
       "  <tbody>\n",
       "    <tr>\n",
       "      <th>0</th>\n",
       "      <td>0</td>\n",
       "      <td>1.401988</td>\n",
       "    </tr>\n",
       "    <tr>\n",
       "      <th>1</th>\n",
       "      <td>1</td>\n",
       "      <td>0.000000</td>\n",
       "    </tr>\n",
       "    <tr>\n",
       "      <th>2</th>\n",
       "      <td>2</td>\n",
       "      <td>1.744297</td>\n",
       "    </tr>\n",
       "    <tr>\n",
       "      <th>3</th>\n",
       "      <td>3</td>\n",
       "      <td>1.101410</td>\n",
       "    </tr>\n",
       "    <tr>\n",
       "      <th>4</th>\n",
       "      <td>4</td>\n",
       "      <td>0.000000</td>\n",
       "    </tr>\n",
       "  </tbody>\n",
       "</table>\n",
       "</div>"
      ],
      "text/plain": [
       "   ID  item_cnt_month\n",
       "0   0        1.401988\n",
       "1   1        0.000000\n",
       "2   2        1.744297\n",
       "3   3        1.101410\n",
       "4   4        0.000000"
      ]
     },
     "execution_count": 36,
     "metadata": {},
     "output_type": "execute_result"
    }
   ],
   "source": [
    "sub3=sub2.fillna(0)\n",
    "sub3.drop([\"shop_id\",\"item_id\"],axis=1, inplace=True)\n",
    "sub3.columns=[\"ID\",\"item_cnt_month\"]\n",
    "sub3.to_csv(\"/home/cdsw/Submission_on_data2_xgb1000.csv\",index=False)\n",
    "sub3.head()"
   ]
  }
 ],
 "metadata": {
  "kernelspec": {
   "display_name": "Python 3",
   "language": "python",
   "name": "python3"
  },
  "language_info": {
   "codemirror_mode": {
    "name": "ipython",
    "version": 3
   },
   "file_extension": ".py",
   "mimetype": "text/x-python",
   "name": "python",
   "nbconvert_exporter": "python",
   "pygments_lexer": "ipython3",
   "version": "3.6.8"
  }
 },
 "nbformat": 4,
 "nbformat_minor": 2
}
