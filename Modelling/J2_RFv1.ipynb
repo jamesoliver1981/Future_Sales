{
 "cells": [
  {
   "cell_type": "code",
   "execution_count": 76,
   "metadata": {},
   "outputs": [],
   "source": [
    "#first modelling attempt\n",
    "#first create the data splits - due to skewed data, create test and train in 2 groups.  One in the low end, one in high end"
   ]
  },
  {
   "cell_type": "code",
   "execution_count": 77,
   "metadata": {},
   "outputs": [],
   "source": [
    "from sklearn.model_selection import train_test_split\n",
    "from sklearn.metrics import mean_squared_error\n",
    "from sklearn.ensemble import RandomForestRegressor\n",
    "import pickle\n",
    "import pandas as pd\n",
    "from matplotlib import pyplot as plt\n",
    "import numpy as np\n",
    "import os\n",
    "endtrain=pd.read_csv(\"/home/cdsw/all_data_with_features.csv\")"
   ]
  },
  {
   "cell_type": "code",
   "execution_count": 78,
   "metadata": {},
   "outputs": [
    {
     "name": "stdout",
     "output_type": "stream",
     "text": [
      "(70895, 1)\n",
      "(70895, 57)\n",
      "(566, 1)\n",
      "(566, 57)\n",
      "(71461, 58)\n"
     ]
    }
   ],
   "source": [
    "end_small=endtrain[endtrain.Target <9]\n",
    "end_big=endtrain[endtrain.Target>=9]\n",
    "y1=end_small[[\"Target\"]]\n",
    "X1=end_small.drop(\"Target\", axis=1)\n",
    "y2=end_big[[\"Target\"]]\n",
    "X2=end_big.drop(\"Target\", axis=1)\n",
    "\n",
    "print(y1.shape)\n",
    "print(X1.shape)\n",
    "print(y2.shape)\n",
    "print(X2.shape)\n",
    "\n",
    "print(endtrain.shape)\n",
    "X_train1, X_test1,Y_train1, Y_test1 = train_test_split(X1,y1,test_size=0.3, \n",
    "                                                   random_state=428)\n",
    "X_train2, X_test2,Y_train2, Y_test2 = train_test_split(X2,y2,test_size=0.3, \n",
    "                                                   random_state=428)"
   ]
  },
  {
   "cell_type": "code",
   "execution_count": 79,
   "metadata": {},
   "outputs": [
    {
     "data": {
      "text/html": [
       "<div>\n",
       "<style>\n",
       "    .dataframe thead tr:only-child th {\n",
       "        text-align: right;\n",
       "    }\n",
       "\n",
       "    .dataframe thead th {\n",
       "        text-align: left;\n",
       "    }\n",
       "\n",
       "    .dataframe tbody tr th {\n",
       "        vertical-align: top;\n",
       "    }\n",
       "</style>\n",
       "<table border=\"1\" class=\"dataframe\">\n",
       "  <thead>\n",
       "    <tr style=\"text-align: right;\">\n",
       "      <th></th>\n",
       "      <th>Target</th>\n",
       "      <th>Count_Train1</th>\n",
       "      <th>Prop_CountTrain1</th>\n",
       "    </tr>\n",
       "  </thead>\n",
       "  <tbody>\n",
       "    <tr>\n",
       "      <th>0</th>\n",
       "      <td>-1</td>\n",
       "      <td>31</td>\n",
       "      <td>0.000625</td>\n",
       "    </tr>\n",
       "    <tr>\n",
       "      <th>1</th>\n",
       "      <td>0</td>\n",
       "      <td>26172</td>\n",
       "      <td>0.527385</td>\n",
       "    </tr>\n",
       "    <tr>\n",
       "      <th>2</th>\n",
       "      <td>1</td>\n",
       "      <td>17077</td>\n",
       "      <td>0.344114</td>\n",
       "    </tr>\n",
       "    <tr>\n",
       "      <th>3</th>\n",
       "      <td>2</td>\n",
       "      <td>3669</td>\n",
       "      <td>0.073933</td>\n",
       "    </tr>\n",
       "    <tr>\n",
       "      <th>4</th>\n",
       "      <td>3</td>\n",
       "      <td>1311</td>\n",
       "      <td>0.026418</td>\n",
       "    </tr>\n",
       "    <tr>\n",
       "      <th>5</th>\n",
       "      <td>4</td>\n",
       "      <td>656</td>\n",
       "      <td>0.013219</td>\n",
       "    </tr>\n",
       "    <tr>\n",
       "      <th>6</th>\n",
       "      <td>5</td>\n",
       "      <td>320</td>\n",
       "      <td>0.006448</td>\n",
       "    </tr>\n",
       "    <tr>\n",
       "      <th>7</th>\n",
       "      <td>6</td>\n",
       "      <td>187</td>\n",
       "      <td>0.003768</td>\n",
       "    </tr>\n",
       "    <tr>\n",
       "      <th>8</th>\n",
       "      <td>7</td>\n",
       "      <td>125</td>\n",
       "      <td>0.002519</td>\n",
       "    </tr>\n",
       "    <tr>\n",
       "      <th>9</th>\n",
       "      <td>8</td>\n",
       "      <td>78</td>\n",
       "      <td>0.001572</td>\n",
       "    </tr>\n",
       "  </tbody>\n",
       "</table>\n",
       "</div>"
      ],
      "text/plain": [
       "   Target  Count_Train1  Prop_CountTrain1\n",
       "0      -1            31          0.000625\n",
       "1       0         26172          0.527385\n",
       "2       1         17077          0.344114\n",
       "3       2          3669          0.073933\n",
       "4       3          1311          0.026418\n",
       "5       4           656          0.013219\n",
       "6       5           320          0.006448\n",
       "7       6           187          0.003768\n",
       "8       7           125          0.002519\n",
       "9       8            78          0.001572"
      ]
     },
     "execution_count": 79,
     "metadata": {},
     "output_type": "execute_result"
    }
   ],
   "source": [
    "#Validate splits by looking at splits\n",
    "check3=Y_train1.groupby([\"Target\"])[\"Target\"].count().reset_index(name ='Count_Train1')\n",
    "#check1.columns=[\"Target\",\"Count_Train2\"]\n",
    "check3[\"Prop_CountTrain1\"]=check3.Count_Train1/sum(check3.Count_Train1)\n",
    "check3"
   ]
  },
  {
   "cell_type": "code",
   "execution_count": 80,
   "metadata": {},
   "outputs": [
    {
     "data": {
      "text/html": [
       "<div>\n",
       "<style>\n",
       "    .dataframe thead tr:only-child th {\n",
       "        text-align: right;\n",
       "    }\n",
       "\n",
       "    .dataframe thead th {\n",
       "        text-align: left;\n",
       "    }\n",
       "\n",
       "    .dataframe tbody tr th {\n",
       "        vertical-align: top;\n",
       "    }\n",
       "</style>\n",
       "<table border=\"1\" class=\"dataframe\">\n",
       "  <thead>\n",
       "    <tr style=\"text-align: right;\">\n",
       "      <th></th>\n",
       "      <th>Target</th>\n",
       "      <th>Count_Test2</th>\n",
       "      <th>Prop_CountTest2</th>\n",
       "    </tr>\n",
       "  </thead>\n",
       "  <tbody>\n",
       "    <tr>\n",
       "      <th>0</th>\n",
       "      <td>-2</td>\n",
       "      <td>1</td>\n",
       "      <td>0.000047</td>\n",
       "    </tr>\n",
       "    <tr>\n",
       "      <th>1</th>\n",
       "      <td>-1</td>\n",
       "      <td>13</td>\n",
       "      <td>0.000611</td>\n",
       "    </tr>\n",
       "    <tr>\n",
       "      <th>2</th>\n",
       "      <td>0</td>\n",
       "      <td>11235</td>\n",
       "      <td>0.528234</td>\n",
       "    </tr>\n",
       "    <tr>\n",
       "      <th>3</th>\n",
       "      <td>1</td>\n",
       "      <td>7303</td>\n",
       "      <td>0.343364</td>\n",
       "    </tr>\n",
       "    <tr>\n",
       "      <th>4</th>\n",
       "      <td>2</td>\n",
       "      <td>1617</td>\n",
       "      <td>0.076026</td>\n",
       "    </tr>\n",
       "    <tr>\n",
       "      <th>5</th>\n",
       "      <td>3</td>\n",
       "      <td>542</td>\n",
       "      <td>0.025483</td>\n",
       "    </tr>\n",
       "    <tr>\n",
       "      <th>6</th>\n",
       "      <td>4</td>\n",
       "      <td>233</td>\n",
       "      <td>0.010955</td>\n",
       "    </tr>\n",
       "    <tr>\n",
       "      <th>7</th>\n",
       "      <td>5</td>\n",
       "      <td>149</td>\n",
       "      <td>0.007006</td>\n",
       "    </tr>\n",
       "    <tr>\n",
       "      <th>8</th>\n",
       "      <td>6</td>\n",
       "      <td>87</td>\n",
       "      <td>0.004090</td>\n",
       "    </tr>\n",
       "    <tr>\n",
       "      <th>9</th>\n",
       "      <td>7</td>\n",
       "      <td>58</td>\n",
       "      <td>0.002727</td>\n",
       "    </tr>\n",
       "    <tr>\n",
       "      <th>10</th>\n",
       "      <td>8</td>\n",
       "      <td>31</td>\n",
       "      <td>0.001458</td>\n",
       "    </tr>\n",
       "  </tbody>\n",
       "</table>\n",
       "</div>"
      ],
      "text/plain": [
       "    Target  Count_Test2  Prop_CountTest2\n",
       "0       -2            1         0.000047\n",
       "1       -1           13         0.000611\n",
       "2        0        11235         0.528234\n",
       "3        1         7303         0.343364\n",
       "4        2         1617         0.076026\n",
       "5        3          542         0.025483\n",
       "6        4          233         0.010955\n",
       "7        5          149         0.007006\n",
       "8        6           87         0.004090\n",
       "9        7           58         0.002727\n",
       "10       8           31         0.001458"
      ]
     },
     "execution_count": 80,
     "metadata": {},
     "output_type": "execute_result"
    }
   ],
   "source": [
    "check4=Y_test1.groupby([\"Target\"])[\"Target\"].count().reset_index(name=\"Count_Test2\")\n",
    "check4[\"Prop_CountTest2\"]=check4.Count_Test2/sum(check4.Count_Test2)\n",
    "check4"
   ]
  },
  {
   "cell_type": "code",
   "execution_count": 81,
   "metadata": {},
   "outputs": [],
   "source": [
    "X_train=pd.concat([X_train1, X_train2])\n",
    "X_test=pd.concat([X_test1,X_test2])\n",
    "Y_train=pd.concat([Y_train1,Y_train2])\n",
    "Y_test=pd.concat([Y_test1,Y_test2])"
   ]
  },
  {
   "cell_type": "code",
   "execution_count": 82,
   "metadata": {
    "scrolled": true
   },
   "outputs": [
    {
     "name": "stdout",
     "output_type": "stream",
     "text": [
      "(50022, 57)\n",
      "(21439, 57)\n",
      "(50022, 1)\n",
      "(21439, 1)\n"
     ]
    }
   ],
   "source": [
    "print(X_train.shape)\n",
    "print(X_test.shape)\n",
    "print(Y_train.shape)\n",
    "print(Y_test.shape)"
   ]
  },
  {
   "cell_type": "code",
   "execution_count": 83,
   "metadata": {},
   "outputs": [],
   "source": [
    "#reduce to the last year of data to see if can get a better read - also appeared to have some off variables\n",
    "X_train3=X_train.drop(X_train.iloc[:,0:23],axis=1)\n",
    "X_test3=X_test.drop(X_test.iloc[:,0:23],axis=1)"
   ]
  },
  {
   "cell_type": "code",
   "execution_count": 84,
   "metadata": {},
   "outputs": [
    {
     "data": {
      "text/plain": [
       "RandomForestRegressor(bootstrap=True, criterion='mse', max_depth=None,\n",
       "                      max_features='auto', max_leaf_nodes=None,\n",
       "                      min_impurity_decrease=0.0, min_impurity_split=None,\n",
       "                      min_samples_leaf=5, min_samples_split=2,\n",
       "                      min_weight_fraction_leaf=0.0, n_estimators=1000,\n",
       "                      n_jobs=None, oob_score=False, random_state=42, verbose=0,\n",
       "                      warm_start=False)"
      ]
     },
     "execution_count": 84,
     "metadata": {},
     "output_type": "execute_result"
    }
   ],
   "source": [
    "# Instantiate model with 1000 decision trees & minimum 5 leafs\n",
    "rf2 = RandomForestRegressor(n_estimators = 1000, min_samples_leaf=5,random_state = 42)\n",
    "# Train the model on training data\n",
    "rf2.fit(X_train3, Y_train.values.ravel())"
   ]
  },
  {
   "cell_type": "code",
   "execution_count": 85,
   "metadata": {},
   "outputs": [
    {
     "name": "stdout",
     "output_type": "stream",
     "text": [
      "Pure RMSE based only on present data: 2.224890469147072\n",
      "RMSE with assumed 0's of long absent data: 0.9133199857215228\n"
     ]
    }
   ],
   "source": [
    "#Create a view to be able to see the differences in performance & evaluate the RMSE\n",
    "compare=Y_test\n",
    "compare.reset_index(drop=True,inplace=True)\n",
    "\n",
    "yhat2=pd.Series(rf2.predict(X_test3))\n",
    "compare[\"preds2\"]=round(yhat2,0).astype(\"int64\")\n",
    "#There is a lot which hasnot been sold in many months - will predict zeros for these\n",
    "adds=pd.DataFrame({\"Target\": np.repeat(0,105787),\"preds2\" : np.repeat(0,105787)})\n",
    "\n",
    "compare2=pd.concat([compare, adds],axis=0)\n",
    "print(\"Pure RMSE based only on present data:\", mean_squared_error(compare.Target,compare.preds2)**0.5)\n",
    "print(\"RMSE with assumed 0's of long absent data:\",mean_squared_error(compare2.Target, compare2.preds2)**0.5)"
   ]
  },
  {
   "cell_type": "code",
   "execution_count": 86,
   "metadata": {},
   "outputs": [
    {
     "data": {
      "text/plain": [
       "<matplotlib.axes._subplots.AxesSubplot at 0x7f63887f6860>"
      ]
     },
     "execution_count": 86,
     "metadata": {},
     "output_type": "execute_result"
    },
    {
     "data": {
      "image/png": "[encoded data removed]",
      "text/plain": [
       "<matplotlib.figure.Figure at 0x7f63887c4e10>"
      ]
     },
     "metadata": {
      "needs_background": "light"
     },
     "output_type": "display_data"
    }
   ],
   "source": [
    "#This would get me top 1000,or top 25%\n",
    "feat_importances = pd.Series(rf2.feature_importances_, index=X_train3.columns)\n",
    "feat_importances.nlargest(10).plot(kind='barh')\n",
    "\n",
    "#this chart is a little werid. I have the feeling that its basically saying, sales were 0 or one before... look at & understand\n",
    "#am I adding too much complication where so many are 1 or 0... seperate models?"
   ]
  },
  {
   "cell_type": "code",
   "execution_count": 87,
   "metadata": {},
   "outputs": [],
   "source": [
    "with open('/home/cdsw/Models/rf_red_1000_min5_v2', 'wb') as f:\n",
    "    pickle.dump(rf2, f)"
   ]
  },
  {
   "cell_type": "code",
   "execution_count": 88,
   "metadata": {},
   "outputs": [],
   "source": [
    "#evaluate the model in same way, get var importance: post in Kaggle"
   ]
  }
 ],
 "metadata": {
  "kernelspec": {
   "display_name": "Python 3",
   "language": "python",
   "name": "python3"
  },
  "language_info": {
   "codemirror_mode": {
    "name": "ipython",
    "version": 3
   },
   "file_extension": ".py",
   "mimetype": "text/x-python",
   "name": "python",
   "nbconvert_exporter": "python",
   "pygments_lexer": "ipython3",
   "version": "3.6.8"
  }
 },
 "nbformat": 4,
 "nbformat_minor": 2
}
