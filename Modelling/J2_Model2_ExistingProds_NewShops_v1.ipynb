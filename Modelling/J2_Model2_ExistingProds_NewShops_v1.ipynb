{
 "cells": [
  {
   "cell_type": "code",
   "execution_count": null,
   "metadata": {},
   "outputs": [],
   "source": [
    "#modelling of second model\n",
    "#those that were sold elsewhere but not in these shops\n",
    "#do you drop those products which only sold total of 1's on average in last 3 months?  Does that make it easier for the mod to find something?"
   ]
  },
  {
   "cell_type": "code",
   "execution_count": 87,
   "metadata": {},
   "outputs": [],
   "source": [
    "from sklearn.model_selection import train_test_split\n",
    "from sklearn.metrics import mean_squared_error\n",
    "from sklearn.ensemble import RandomForestRegressor\n",
    "import pickle\n",
    "import pandas as pd\n",
    "from matplotlib import pyplot as plt\n",
    "import numpy as np\n",
    "import os\n",
    "df=pd.read_csv(\"/home/cdsw/train_for_mod2_v1.csv\")"
   ]
  },
  {
   "cell_type": "code",
   "execution_count": 88,
   "metadata": {},
   "outputs": [
    {
     "name": "stderr",
     "output_type": "stream",
     "text": [
      "/usr/local/lib/python3.6/dist-packages/ipykernel_launcher.py:6: SettingWithCopyWarning: \n",
      "A value is trying to be set on a copy of a slice from a DataFrame\n",
      "\n",
      "See the caveats in the documentation: http://pandas.pydata.org/pandas-docs/stable/indexing.html#indexing-view-versus-copy\n",
      "  \n"
     ]
    },
    {
     "data": {
      "text/plain": [
       "Index(['S&P_min9', 'S&P_min8', 'S&P_min7', 'S&P_min6', 'S&P_min5', 'S&P_min4',\n",
       "       'S&P_min3', 'S&P_min2', 'S&P_min1', 'Target', 'Prod_min9', 'Prod_min8',\n",
       "       'Prod_min7', 'Prod_min6', 'Prod_min5', 'Prod_min4', 'Prod_min3',\n",
       "       'Prod_min2', 'Prod_min1', 'Shop_min9', 'Shop_min8', 'Shop_min7',\n",
       "       'Shop_min6', 'Shop_min5', 'Shop_min4', 'Shop_min3', 'Shop_min2',\n",
       "       'Shop_min1', 'TotShop_min9', 'TotShop_min8', 'TotShop_min7',\n",
       "       'TotShop_min6', 'TotShop_min5', 'TotShop_min4', 'TotShop_min3',\n",
       "       'TotShop_min2', 'TotShop_min1', 'PPStd_min9', 'PPStd_min8',\n",
       "       'PPStd_min7', 'PPStd_min6', 'PPStd_min5', 'PPStd_min4', 'PPStd_min3',\n",
       "       'PPStd_min2', 'PPStd_min1', 'AV3Months'],\n",
       "      dtype='object')"
      ]
     },
     "execution_count": 88,
     "metadata": {},
     "output_type": "execute_result"
    }
   ],
   "source": [
    "#there are 118k observations here - if I remove those where number shops were 1 or less last month\n",
    "#this is about trying to predict sales in new shops, seen that tend to extend\n",
    "df_check=df\n",
    "df_check[\"AV3Months\"]=df.loc[: , \"Shop_min3\":\"Shop_min1\"].mean(axis=1)\n",
    "df_check2=df_check[df_check.AV3Months >1]\n",
    "df_check2.drop(df_check2.columns.to_series().loc[\"Unnamed: 0\":\"shop_id\"],axis=1,inplace=True)\n",
    "\n",
    "df_check2.columns\n",
    "\n",
    "#this means need to look up the amount of shops sold in for that product, and if 1 or less, & not in another score then predicting zero"
   ]
  },
  {
   "cell_type": "code",
   "execution_count": 89,
   "metadata": {},
   "outputs": [],
   "source": [
    "#split into train and test set\n",
    "Y1=df_check2[[\"Target\"]]\n",
    "X1=df_check2.drop([\"Target\"],axis=1)\n",
    "\n",
    "X_train1, X_test1,Y_train1, Y_test1 = train_test_split(X1,Y1,test_size=0.3, \n",
    "                                                   random_state=428)"
   ]
  },
  {
   "cell_type": "code",
   "execution_count": 75,
   "metadata": {},
   "outputs": [
    {
     "name": "stdout",
     "output_type": "stream",
     "text": [
      "Time:  325.3745172023773\n"
     ]
    }
   ],
   "source": [
    "import time\n",
    "start = time.time()\n",
    "\n",
    "# Instantiate model with 1000 decision trees & minimum 5 leafs\n",
    "rf2 = RandomForestRegressor(n_estimators = 1000, min_samples_leaf=5,random_state = 428)\n",
    "# Train the model on training data\n",
    "rf2.fit(X_train1, Y_train1.values.ravel())\n",
    "\n",
    "end = time.time()\n",
    "time_taken = end - start\n",
    "print('Time: ',time_taken)"
   ]
  },
  {
   "cell_type": "code",
   "execution_count": 76,
   "metadata": {},
   "outputs": [
    {
     "data": {
      "text/plain": [
       "Target    0\n",
       "preds2    0\n",
       "dtype: int64"
      ]
     },
     "execution_count": 76,
     "metadata": {},
     "output_type": "execute_result"
    }
   ],
   "source": [
    "compare2.isnull().sum()"
   ]
  },
  {
   "cell_type": "code",
   "execution_count": 77,
   "metadata": {},
   "outputs": [
    {
     "name": "stdout",
     "output_type": "stream",
     "text": [
      "Pure RMSE based only on present data: 0.5952289546696087\n"
     ]
    },
    {
     "name": "stderr",
     "output_type": "stream",
     "text": [
      "/usr/local/lib/python3.6/dist-packages/ipykernel_launcher.py:7: SettingWithCopyWarning: \n",
      "A value is trying to be set on a copy of a slice from a DataFrame.\n",
      "Try using .loc[row_indexer,col_indexer] = value instead\n",
      "\n",
      "See the caveats in the documentation: http://pandas.pydata.org/pandas-docs/stable/indexing.html#indexing-view-versus-copy\n",
      "  import sys\n"
     ]
    }
   ],
   "source": [
    "#Create a view to be able to see the differences in performance & evaluate the RMSE\n",
    "compare=Y_test1\n",
    "compare.reset_index(drop=True,inplace=True)\n",
    "#compare.columns=[\"Target\"]\n",
    "\n",
    "yhat2=pd.Series(rf2.predict(X_test1))\n",
    "compare[\"preds2\"]=round(yhat2,0).astype(\"int64\")\n",
    "#compare2=compare.notnull()\n",
    "#There is a lot which hasnot been sold in many months - will predict zeros for these\n",
    "#adds=pd.DataFrame({\"Target\": np.repeat(0,105787),\"preds2\" : np.repeat(0,105787)})\n",
    "\n",
    "#compare2=pd.concat([compare, adds],axis=0)\n",
    "print(\"Pure RMSE based only on present data:\", mean_squared_error(compare.Target,compare.preds2)**0.5)\n",
    "#print(\"RMSE with assumed 0's of long absent data:\",mean_squared_error(compare2.Target, compare2.preds2)**0.5)"
   ]
  },
  {
   "cell_type": "code",
   "execution_count": 90,
   "metadata": {},
   "outputs": [
    {
     "data": {
      "text/plain": [
       "Target    0.16617\n",
       "dtype: float64"
      ]
     },
     "execution_count": 90,
     "metadata": {},
     "output_type": "execute_result"
    }
   ],
   "source": [
    "Y1.mean()"
   ]
  },
  {
   "cell_type": "code",
   "execution_count": 79,
   "metadata": {},
   "outputs": [
    {
     "name": "stdout",
     "output_type": "stream",
     "text": [
      "Observation Predicted: 33915\n",
      "Of which were 0: 30558\n"
     ]
    }
   ],
   "source": [
    "print(\"Observation Predicted:\", len(compare))\n",
    "print(\"Of which were 0:\", len(compare[compare.preds2==0]))"
   ]
  },
  {
   "cell_type": "code",
   "execution_count": 80,
   "metadata": {},
   "outputs": [
    {
     "name": "stderr",
     "output_type": "stream",
     "text": [
      "/usr/local/lib/python3.6/dist-packages/ipykernel_launcher.py:5: SettingWithCopyWarning: \n",
      "A value is trying to be set on a copy of a slice from a DataFrame.\n",
      "Try using .loc[row_indexer,col_indexer] = value instead\n",
      "\n",
      "See the caveats in the documentation: http://pandas.pydata.org/pandas-docs/stable/indexing.html#indexing-view-versus-copy\n",
      "  \"\"\"\n"
     ]
    },
    {
     "data": {
      "text/html": [
       "<div>\n",
       "<style>\n",
       "    .dataframe thead tr:only-child th {\n",
       "        text-align: right;\n",
       "    }\n",
       "\n",
       "    .dataframe thead th {\n",
       "        text-align: left;\n",
       "    }\n",
       "\n",
       "    .dataframe tbody tr th {\n",
       "        vertical-align: top;\n",
       "    }\n",
       "</style>\n",
       "<table border=\"1\" class=\"dataframe\">\n",
       "  <thead>\n",
       "    <tr style=\"text-align: right;\">\n",
       "      <th></th>\n",
       "      <th>0</th>\n",
       "      <th>1</th>\n",
       "      <th>2</th>\n",
       "      <th>3</th>\n",
       "      <th>4</th>\n",
       "      <th>5</th>\n",
       "      <th>6</th>\n",
       "      <th>7</th>\n",
       "      <th>8</th>\n",
       "      <th>9</th>\n",
       "      <th>...</th>\n",
       "      <th>106</th>\n",
       "      <th>107</th>\n",
       "      <th>108</th>\n",
       "      <th>109</th>\n",
       "      <th>110</th>\n",
       "      <th>111</th>\n",
       "      <th>112</th>\n",
       "      <th>113</th>\n",
       "      <th>114</th>\n",
       "      <th>115</th>\n",
       "    </tr>\n",
       "  </thead>\n",
       "  <tbody>\n",
       "    <tr>\n",
       "      <th>priorsold</th>\n",
       "      <td>0</td>\n",
       "      <td>1</td>\n",
       "      <td>2</td>\n",
       "      <td>3</td>\n",
       "      <td>4</td>\n",
       "      <td>5</td>\n",
       "      <td>6</td>\n",
       "      <td>7</td>\n",
       "      <td>8</td>\n",
       "      <td>9</td>\n",
       "      <td>...</td>\n",
       "      <td>210</td>\n",
       "      <td>216</td>\n",
       "      <td>217</td>\n",
       "      <td>237</td>\n",
       "      <td>258</td>\n",
       "      <td>305</td>\n",
       "      <td>347</td>\n",
       "      <td>370</td>\n",
       "      <td>429</td>\n",
       "      <td>752</td>\n",
       "    </tr>\n",
       "    <tr>\n",
       "      <th>CountPriorSales</th>\n",
       "      <td>413</td>\n",
       "      <td>459</td>\n",
       "      <td>286</td>\n",
       "      <td>212</td>\n",
       "      <td>249</td>\n",
       "      <td>174</td>\n",
       "      <td>143</td>\n",
       "      <td>128</td>\n",
       "      <td>140</td>\n",
       "      <td>93</td>\n",
       "      <td>...</td>\n",
       "      <td>1</td>\n",
       "      <td>1</td>\n",
       "      <td>1</td>\n",
       "      <td>1</td>\n",
       "      <td>1</td>\n",
       "      <td>1</td>\n",
       "      <td>1</td>\n",
       "      <td>1</td>\n",
       "      <td>1</td>\n",
       "      <td>1</td>\n",
       "    </tr>\n",
       "  </tbody>\n",
       "</table>\n",
       "<p>2 rows × 116 columns</p>\n",
       "</div>"
      ],
      "text/plain": [
       "                 0    1    2    3    4    5    6    7    8    9   ...   106  \\\n",
       "priorsold          0    1    2    3    4    5    6    7    8    9 ...   210   \n",
       "CountPriorSales  413  459  286  212  249  174  143  128  140   93 ...     1   \n",
       "\n",
       "                 107  108  109  110  111  112  113  114  115  \n",
       "priorsold        216  217  237  258  305  347  370  429  752  \n",
       "CountPriorSales    1    1    1    1    1    1    1    1    1  \n",
       "\n",
       "[2 rows x 116 columns]"
      ]
     },
     "execution_count": 80,
     "metadata": {},
     "output_type": "execute_result"
    }
   ],
   "source": [
    "#want to see of those not predicted 0, were they sold there before? ie does this prediction give me anything\n",
    "# test_features=X_test1.reset_index()\n",
    "testset=pd.concat([X_test1.reset_index(),compare], axis=1)\n",
    "notzeros=testset[testset.preds2!=0]\n",
    "notzeros[\"priorsold\"]=notzeros.loc[:,\"S&P_min9\":\"S&P_min1\"].sum(axis=1)\n",
    "notzeros.groupby([\"priorsold\"])[\"S&P_min1\"].count().reset_index(name=\"CountPriorSales\").transpose()\n",
    "\n"
   ]
  },
  {
   "cell_type": "code",
   "execution_count": null,
   "metadata": {},
   "outputs": [],
   "source": [
    "#so 400 of the 3000 had no prior sales whatsoever... prior prediction removed those where nothing in last 3 months\n",
    "# add in the priors of the 3 months? does this tell me anything new?"
   ]
  },
  {
   "cell_type": "code",
   "execution_count": 81,
   "metadata": {},
   "outputs": [
    {
     "name": "stdout",
     "output_type": "stream",
     "text": [
      "Number which predicted as zero: 30558\n",
      "Num which were actually zero: 29447\n",
      "Accuracy here: 96.0 %\n"
     ]
    }
   ],
   "source": [
    "#of those that were predicted zero -30k- how many were correct\n",
    "zeros=testset[testset.preds2==0]\n",
    "print(\"Number which predicted as zero:\", len(zeros))\n",
    "print(\"Num which were actually zero:\", len(zeros[zeros.Target==0]))\n",
    "print(\"Accuracy here:\", round(len(zeros[zeros.Target==0])/len(zeros)*100,0) ,\"%\")"
   ]
  },
  {
   "cell_type": "code",
   "execution_count": 82,
   "metadata": {},
   "outputs": [
    {
     "data": {
      "text/html": [
       "<div>\n",
       "<style>\n",
       "    .dataframe thead tr:only-child th {\n",
       "        text-align: right;\n",
       "    }\n",
       "\n",
       "    .dataframe thead th {\n",
       "        text-align: left;\n",
       "    }\n",
       "\n",
       "    .dataframe tbody tr th {\n",
       "        vertical-align: top;\n",
       "    }\n",
       "</style>\n",
       "<table border=\"1\" class=\"dataframe\">\n",
       "  <thead>\n",
       "    <tr style=\"text-align: right;\">\n",
       "      <th>Predicted</th>\n",
       "      <th>0</th>\n",
       "      <th>1</th>\n",
       "      <th>2</th>\n",
       "      <th>3</th>\n",
       "      <th>4</th>\n",
       "      <th>5</th>\n",
       "      <th>6</th>\n",
       "      <th>7</th>\n",
       "      <th>8</th>\n",
       "      <th>9</th>\n",
       "      <th>10</th>\n",
       "      <th>11</th>\n",
       "      <th>12</th>\n",
       "      <th>13</th>\n",
       "      <th>15</th>\n",
       "      <th>16</th>\n",
       "    </tr>\n",
       "    <tr>\n",
       "      <th>Actual</th>\n",
       "      <th></th>\n",
       "      <th></th>\n",
       "      <th></th>\n",
       "      <th></th>\n",
       "      <th></th>\n",
       "      <th></th>\n",
       "      <th></th>\n",
       "      <th></th>\n",
       "      <th></th>\n",
       "      <th></th>\n",
       "      <th></th>\n",
       "      <th></th>\n",
       "      <th></th>\n",
       "      <th></th>\n",
       "      <th></th>\n",
       "      <th></th>\n",
       "    </tr>\n",
       "  </thead>\n",
       "  <tbody>\n",
       "    <tr>\n",
       "      <th>-1</th>\n",
       "      <td>1</td>\n",
       "      <td>0</td>\n",
       "      <td>0</td>\n",
       "      <td>0</td>\n",
       "      <td>0</td>\n",
       "      <td>0</td>\n",
       "      <td>0</td>\n",
       "      <td>0</td>\n",
       "      <td>0</td>\n",
       "      <td>0</td>\n",
       "      <td>0</td>\n",
       "      <td>0</td>\n",
       "      <td>0</td>\n",
       "      <td>0</td>\n",
       "      <td>0</td>\n",
       "      <td>0</td>\n",
       "    </tr>\n",
       "    <tr>\n",
       "      <th>0</th>\n",
       "      <td>29447</td>\n",
       "      <td>1286</td>\n",
       "      <td>100</td>\n",
       "      <td>23</td>\n",
       "      <td>12</td>\n",
       "      <td>2</td>\n",
       "      <td>2</td>\n",
       "      <td>0</td>\n",
       "      <td>1</td>\n",
       "      <td>0</td>\n",
       "      <td>0</td>\n",
       "      <td>0</td>\n",
       "      <td>0</td>\n",
       "      <td>0</td>\n",
       "      <td>0</td>\n",
       "      <td>0</td>\n",
       "    </tr>\n",
       "    <tr>\n",
       "      <th>1</th>\n",
       "      <td>988</td>\n",
       "      <td>854</td>\n",
       "      <td>137</td>\n",
       "      <td>38</td>\n",
       "      <td>13</td>\n",
       "      <td>2</td>\n",
       "      <td>2</td>\n",
       "      <td>2</td>\n",
       "      <td>1</td>\n",
       "      <td>0</td>\n",
       "      <td>0</td>\n",
       "      <td>0</td>\n",
       "      <td>0</td>\n",
       "      <td>0</td>\n",
       "      <td>0</td>\n",
       "      <td>0</td>\n",
       "    </tr>\n",
       "    <tr>\n",
       "      <th>2</th>\n",
       "      <td>107</td>\n",
       "      <td>275</td>\n",
       "      <td>84</td>\n",
       "      <td>36</td>\n",
       "      <td>14</td>\n",
       "      <td>7</td>\n",
       "      <td>2</td>\n",
       "      <td>1</td>\n",
       "      <td>0</td>\n",
       "      <td>0</td>\n",
       "      <td>0</td>\n",
       "      <td>0</td>\n",
       "      <td>0</td>\n",
       "      <td>0</td>\n",
       "      <td>0</td>\n",
       "      <td>0</td>\n",
       "    </tr>\n",
       "    <tr>\n",
       "      <th>3</th>\n",
       "      <td>13</td>\n",
       "      <td>93</td>\n",
       "      <td>47</td>\n",
       "      <td>26</td>\n",
       "      <td>14</td>\n",
       "      <td>2</td>\n",
       "      <td>3</td>\n",
       "      <td>1</td>\n",
       "      <td>0</td>\n",
       "      <td>0</td>\n",
       "      <td>0</td>\n",
       "      <td>0</td>\n",
       "      <td>0</td>\n",
       "      <td>0</td>\n",
       "      <td>0</td>\n",
       "      <td>0</td>\n",
       "    </tr>\n",
       "  </tbody>\n",
       "</table>\n",
       "</div>"
      ],
      "text/plain": [
       "Predicted     0     1    2   3   4   5   6   7   8   9   10  11  12  13  15  \\\n",
       "Actual                                                                        \n",
       "-1             1     0    0   0   0   0   0   0   0   0   0   0   0   0   0   \n",
       " 0         29447  1286  100  23  12   2   2   0   1   0   0   0   0   0   0   \n",
       " 1           988   854  137  38  13   2   2   2   1   0   0   0   0   0   0   \n",
       " 2           107   275   84  36  14   7   2   1   0   0   0   0   0   0   0   \n",
       " 3            13    93   47  26  14   2   3   1   0   0   0   0   0   0   0   \n",
       "\n",
       "Predicted  16  \n",
       "Actual         \n",
       "-1          0  \n",
       " 0          0  \n",
       " 1          0  \n",
       " 2          0  \n",
       " 3          0  "
      ]
     },
     "execution_count": 82,
     "metadata": {},
     "output_type": "execute_result"
    }
   ],
   "source": [
    "conf_mat = pd.crosstab(testset['Target'], testset['preds2'], rownames=['Actual'], colnames=['Predicted'])\n",
    "conf_mat.head()"
   ]
  },
  {
   "cell_type": "code",
   "execution_count": 85,
   "metadata": {},
   "outputs": [
    {
     "data": {
      "text/plain": [
       "<matplotlib.axes._subplots.AxesSubplot at 0x7f5b76b8e6a0>"
      ]
     },
     "execution_count": 85,
     "metadata": {},
     "output_type": "execute_result"
    },
    {
     "data": {
      "image/png": "[encoded data removed]",
      "text/plain": [
       "<matplotlib.figure.Figure at 0x7f5b76b8ef98>"
      ]
     },
     "metadata": {
      "needs_background": "light"
     },
     "output_type": "display_data"
    }
   ],
   "source": [
    "feat_importances = pd.Series(rf2.feature_importances_, index=X_train1.columns)\n",
    "plt.figure(figsize=(20,10)) \n",
    "plt.rcParams.update({'font.size': 22})\n",
    "feat_importances.nlargest(10).plot(kind='barh')"
   ]
  },
  {
   "cell_type": "code",
   "execution_count": null,
   "metadata": {},
   "outputs": [],
   "source": [
    "#so next would be to take this and predict on a new November data set - run 2 different combinations\n",
    "#where there were no predictions before, take these but otherwise model 1\n",
    "# variant 2 take this where there are new predictions and the other where not"
   ]
  },
  {
   "cell_type": "code",
   "execution_count": 86,
   "metadata": {},
   "outputs": [],
   "source": [
    "with open('/home/cdsw/Models/mod2_rf_1000_min5_v2', 'wb') as f:\n",
    "    pickle.dump(rf2, f)"
   ]
  }
 ],
 "metadata": {
  "kernelspec": {
   "display_name": "Python 3",
   "language": "python",
   "name": "python3"
  },
  "language_info": {
   "codemirror_mode": {
    "name": "ipython",
    "version": 3
   },
   "file_extension": ".py",
   "mimetype": "text/x-python",
   "name": "python",
   "nbconvert_exporter": "python",
   "pygments_lexer": "ipython3",
   "version": "3.6.8"
  }
 },
 "nbformat": 4,
 "nbformat_minor": 2
}
