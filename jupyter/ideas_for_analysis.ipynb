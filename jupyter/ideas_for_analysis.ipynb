{
 "cells": [
  {
   "cell_type": "code",
   "execution_count": null,
   "metadata": {},
   "outputs": [],
   "source": [
    "#this is where I will put some ideas for analysis on next steps\n",
    "\n",
    "#are there peaks of purchases?  \n",
    "#are there weekend / in week purchases\n",
    "#are there seasonal varieties - \n",
    "# what time period are we predicting\n",
    "# does demand vary by shop / region\n",
    "    # what information do we have per shop? Little with my Russian\n",
    "\n",
    "#given we do not know the days we are predicting,(see test) then this might be an irrelevance\n",
    "\n",
    "#You want to predict the total sales for that month, i.e. one number for each shop/item pair in the test.csv file. - from KAGGLE\n",
    "\n",
    "#so we need to predict a monthly amount... that should take a lot of the variation out of this... \n",
    "#also missing data becomes less of a concern unless have lots in a month\n",
    "\n",
    "# the first part of a month, maybe a good starting point to predict an uptick (given Christmas for December) so maybe don't \n",
    "#use the reduced data\n",
    "#spark?\n",
    "\n",
    "#which shops sells the most\n",
    "# how much is sold general -product - what can we ignore\n",
    "# what is the change /developmnet in the sales\n",
    "    # tie in with price change\n",
    "\n",
    "\n"
   ]
  }
 ],
 "metadata": {
  "kernelspec": {
   "display_name": "Python 3",
   "language": "python",
   "name": "python3"
  },
  "language_info": {
   "codemirror_mode": {
    "name": "ipython",
    "version": 3
   },
   "file_extension": ".py",
   "mimetype": "text/x-python",
   "name": "python",
   "nbconvert_exporter": "python",
   "pygments_lexer": "ipython3",
   "version": "3.6.8"
  }
 },
 "nbformat": 4,
 "nbformat_minor": 2
}
