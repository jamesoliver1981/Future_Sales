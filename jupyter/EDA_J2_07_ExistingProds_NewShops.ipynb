{
 "cells": [
  {
   "cell_type": "code",
   "execution_count": null,
   "metadata": {},
   "outputs": [],
   "source": [
    "#need 2 models\n",
    "    #1.  Predict completely new products -373 prods generating 15k submissions\n",
    "    #2.  Predict sales for those that have sales in the past, but not in certain shops\n",
    "#This EDA focuses on the 2nd element\n"
   ]
  },
  {
   "cell_type": "code",
   "execution_count": null,
   "metadata": {},
   "outputs": [],
   "source": [
    "#need to look at new products and see how they change\n",
    "#grab a product first date - & look at how sales changed over time and how many shops\n",
    "#example item= 22169 (201403 first)\n",
    "#example item2= 22165 (201308)"
   ]
  },
  {
   "cell_type": "code",
   "execution_count": 1,
   "metadata": {},
   "outputs": [],
   "source": [
    "import pandas as pd\n",
    "from matplotlib import pyplot as plt\n",
    "import numpy as np\n",
    "import os\n",
    "import datetime as dt\n",
    "dateCols = ['date']\n",
    "train2=pd.read_csv(\"/home/cdsw/train_plus_not_imputted.csv\",parse_dates=dateCols)\n",
    "train2[\"TotalRevenue\"]=train2.item_cnt_day*train2.item_price\n",
    "train2[\"Month\"]=train2.date.dt.month\n",
    "train2[\"Year\"]=train2.date.dt.year\n",
    "train2['YM'] = train2['Year']*100+train2[\"Month\"]\n",
    "\n",
    "# #create an average per month - see how it changes\n",
    "# sales_per_item_PM= train2.groupby(['item_id', \"shop_id\",'YM'])['item_cnt_day',\"TotalRevenue\" ].sum().reset_index()\n",
    "# sales_per_item_PM[\"AvPrice\"]=sales_per_item_PM.TotalRevenue/sales_per_item_PM.item_cnt_day\n",
    "# sales_per_item_PM[\"id\"]=sales_per_item_PM.item_id.astype(\"str\")+\"_\"+sales_per_item_PM.shop_id.astype(\"str\")"
   ]
  },
  {
   "cell_type": "code",
   "execution_count": 3,
   "metadata": {},
   "outputs": [
    {
     "data": {
      "text/html": [
       "<div>\n",
       "<style>\n",
       "    .dataframe thead tr:only-child th {\n",
       "        text-align: right;\n",
       "    }\n",
       "\n",
       "    .dataframe thead th {\n",
       "        text-align: left;\n",
       "    }\n",
       "\n",
       "    .dataframe tbody tr th {\n",
       "        vertical-align: top;\n",
       "    }\n",
       "</style>\n",
       "<table border=\"1\" class=\"dataframe\">\n",
       "  <thead>\n",
       "    <tr style=\"text-align: right;\">\n",
       "      <th></th>\n",
       "      <th>YM</th>\n",
       "      <th>shop_id</th>\n",
       "      <th>Count</th>\n",
       "    </tr>\n",
       "  </thead>\n",
       "  <tbody>\n",
       "    <tr>\n",
       "      <th>0</th>\n",
       "      <td>201308</td>\n",
       "      <td>55</td>\n",
       "      <td>1</td>\n",
       "    </tr>\n",
       "    <tr>\n",
       "      <th>1</th>\n",
       "      <td>201405</td>\n",
       "      <td>55</td>\n",
       "      <td>1</td>\n",
       "    </tr>\n",
       "  </tbody>\n",
       "</table>\n",
       "</div>"
      ],
      "text/plain": [
       "       YM  shop_id  Count\n",
       "0  201308       55      1\n",
       "1  201405       55      1"
      ]
     },
     "execution_count": 3,
     "metadata": {},
     "output_type": "execute_result"
    }
   ],
   "source": [
    "#need to look at which products start increasing the number of shops they sell in and when - is it time based?\n",
    "#or is it based on the number of sales they make\n",
    "#how to find out what this should be?"
   ]
  }
 ],
 "metadata": {
  "kernelspec": {
   "display_name": "Python 3",
   "language": "python",
   "name": "python3"
  },
  "language_info": {
   "codemirror_mode": {
    "name": "ipython",
    "version": 3
   },
   "file_extension": ".py",
   "mimetype": "text/x-python",
   "name": "python",
   "nbconvert_exporter": "python",
   "pygments_lexer": "ipython3",
   "version": "3.6.8"
  }
 },
 "nbformat": 4,
 "nbformat_minor": 2
}
