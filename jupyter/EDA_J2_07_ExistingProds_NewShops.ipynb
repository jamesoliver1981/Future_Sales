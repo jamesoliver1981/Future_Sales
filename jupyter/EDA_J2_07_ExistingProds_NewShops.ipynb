{
 "cells": [
  {
   "cell_type": "code",
   "execution_count": 1,
   "metadata": {},
   "outputs": [],
   "source": [
    "#need 2 models\n",
    "    #1.  Predict completely new products -373 prods generating 15k submissions\n",
    "    #2.  Predict sales for those that have sales in the past, but not in certain shops\n",
    "#This EDA focuses on the 2nd element\n"
   ]
  },
  {
   "cell_type": "code",
   "execution_count": 2,
   "metadata": {},
   "outputs": [],
   "source": [
    "#need to look at new products and see how they change\n",
    "#grab a product first date - & look at how sales changed over time and how many shops\n",
    "#example item= 22169 (201403 first)\n",
    "#example item2= 22165 (201308)"
   ]
  },
  {
   "cell_type": "code",
   "execution_count": 3,
   "metadata": {},
   "outputs": [],
   "source": [
    "import pandas as pd\n",
    "from matplotlib import pyplot as plt\n",
    "import numpy as np\n",
    "import os\n",
    "import datetime as dt\n",
    "dateCols = ['date']\n",
    "train2=pd.read_csv(\"/home/cdsw/train_plus_not_imputted.csv\",parse_dates=dateCols)\n",
    "train2[\"TotalRevenue\"]=train2.item_cnt_day*train2.item_price\n",
    "train2[\"Month\"]=train2.date.dt.month\n",
    "train2[\"Year\"]=train2.date.dt.year\n",
    "train2['YM'] = train2['Year']*100+train2[\"Month\"]\n",
    "\n",
    "# #create an average per month - see how it changes\n",
    "# sales_per_item_PM= train2.groupby(['item_id', \"shop_id\",'YM'])['item_cnt_day',\"TotalRevenue\" ].sum().reset_index()\n",
    "# sales_per_item_PM[\"AvPrice\"]=sales_per_item_PM.TotalRevenue/sales_per_item_PM.item_cnt_day\n",
    "# sales_per_item_PM[\"id\"]=sales_per_item_PM.item_id.astype(\"str\")+\"_\"+sales_per_item_PM.shop_id.astype(\"str\")"
   ]
  },
  {
   "cell_type": "code",
   "execution_count": 4,
   "metadata": {},
   "outputs": [
    {
     "data": {
      "text/html": [
       "<div>\n",
       "<style>\n",
       "    .dataframe thead tr:only-child th {\n",
       "        text-align: right;\n",
       "    }\n",
       "\n",
       "    .dataframe thead th {\n",
       "        text-align: left;\n",
       "    }\n",
       "\n",
       "    .dataframe tbody tr th {\n",
       "        vertical-align: top;\n",
       "    }\n",
       "</style>\n",
       "<table border=\"1\" class=\"dataframe\">\n",
       "  <thead>\n",
       "    <tr style=\"text-align: right;\">\n",
       "      <th>YM2</th>\n",
       "      <th>item_id</th>\n",
       "      <th>_201301</th>\n",
       "      <th>_201302</th>\n",
       "      <th>_201303</th>\n",
       "      <th>_201304</th>\n",
       "      <th>_201305</th>\n",
       "      <th>_201306</th>\n",
       "      <th>_201307</th>\n",
       "      <th>_201308</th>\n",
       "      <th>_201309</th>\n",
       "      <th>...</th>\n",
       "      <th>_201503</th>\n",
       "      <th>_201504</th>\n",
       "      <th>_201505</th>\n",
       "      <th>_201506</th>\n",
       "      <th>_201507</th>\n",
       "      <th>_201508</th>\n",
       "      <th>_201509</th>\n",
       "      <th>_201510</th>\n",
       "      <th>_201511</th>\n",
       "      <th>_201512</th>\n",
       "    </tr>\n",
       "  </thead>\n",
       "  <tbody>\n",
       "    <tr>\n",
       "      <th>21787</th>\n",
       "      <td>22150</td>\n",
       "      <td>1</td>\n",
       "      <td>1</td>\n",
       "      <td>0</td>\n",
       "      <td>1</td>\n",
       "      <td>0</td>\n",
       "      <td>1</td>\n",
       "      <td>11</td>\n",
       "      <td>9</td>\n",
       "      <td>4</td>\n",
       "      <td>...</td>\n",
       "      <td>0</td>\n",
       "      <td>0</td>\n",
       "      <td>0</td>\n",
       "      <td>0</td>\n",
       "      <td>0</td>\n",
       "      <td>0</td>\n",
       "      <td>0</td>\n",
       "      <td>0</td>\n",
       "      <td>0</td>\n",
       "      <td>0</td>\n",
       "    </tr>\n",
       "    <tr>\n",
       "      <th>21788</th>\n",
       "      <td>22151</td>\n",
       "      <td>31</td>\n",
       "      <td>27</td>\n",
       "      <td>16</td>\n",
       "      <td>15</td>\n",
       "      <td>13</td>\n",
       "      <td>12</td>\n",
       "      <td>12</td>\n",
       "      <td>7</td>\n",
       "      <td>11</td>\n",
       "      <td>...</td>\n",
       "      <td>0</td>\n",
       "      <td>0</td>\n",
       "      <td>0</td>\n",
       "      <td>0</td>\n",
       "      <td>0</td>\n",
       "      <td>0</td>\n",
       "      <td>0</td>\n",
       "      <td>0</td>\n",
       "      <td>0</td>\n",
       "      <td>0</td>\n",
       "    </tr>\n",
       "    <tr>\n",
       "      <th>21789</th>\n",
       "      <td>22152</td>\n",
       "      <td>4</td>\n",
       "      <td>2</td>\n",
       "      <td>11</td>\n",
       "      <td>9</td>\n",
       "      <td>6</td>\n",
       "      <td>10</td>\n",
       "      <td>10</td>\n",
       "      <td>3</td>\n",
       "      <td>2</td>\n",
       "      <td>...</td>\n",
       "      <td>0</td>\n",
       "      <td>0</td>\n",
       "      <td>0</td>\n",
       "      <td>0</td>\n",
       "      <td>0</td>\n",
       "      <td>0</td>\n",
       "      <td>0</td>\n",
       "      <td>0</td>\n",
       "      <td>0</td>\n",
       "      <td>0</td>\n",
       "    </tr>\n",
       "    <tr>\n",
       "      <th>21790</th>\n",
       "      <td>22153</td>\n",
       "      <td>0</td>\n",
       "      <td>0</td>\n",
       "      <td>0</td>\n",
       "      <td>0</td>\n",
       "      <td>0</td>\n",
       "      <td>0</td>\n",
       "      <td>0</td>\n",
       "      <td>0</td>\n",
       "      <td>0</td>\n",
       "      <td>...</td>\n",
       "      <td>0</td>\n",
       "      <td>0</td>\n",
       "      <td>0</td>\n",
       "      <td>0</td>\n",
       "      <td>0</td>\n",
       "      <td>1</td>\n",
       "      <td>0</td>\n",
       "      <td>0</td>\n",
       "      <td>0</td>\n",
       "      <td>0</td>\n",
       "    </tr>\n",
       "    <tr>\n",
       "      <th>21791</th>\n",
       "      <td>22154</td>\n",
       "      <td>8</td>\n",
       "      <td>5</td>\n",
       "      <td>2</td>\n",
       "      <td>2</td>\n",
       "      <td>5</td>\n",
       "      <td>0</td>\n",
       "      <td>0</td>\n",
       "      <td>3</td>\n",
       "      <td>1</td>\n",
       "      <td>...</td>\n",
       "      <td>1</td>\n",
       "      <td>1</td>\n",
       "      <td>1</td>\n",
       "      <td>0</td>\n",
       "      <td>6</td>\n",
       "      <td>2</td>\n",
       "      <td>1</td>\n",
       "      <td>3</td>\n",
       "      <td>1</td>\n",
       "      <td>1</td>\n",
       "    </tr>\n",
       "    <tr>\n",
       "      <th>21792</th>\n",
       "      <td>22155</td>\n",
       "      <td>2</td>\n",
       "      <td>1</td>\n",
       "      <td>1</td>\n",
       "      <td>11</td>\n",
       "      <td>14</td>\n",
       "      <td>5</td>\n",
       "      <td>3</td>\n",
       "      <td>2</td>\n",
       "      <td>8</td>\n",
       "      <td>...</td>\n",
       "      <td>0</td>\n",
       "      <td>0</td>\n",
       "      <td>0</td>\n",
       "      <td>1</td>\n",
       "      <td>0</td>\n",
       "      <td>0</td>\n",
       "      <td>1</td>\n",
       "      <td>0</td>\n",
       "      <td>0</td>\n",
       "      <td>0</td>\n",
       "    </tr>\n",
       "    <tr>\n",
       "      <th>21793</th>\n",
       "      <td>22156</td>\n",
       "      <td>0</td>\n",
       "      <td>0</td>\n",
       "      <td>1</td>\n",
       "      <td>1</td>\n",
       "      <td>1</td>\n",
       "      <td>0</td>\n",
       "      <td>0</td>\n",
       "      <td>0</td>\n",
       "      <td>0</td>\n",
       "      <td>...</td>\n",
       "      <td>0</td>\n",
       "      <td>0</td>\n",
       "      <td>0</td>\n",
       "      <td>0</td>\n",
       "      <td>0</td>\n",
       "      <td>0</td>\n",
       "      <td>0</td>\n",
       "      <td>0</td>\n",
       "      <td>0</td>\n",
       "      <td>0</td>\n",
       "    </tr>\n",
       "    <tr>\n",
       "      <th>21794</th>\n",
       "      <td>22157</td>\n",
       "      <td>0</td>\n",
       "      <td>2</td>\n",
       "      <td>0</td>\n",
       "      <td>0</td>\n",
       "      <td>1</td>\n",
       "      <td>0</td>\n",
       "      <td>0</td>\n",
       "      <td>0</td>\n",
       "      <td>1</td>\n",
       "      <td>...</td>\n",
       "      <td>0</td>\n",
       "      <td>0</td>\n",
       "      <td>0</td>\n",
       "      <td>0</td>\n",
       "      <td>0</td>\n",
       "      <td>0</td>\n",
       "      <td>0</td>\n",
       "      <td>0</td>\n",
       "      <td>0</td>\n",
       "      <td>0</td>\n",
       "    </tr>\n",
       "    <tr>\n",
       "      <th>21795</th>\n",
       "      <td>22158</td>\n",
       "      <td>0</td>\n",
       "      <td>0</td>\n",
       "      <td>0</td>\n",
       "      <td>0</td>\n",
       "      <td>0</td>\n",
       "      <td>0</td>\n",
       "      <td>0</td>\n",
       "      <td>0</td>\n",
       "      <td>0</td>\n",
       "      <td>...</td>\n",
       "      <td>0</td>\n",
       "      <td>0</td>\n",
       "      <td>0</td>\n",
       "      <td>0</td>\n",
       "      <td>0</td>\n",
       "      <td>0</td>\n",
       "      <td>0</td>\n",
       "      <td>1</td>\n",
       "      <td>0</td>\n",
       "      <td>0</td>\n",
       "    </tr>\n",
       "    <tr>\n",
       "      <th>21796</th>\n",
       "      <td>22159</td>\n",
       "      <td>0</td>\n",
       "      <td>0</td>\n",
       "      <td>0</td>\n",
       "      <td>0</td>\n",
       "      <td>0</td>\n",
       "      <td>0</td>\n",
       "      <td>0</td>\n",
       "      <td>0</td>\n",
       "      <td>0</td>\n",
       "      <td>...</td>\n",
       "      <td>1</td>\n",
       "      <td>0</td>\n",
       "      <td>5</td>\n",
       "      <td>1</td>\n",
       "      <td>1</td>\n",
       "      <td>1</td>\n",
       "      <td>1</td>\n",
       "      <td>1</td>\n",
       "      <td>0</td>\n",
       "      <td>2</td>\n",
       "    </tr>\n",
       "    <tr>\n",
       "      <th>21797</th>\n",
       "      <td>22160</td>\n",
       "      <td>5</td>\n",
       "      <td>3</td>\n",
       "      <td>8</td>\n",
       "      <td>2</td>\n",
       "      <td>3</td>\n",
       "      <td>6</td>\n",
       "      <td>3</td>\n",
       "      <td>3</td>\n",
       "      <td>4</td>\n",
       "      <td>...</td>\n",
       "      <td>0</td>\n",
       "      <td>0</td>\n",
       "      <td>0</td>\n",
       "      <td>0</td>\n",
       "      <td>0</td>\n",
       "      <td>0</td>\n",
       "      <td>0</td>\n",
       "      <td>0</td>\n",
       "      <td>0</td>\n",
       "      <td>0</td>\n",
       "    </tr>\n",
       "    <tr>\n",
       "      <th>21798</th>\n",
       "      <td>22161</td>\n",
       "      <td>0</td>\n",
       "      <td>0</td>\n",
       "      <td>0</td>\n",
       "      <td>0</td>\n",
       "      <td>1</td>\n",
       "      <td>0</td>\n",
       "      <td>0</td>\n",
       "      <td>0</td>\n",
       "      <td>0</td>\n",
       "      <td>...</td>\n",
       "      <td>0</td>\n",
       "      <td>0</td>\n",
       "      <td>0</td>\n",
       "      <td>0</td>\n",
       "      <td>0</td>\n",
       "      <td>0</td>\n",
       "      <td>0</td>\n",
       "      <td>0</td>\n",
       "      <td>0</td>\n",
       "      <td>0</td>\n",
       "    </tr>\n",
       "    <tr>\n",
       "      <th>21799</th>\n",
       "      <td>22162</td>\n",
       "      <td>0</td>\n",
       "      <td>0</td>\n",
       "      <td>0</td>\n",
       "      <td>0</td>\n",
       "      <td>0</td>\n",
       "      <td>0</td>\n",
       "      <td>0</td>\n",
       "      <td>0</td>\n",
       "      <td>0</td>\n",
       "      <td>...</td>\n",
       "      <td>32</td>\n",
       "      <td>22</td>\n",
       "      <td>18</td>\n",
       "      <td>13</td>\n",
       "      <td>21</td>\n",
       "      <td>16</td>\n",
       "      <td>17</td>\n",
       "      <td>21</td>\n",
       "      <td>16</td>\n",
       "      <td>20</td>\n",
       "    </tr>\n",
       "    <tr>\n",
       "      <th>21800</th>\n",
       "      <td>22163</td>\n",
       "      <td>0</td>\n",
       "      <td>0</td>\n",
       "      <td>0</td>\n",
       "      <td>0</td>\n",
       "      <td>0</td>\n",
       "      <td>0</td>\n",
       "      <td>0</td>\n",
       "      <td>0</td>\n",
       "      <td>0</td>\n",
       "      <td>...</td>\n",
       "      <td>2</td>\n",
       "      <td>1</td>\n",
       "      <td>3</td>\n",
       "      <td>0</td>\n",
       "      <td>1</td>\n",
       "      <td>13</td>\n",
       "      <td>8</td>\n",
       "      <td>11</td>\n",
       "      <td>4</td>\n",
       "      <td>2</td>\n",
       "    </tr>\n",
       "    <tr>\n",
       "      <th>21801</th>\n",
       "      <td>22164</td>\n",
       "      <td>0</td>\n",
       "      <td>0</td>\n",
       "      <td>0</td>\n",
       "      <td>0</td>\n",
       "      <td>0</td>\n",
       "      <td>0</td>\n",
       "      <td>0</td>\n",
       "      <td>0</td>\n",
       "      <td>0</td>\n",
       "      <td>...</td>\n",
       "      <td>23</td>\n",
       "      <td>17</td>\n",
       "      <td>9</td>\n",
       "      <td>9</td>\n",
       "      <td>16</td>\n",
       "      <td>20</td>\n",
       "      <td>19</td>\n",
       "      <td>20</td>\n",
       "      <td>23</td>\n",
       "      <td>20</td>\n",
       "    </tr>\n",
       "    <tr>\n",
       "      <th>21802</th>\n",
       "      <td>22165</td>\n",
       "      <td>0</td>\n",
       "      <td>0</td>\n",
       "      <td>0</td>\n",
       "      <td>0</td>\n",
       "      <td>0</td>\n",
       "      <td>0</td>\n",
       "      <td>0</td>\n",
       "      <td>1</td>\n",
       "      <td>0</td>\n",
       "      <td>...</td>\n",
       "      <td>0</td>\n",
       "      <td>0</td>\n",
       "      <td>0</td>\n",
       "      <td>0</td>\n",
       "      <td>0</td>\n",
       "      <td>0</td>\n",
       "      <td>0</td>\n",
       "      <td>0</td>\n",
       "      <td>0</td>\n",
       "      <td>0</td>\n",
       "    </tr>\n",
       "    <tr>\n",
       "      <th>21803</th>\n",
       "      <td>22166</td>\n",
       "      <td>0</td>\n",
       "      <td>1</td>\n",
       "      <td>1</td>\n",
       "      <td>1</td>\n",
       "      <td>1</td>\n",
       "      <td>1</td>\n",
       "      <td>1</td>\n",
       "      <td>1</td>\n",
       "      <td>1</td>\n",
       "      <td>...</td>\n",
       "      <td>1</td>\n",
       "      <td>1</td>\n",
       "      <td>1</td>\n",
       "      <td>1</td>\n",
       "      <td>1</td>\n",
       "      <td>1</td>\n",
       "      <td>1</td>\n",
       "      <td>1</td>\n",
       "      <td>1</td>\n",
       "      <td>1</td>\n",
       "    </tr>\n",
       "    <tr>\n",
       "      <th>21804</th>\n",
       "      <td>22167</td>\n",
       "      <td>6</td>\n",
       "      <td>10</td>\n",
       "      <td>10</td>\n",
       "      <td>9</td>\n",
       "      <td>8</td>\n",
       "      <td>6</td>\n",
       "      <td>6</td>\n",
       "      <td>8</td>\n",
       "      <td>17</td>\n",
       "      <td>...</td>\n",
       "      <td>18</td>\n",
       "      <td>11</td>\n",
       "      <td>10</td>\n",
       "      <td>11</td>\n",
       "      <td>14</td>\n",
       "      <td>13</td>\n",
       "      <td>9</td>\n",
       "      <td>19</td>\n",
       "      <td>7</td>\n",
       "      <td>7</td>\n",
       "    </tr>\n",
       "    <tr>\n",
       "      <th>21805</th>\n",
       "      <td>22168</td>\n",
       "      <td>2</td>\n",
       "      <td>2</td>\n",
       "      <td>0</td>\n",
       "      <td>0</td>\n",
       "      <td>0</td>\n",
       "      <td>0</td>\n",
       "      <td>0</td>\n",
       "      <td>1</td>\n",
       "      <td>1</td>\n",
       "      <td>...</td>\n",
       "      <td>0</td>\n",
       "      <td>0</td>\n",
       "      <td>0</td>\n",
       "      <td>0</td>\n",
       "      <td>0</td>\n",
       "      <td>0</td>\n",
       "      <td>0</td>\n",
       "      <td>0</td>\n",
       "      <td>0</td>\n",
       "      <td>0</td>\n",
       "    </tr>\n",
       "    <tr>\n",
       "      <th>21806</th>\n",
       "      <td>22169</td>\n",
       "      <td>0</td>\n",
       "      <td>0</td>\n",
       "      <td>0</td>\n",
       "      <td>0</td>\n",
       "      <td>0</td>\n",
       "      <td>0</td>\n",
       "      <td>0</td>\n",
       "      <td>0</td>\n",
       "      <td>0</td>\n",
       "      <td>...</td>\n",
       "      <td>0</td>\n",
       "      <td>0</td>\n",
       "      <td>0</td>\n",
       "      <td>0</td>\n",
       "      <td>0</td>\n",
       "      <td>0</td>\n",
       "      <td>0</td>\n",
       "      <td>0</td>\n",
       "      <td>0</td>\n",
       "      <td>0</td>\n",
       "    </tr>\n",
       "  </tbody>\n",
       "</table>\n",
       "<p>20 rows × 37 columns</p>\n",
       "</div>"
      ],
      "text/plain": [
       "YM2    item_id  _201301  _201302  _201303  _201304  _201305  _201306  _201307  \\\n",
       "21787    22150        1        1        0        1        0        1       11   \n",
       "21788    22151       31       27       16       15       13       12       12   \n",
       "21789    22152        4        2       11        9        6       10       10   \n",
       "21790    22153        0        0        0        0        0        0        0   \n",
       "21791    22154        8        5        2        2        5        0        0   \n",
       "21792    22155        2        1        1       11       14        5        3   \n",
       "21793    22156        0        0        1        1        1        0        0   \n",
       "21794    22157        0        2        0        0        1        0        0   \n",
       "21795    22158        0        0        0        0        0        0        0   \n",
       "21796    22159        0        0        0        0        0        0        0   \n",
       "21797    22160        5        3        8        2        3        6        3   \n",
       "21798    22161        0        0        0        0        1        0        0   \n",
       "21799    22162        0        0        0        0        0        0        0   \n",
       "21800    22163        0        0        0        0        0        0        0   \n",
       "21801    22164        0        0        0        0        0        0        0   \n",
       "21802    22165        0        0        0        0        0        0        0   \n",
       "21803    22166        0        1        1        1        1        1        1   \n",
       "21804    22167        6       10       10        9        8        6        6   \n",
       "21805    22168        2        2        0        0        0        0        0   \n",
       "21806    22169        0        0        0        0        0        0        0   \n",
       "\n",
       "YM2    _201308  _201309   ...     _201503  _201504  _201505  _201506  _201507  \\\n",
       "21787        9        4   ...           0        0        0        0        0   \n",
       "21788        7       11   ...           0        0        0        0        0   \n",
       "21789        3        2   ...           0        0        0        0        0   \n",
       "21790        0        0   ...           0        0        0        0        0   \n",
       "21791        3        1   ...           1        1        1        0        6   \n",
       "21792        2        8   ...           0        0        0        1        0   \n",
       "21793        0        0   ...           0        0        0        0        0   \n",
       "21794        0        1   ...           0        0        0        0        0   \n",
       "21795        0        0   ...           0        0        0        0        0   \n",
       "21796        0        0   ...           1        0        5        1        1   \n",
       "21797        3        4   ...           0        0        0        0        0   \n",
       "21798        0        0   ...           0        0        0        0        0   \n",
       "21799        0        0   ...          32       22       18       13       21   \n",
       "21800        0        0   ...           2        1        3        0        1   \n",
       "21801        0        0   ...          23       17        9        9       16   \n",
       "21802        1        0   ...           0        0        0        0        0   \n",
       "21803        1        1   ...           1        1        1        1        1   \n",
       "21804        8       17   ...          18       11       10       11       14   \n",
       "21805        1        1   ...           0        0        0        0        0   \n",
       "21806        0        0   ...           0        0        0        0        0   \n",
       "\n",
       "YM2    _201508  _201509  _201510  _201511  _201512  \n",
       "21787        0        0        0        0        0  \n",
       "21788        0        0        0        0        0  \n",
       "21789        0        0        0        0        0  \n",
       "21790        1        0        0        0        0  \n",
       "21791        2        1        3        1        1  \n",
       "21792        0        1        0        0        0  \n",
       "21793        0        0        0        0        0  \n",
       "21794        0        0        0        0        0  \n",
       "21795        0        0        1        0        0  \n",
       "21796        1        1        1        0        2  \n",
       "21797        0        0        0        0        0  \n",
       "21798        0        0        0        0        0  \n",
       "21799       16       17       21       16       20  \n",
       "21800       13        8       11        4        2  \n",
       "21801       20       19       20       23       20  \n",
       "21802        0        0        0        0        0  \n",
       "21803        1        1        1        1        1  \n",
       "21804       13        9       19        7        7  \n",
       "21805        0        0        0        0        0  \n",
       "21806        0        0        0        0        0  \n",
       "\n",
       "[20 rows x 37 columns]"
      ]
     },
     "execution_count": 4,
     "metadata": {},
     "output_type": "execute_result"
    }
   ],
   "source": [
    "#need to look at which products start increasing the number of shops they sell in and when - is it time based?\n",
    "#or is it based on the number of sales they make\n",
    "#how to find out what this should be? start by identifying which products increase the number of shops they sell in\n",
    "\n",
    "#per product, per month, number of shops\n",
    "shops_per_item_PM= train2.groupby(['item_id',\"shop_id\",'YM'])['shop_id'].count().reset_index(name=\"NumTrans\")\n",
    "shops_per_item_PM2=shops_per_item_PM.groupby([\"item_id\",\"YM\"])[\"shop_id\"].count().reset_index(name=\"Num_Shops\")\n",
    "shops_per_item_PM2[\"YM2\"]=\"_\"+shops_per_item_PM2.YM.astype(\"str\")\n",
    "shops_per_item_PM3=shops_per_item_PM2.pivot_table(index=[\"item_id\"],columns=\"YM2\",values=\"Num_Shops\", fill_value=0).reset_index()\n",
    "shops_per_item_PM3.tail(20)"
   ]
  },
  {
   "cell_type": "code",
   "execution_count": 5,
   "metadata": {},
   "outputs": [],
   "source": [
    "#take cuts of the data, from 201306 onwards\n",
    "# 201306, where all zero before hand, and then examine to see how shop sales on average develop... \n",
    "#are there average lifespans?\n",
    "new1306=shops_per_item_PM3[(shops_per_item_PM3[\"_201306\"] !=0) \n",
    "                           & (shops_per_item_PM3.iloc[:,1]==0)\n",
    "                          &(shops_per_item_PM3.iloc[:,2]==0)\n",
    "                          &(shops_per_item_PM3.iloc[:,3]==0)\n",
    "                          &(shops_per_item_PM3.iloc[:,4]==0)\n",
    "                          &(shops_per_item_PM3.iloc[:,5]==0)]\n",
    "#next time, find those that start in a month and restrict to those\n",
    "\n"
   ]
  },
  {
   "cell_type": "code",
   "execution_count": 6,
   "metadata": {},
   "outputs": [
    {
     "name": "stderr",
     "output_type": "stream",
     "text": [
      "/usr/local/lib/python3.6/dist-packages/ipykernel_launcher.py:1: SettingWithCopyWarning: \n",
      "A value is trying to be set on a copy of a slice from a DataFrame.\n",
      "Try using .loc[row_indexer,col_indexer] = value instead\n",
      "\n",
      "See the caveats in the documentation: http://pandas.pydata.org/pandas-docs/stable/indexing.html#indexing-view-versus-copy\n",
      "  \"\"\"Entry point for launching an IPython kernel.\n"
     ]
    },
    {
     "data": {
      "text/plain": [
       "<matplotlib.axes._subplots.AxesSubplot at 0x7f6a78d7c6a0>"
      ]
     },
     "execution_count": 6,
     "metadata": {},
     "output_type": "execute_result"
    },
    {
     "data": {
      "image/png": "[encoded data removed]",
      "text/plain": [
       "<matplotlib.figure.Figure at 0x7f6a75746f98>"
      ]
     },
     "metadata": {
      "needs_background": "light"
     },
     "output_type": "display_data"
    }
   ],
   "source": [
    "new1306[\"Num_months_Sold\"]=new1306.loc[:,\"_201306\":\"_201509\"].astype(bool).sum(axis=1)\n",
    "new1306.groupby([\"Num_months_Sold\"])[\"item_id\"].count().reset_index().plot(kind=\"bar\",x=\"Num_months_Sold\",y=\"item_id\" )\n",
    "\n",
    "#new1306[new1306.item_id==273].transpose()"
   ]
  },
  {
   "cell_type": "code",
   "execution_count": 7,
   "metadata": {},
   "outputs": [
    {
     "name": "stderr",
     "output_type": "stream",
     "text": [
      "/usr/local/lib/python3.6/dist-packages/ipykernel_launcher.py:9: SettingWithCopyWarning: \n",
      "A value is trying to be set on a copy of a slice from a DataFrame.\n",
      "Try using .loc[row_indexer,col_indexer] = value instead\n",
      "\n",
      "See the caveats in the documentation: http://pandas.pydata.org/pandas-docs/stable/indexing.html#indexing-view-versus-copy\n",
      "  if __name__ == '__main__':\n"
     ]
    },
    {
     "data": {
      "text/plain": [
       "<matplotlib.axes._subplots.AxesSubplot at 0x7f6a7a091b70>"
      ]
     },
     "execution_count": 7,
     "metadata": {},
     "output_type": "execute_result"
    },
    {
     "data": {
      "image/png": "[encoded data removed]",
      "text/plain": [
       "<matplotlib.figure.Figure at 0x7f6a7a027fd0>"
      ]
     },
     "metadata": {
      "needs_background": "light"
     },
     "output_type": "display_data"
    }
   ],
   "source": [
    "#so lots of new products are only ever sold in one month\n",
    "#GOAL REMINDER: we are interested in products that have been sold elsewhere and will extend into other shops\n",
    "#first check that this is a similar picture across prods\n",
    "#read in the first product dates ( created in EDA_J2_06)\n",
    "firsts=pd.read_csv(\"/home/cdsw/firsts.csv\")\n",
    "firsts.rename(columns={\"YM\":\"FirstSale\"}, inplace=True)\n",
    "shops_per_item_PM4=pd.merge(shops_per_item_PM3,firsts[[\"item_id\",\"FirstSale\"]],how=\"left\", on=\"item_id\")\n",
    "new1410=shops_per_item_PM4[shops_per_item_PM4.FirstSale==201410]\n",
    "new1410[\"Num_months_Sold\"]=new1410.loc[:,\"_201410\":\"_201509\"].astype(bool).sum(axis=1)\n",
    "new1410.groupby([\"Num_months_Sold\"])[\"item_id\"].count().reset_index().plot(kind=\"bar\",x=\"Num_months_Sold\",y=\"item_id\" )"
   ]
  },
  {
   "cell_type": "code",
   "execution_count": 8,
   "metadata": {},
   "outputs": [
    {
     "name": "stderr",
     "output_type": "stream",
     "text": [
      "/usr/local/lib/python3.6/dist-packages/ipykernel_launcher.py:2: SettingWithCopyWarning: \n",
      "A value is trying to be set on a copy of a slice from a DataFrame.\n",
      "Try using .loc[row_indexer,col_indexer] = value instead\n",
      "\n",
      "See the caveats in the documentation: http://pandas.pydata.org/pandas-docs/stable/indexing.html#indexing-view-versus-copy\n",
      "  \n"
     ]
    },
    {
     "data": {
      "text/plain": [
       "<matplotlib.axes._subplots.AxesSubplot at 0x7f6a79eef898>"
      ]
     },
     "execution_count": 8,
     "metadata": {},
     "output_type": "execute_result"
    },
    {
     "data": {
      "image/png": "[encoded data removed]",
      "text/plain": [
       "<matplotlib.figure.Figure at 0x7f6a79eb8ac8>"
      ]
     },
     "metadata": {
      "needs_background": "light"
     },
     "output_type": "display_data"
    }
   ],
   "source": [
    "new1402=shops_per_item_PM4[shops_per_item_PM4.FirstSale==201402]\n",
    "new1402[\"Num_months_Sold\"]=new1402.loc[:,\"_201402\":\"_201509\"].astype(bool).sum(axis=1)\n",
    "new1402.groupby([\"Num_months_Sold\"])[\"item_id\"].count().reset_index().plot(kind=\"bar\",x=\"Num_months_Sold\",y=\"item_id\" )"
   ]
  },
  {
   "cell_type": "code",
   "execution_count": 16,
   "metadata": {},
   "outputs": [
    {
     "data": {
      "text/html": [
       "<div>\n",
       "<style>\n",
       "    .dataframe thead tr:only-child th {\n",
       "        text-align: right;\n",
       "    }\n",
       "\n",
       "    .dataframe thead th {\n",
       "        text-align: left;\n",
       "    }\n",
       "\n",
       "    .dataframe tbody tr th {\n",
       "        vertical-align: top;\n",
       "    }\n",
       "</style>\n",
       "<table border=\"1\" class=\"dataframe\">\n",
       "  <thead>\n",
       "    <tr style=\"text-align: right;\">\n",
       "      <th></th>\n",
       "      <th>item_id</th>\n",
       "      <th>YM</th>\n",
       "      <th>Num_Shops</th>\n",
       "      <th>YM2</th>\n",
       "    </tr>\n",
       "  </thead>\n",
       "  <tbody>\n",
       "    <tr>\n",
       "      <th>3479</th>\n",
       "      <td>483</td>\n",
       "      <td>201306</td>\n",
       "      <td>1</td>\n",
       "      <td>_201306</td>\n",
       "    </tr>\n",
       "    <tr>\n",
       "      <th>5130</th>\n",
       "      <td>707</td>\n",
       "      <td>201306</td>\n",
       "      <td>1</td>\n",
       "      <td>_201306</td>\n",
       "    </tr>\n",
       "    <tr>\n",
       "      <th>77071</th>\n",
       "      <td>6461</td>\n",
       "      <td>201306</td>\n",
       "      <td>1</td>\n",
       "      <td>_201306</td>\n",
       "    </tr>\n",
       "    <tr>\n",
       "      <th>77016</th>\n",
       "      <td>6458</td>\n",
       "      <td>201306</td>\n",
       "      <td>1</td>\n",
       "      <td>_201306</td>\n",
       "    </tr>\n",
       "    <tr>\n",
       "      <th>76045</th>\n",
       "      <td>6382</td>\n",
       "      <td>201306</td>\n",
       "      <td>1</td>\n",
       "      <td>_201306</td>\n",
       "    </tr>\n",
       "  </tbody>\n",
       "</table>\n",
       "</div>"
      ],
      "text/plain": [
       "       item_id      YM  Num_Shops      YM2\n",
       "3479       483  201306          1  _201306\n",
       "5130       707  201306          1  _201306\n",
       "77071     6461  201306          1  _201306\n",
       "77016     6458  201306          1  _201306\n",
       "76045     6382  201306          1  _201306"
      ]
     },
     "execution_count": 16,
     "metadata": {},
     "output_type": "execute_result"
    }
   ],
   "source": [
    "sshpdev1306_2.head()"
   ]
  },
  {
   "cell_type": "code",
   "execution_count": 18,
   "metadata": {},
   "outputs": [],
   "source": [
    "#so what doing with this info now - many are short lived... \n",
    "#but want to know those that live a little longer (bc there are some PRODUCTS which were sold prior but not in some shops)\n",
    "#of these how does the number of shops change?\n",
    "\n",
    "#for each of these datasets, reduce to where Num_m >3, and then do a scatter of date x and Num\n",
    "shpdev1306=shops_per_item_PM2[shops_per_item_PM2.item_id.isin(new1306.item_id[new1306.Num_months_Sold>3])].sort_values(\"YM\",ascending=True)\n",
    "#consider merging num months sold and col it by that\n",
    "shpdev1306_2=shpdev1306[(shpdev1306.YM<=201309) &(shpdev1306.YM>=201303)]"
   ]
  },
  {
   "cell_type": "code",
   "execution_count": 33,
   "metadata": {},
   "outputs": [],
   "source": [
    "#re grab firsts, add dates and scatter by dates... if cann\n",
    "#rename the columns in firsts\n",
    "firsts.rename(columns={\"Day\":\"FirstSaleD\",\"date\":\"FirstSaledt\"},inplace=True)\n",
    "#then add the first dates for a scatter if want\n",
    "shpdev1306_3=pd.merge(shpdev1306_2,firsts,how=\"left\",on=\"item_id\")\n",
    "#then re merge to add in the NUm MOnths sold \n",
    "shpdev1306_4=pd.merge(shpdev1306_3, new1306[[\"item_id\",\"Num_months_Sold\"]],how=\"left\", on=\"item_id\")\n",
    "\n",
    "#merge again to add in the Amounts sold (from where)\n",
    "sales_PM=train2.groupby([\"item_id\", \"YM\"])[\"item_cnt_day\"].sum().reset_index(name=\"SoldPM\")\n",
    "shpdev1306_5=pd.merge(shpdev1306_4,sales_PM[[\"item_id\",\"YM\",\"SoldPM\"]],how=\"left\", on=[\"YM\",\"item_id\"])\n",
    "#create a variable that allows you to effectively jitter the data set\n",
    "shpdev1306_5[\"YM_plus\"]=shpdev1306_5.YM.astype(\"str\")+\"_\"+shpdev1306_5.FirstSaleD.astype(\"str\")\n",
    "# recreate the 2 plotly charts\n",
    "\n",
    "#pivot the final by item id and ym2 and num shops as sum - sum is ok bc its per item\n",
    "# then run a group by the ym2 to get the view, item as count - "
   ]
  },
  {
   "cell_type": "code",
   "execution_count": 34,
   "metadata": {},
   "outputs": [
    {
     "data": {
      "application/vnd.plotly.v1+json": {
       "config": {
        "plotlyServerURL": "https://plot.ly"
       },
       "data": [
        {
         "customdata": [
          [
           1
          ],
          [
           1
          ],
          [
           3
          ],
          [
           2
          ],
          [
           1
          ],
          [
           2
          ],
          [
           1
          ],
          [
           1
          ],
          [
           3
          ],
          [
           1
          ],
          [
           12
          ],
          [
           29
          ],
          [
           1
          ],
          [
           7
          ],
          [
           7
          ],
          [
           1
          ],
          [
           2
          ],
          [
           11
          ],
          [
           1
          ],
          [
           1
          ],
          [
           1
          ],
          [
           1
          ],
          [
           1
          ],
          [
           4
          ],
          [
           1
          ],
          [
           1
          ],
          [
           1
          ],
          [
           1
          ],
          [
           1
          ],
          [
           2
          ],
          [
           1
          ],
          [
           1
          ],
          [
           1
          ],
          [
           1
          ],
          [
           1
          ],
          [
           1
          ],
          [
           1
          ],
          [
           1
          ],
          [
           1
          ],
          [
           1
          ],
          [
           1
          ],
          [
           1
          ],
          [
           1
          ],
          [
           1
          ],
          [
           1
          ],
          [
           1
          ],
          [
           1
          ],
          [
           1
          ],
          [
           1
          ],
          [
           2
          ],
          [
           3
          ],
          [
           3
          ],
          [
           2
          ],
          [
           1
          ],
          [
           2
          ],
          [
           1
          ],
          [
           2
          ],
          [
           1
          ],
          [
           1
          ],
          [
           1
          ],
          [
           1
          ],
          [
           1
          ],
          [
           1
          ],
          [
           1
          ],
          [
           2
          ],
          [
           8
          ],
          [
           1
          ],
          [
           1
          ],
          [
           1
          ],
          [
           1
          ],
          [
           1
          ],
          [
           274
          ],
          [
           1
          ],
          [
           1
          ],
          [
           1
          ],
          [
           1
          ],
          [
           1
          ],
          [
           122
          ],
          [
           1
          ],
          [
           2
          ],
          [
           1
          ],
          [
           2
          ],
          [
           1
          ],
          [
           1
          ],
          [
           1
          ],
          [
           1
          ],
          [
           1
          ],
          [
           1
          ],
          [
           1
          ],
          [
           1
          ],
          [
           1
          ],
          [
           1
          ],
          [
           1
          ],
          [
           1
          ],
          [
           1
          ],
          [
           1
          ],
          [
           1
          ],
          [
           1
          ],
          [
           1
          ],
          [
           1
          ],
          [
           1
          ],
          [
           2
          ],
          [
           1
          ],
          [
           1
          ],
          [
           1
          ],
          [
           1
          ],
          [
           2
          ],
          [
           1
          ],
          [
           1
          ],
          [
           1
          ],
          [
           1
          ],
          [
           2
          ],
          [
           1
          ],
          [
           2
          ],
          [
           1
          ],
          [
           2
          ],
          [
           1
          ],
          [
           1
          ],
          [
           3
          ],
          [
           1
          ],
          [
           1
          ],
          [
           1
          ],
          [
           1
          ],
          [
           1
          ],
          [
           1
          ],
          [
           1
          ],
          [
           1
          ],
          [
           1
          ],
          [
           1
          ],
          [
           1
          ],
          [
           6
          ],
          [
           1
          ],
          [
           4
          ],
          [
           3
          ],
          [
           1
          ],
          [
           1
          ],
          [
           3
          ],
          [
           1
          ],
          [
           2
          ],
          [
           1
          ],
          [
           1
          ],
          [
           2
          ],
          [
           10
          ],
          [
           2
          ],
          [
           1
          ],
          [
           1
          ],
          [
           1
          ],
          [
           3
          ],
          [
           2
          ],
          [
           8
          ],
          [
           1
          ],
          [
           1
          ],
          [
           1
          ],
          [
           2
          ],
          [
           38
          ],
          [
           2
          ],
          [
           14
          ],
          [
           1
          ],
          [
           1
          ],
          [
           1
          ],
          [
           1
          ],
          [
           4
          ],
          [
           2
          ],
          [
           3
          ],
          [
           1
          ],
          [
           3
          ],
          [
           1
          ],
          [
           1
          ],
          [
           1
          ],
          [
           1
          ],
          [
           3
          ],
          [
           1
          ],
          [
           52
          ],
          [
           2
          ],
          [
           3
          ],
          [
           1
          ],
          [
           1
          ],
          [
           2
          ],
          [
           7
          ],
          [
           1
          ],
          [
           10
          ],
          [
           1
          ],
          [
           1
          ],
          [
           3
          ],
          [
           117
          ],
          [
           4
          ],
          [
           1
          ],
          [
           1
          ],
          [
           6
          ],
          [
           1
          ],
          [
           1
          ],
          [
           1
          ],
          [
           1
          ],
          [
           1
          ],
          [
           2
          ],
          [
           1
          ],
          [
           1
          ],
          [
           1
          ],
          [
           1
          ],
          [
           1
          ],
          [
           2
          ],
          [
           2
          ],
          [
           7
          ],
          [
           12
          ],
          [
           1
          ],
          [
           1
          ],
          [
           5
          ],
          [
           3
          ],
          [
           9
          ],
          [
           1
          ],
          [
           3
          ],
          [
           1
          ],
          [
           1
          ],
          [
           1
          ],
          [
           46
          ],
          [
           1
          ],
          [
           1
          ],
          [
           1
          ],
          [
           1
          ],
          [
           2
          ],
          [
           1
          ],
          [
           1
          ],
          [
           39
          ],
          [
           2
          ],
          [
           2
          ],
          [
           1
          ],
          [
           1
          ],
          [
           1
          ],
          [
           5
          ],
          [
           1
          ],
          [
           1
          ],
          [
           4
          ],
          [
           1
          ],
          [
           1
          ],
          [
           1
          ],
          [
           3
          ],
          [
           1
          ],
          [
           11
          ],
          [
           1
          ],
          [
           1
          ],
          [
           1
          ],
          [
           1
          ],
          [
           19
          ],
          [
           1
          ],
          [
           1
          ],
          [
           2
          ],
          [
           5
          ],
          [
           1
          ],
          [
           2
          ],
          [
           1
          ],
          [
           1
          ],
          [
           2
          ],
          [
           4
          ],
          [
           1
          ],
          [
           4
          ],
          [
           1
          ],
          [
           1
          ],
          [
           1
          ],
          [
           1
          ],
          [
           1
          ],
          [
           1
          ],
          [
           2
          ],
          [
           1
          ],
          [
           1
          ],
          [
           1
          ],
          [
           1
          ],
          [
           1
          ],
          [
           2
          ],
          [
           1
          ],
          [
           1
          ],
          [
           1
          ],
          [
           13
          ],
          [
           1
          ],
          [
           14
          ],
          [
           37
          ],
          [
           2
          ],
          [
           1
          ],
          [
           1
          ],
          [
           6
          ],
          [
           2
          ],
          [
           1
          ],
          [
           1
          ],
          [
           1
          ],
          [
           1
          ],
          [
           14
          ],
          [
           5
          ],
          [
           2
          ],
          [
           1
          ],
          [
           1
          ],
          [
           14
          ],
          [
           1
          ],
          [
           1
          ],
          [
           1
          ],
          [
           2
          ],
          [
           1
          ],
          [
           5
          ],
          [
           1
          ],
          [
           37
          ],
          [
           1
          ],
          [
           1
          ],
          [
           1
          ],
          [
           3
          ],
          [
           2
          ],
          [
           2
          ],
          [
           1
          ],
          [
           1
          ],
          [
           1
          ],
          [
           3
          ],
          [
           1
          ],
          [
           1
          ],
          [
           1
          ],
          [
           1
          ],
          [
           1
          ],
          [
           5
          ],
          [
           1
          ],
          [
           1
          ],
          [
           3
          ],
          [
           1
          ]
         ],
         "hoverlabel": {
          "namelength": 0
         },
         "hovertemplate": "YM_plus=%{x}<br>Num_Shops=%{y}<br>Num_months_Sold=%{marker.size}<br>SoldPM=%{customdata[0]}<br>item_id=%{marker.color}",
         "legendgroup": "",
         "marker": {
          "color": [
           483,
           707,
           6461,
           6458,
           6382,
           6373,
           727,
           5876,
           6462,
           752,
           5669,
           5663,
           862,
           5660,
           5655,
           5251,
           5241,
           5673,
           5175,
           6463,
           6961,
           644,
           10168,
           10078,
           9827,
           9303,
           9105,
           8882,
           6944,
           8364,
           7776,
           7031,
           6985,
           6982,
           6981,
           6975,
           6973,
           7871,
           10237,
           4762,
           4760,
           2388,
           1149,
           2026,
           2025,
           2019,
           2013,
           2006,
           2394,
           1309,
           1982,
           1962,
           1892,
           1636,
           1631,
           1619,
           1453,
           1990,
           4761,
           2405,
           914,
           4759,
           864,
           4744,
           4259,
           4239,
           4189,
           4030,
           2452,
           3764,
           906,
           3707,
           3567,
           3161,
           2513,
           2511,
           2501,
           3708,
           10346,
           652,
           630,
           18739,
           18732,
           18614,
           18573,
           521,
           18090,
           17903,
           18740,
           17700,
           17674,
           17616,
           17612,
           11278,
           16944,
           16778,
           16774,
           17699,
           18804,
           18810,
           18880,
           21803,
           21406,
           21345,
           21344,
           21343,
           490,
           21170,
           20788,
           20782,
           20551,
           20351,
           19941,
           19870,
           505,
           19721,
           19396,
           18991,
           581,
           16727,
           17171,
           14489,
           11344,
           11636,
           11818,
           12166,
           12215,
           622,
           12223,
           13068,
           13916,
           620,
           14174,
           16263,
           14857,
           15390,
           611,
           1344,
           15931,
           15814,
           16233,
           17674,
           5655,
           1344,
           7871,
           5876,
           20782,
           1990,
           12166,
           5660,
           1982,
           21170,
           16727,
           1892,
           5663,
           10078,
           5673,
           10168,
           1453,
           11278,
           2388,
           13068,
           19396,
           16944,
           6458,
           15390,
           6461,
           14857,
           4030,
           6462,
           3764,
           17612,
           3708,
           4759,
           14489,
           6944,
           18739,
           6373,
           14174,
           15814,
           13916,
           18880,
           2452,
           5241,
           3707,
           5669,
           6985,
           707,
           1309,
           1149,
           906,
           521,
           752,
           864,
           862,
           611,
           490,
           727,
           17612,
           8882,
           17171,
           16778,
           5673,
           3764,
           21406,
           521,
           12166,
           19870,
           10078,
           6975,
           16944,
           11636,
           6458,
           2501,
           3707,
           6382,
           1962,
           11344,
           6373,
           1892,
           5876,
           19941,
           3708,
           17674,
           1309,
           7776,
           630,
           6462,
           19721,
           2388,
           862,
           5655,
           5251,
           1344,
           10237,
           18740,
           1453,
           5660,
           6961,
           5241,
           5175,
           18732,
           5663,
           4761,
           8364,
           18880,
           4239,
           864,
           18090,
           14857,
           9827,
           13068,
           13916,
           9303,
           5669,
           6463,
           15814,
           620,
           6461,
           6462,
           17674,
           17616,
           2452,
           2388,
           6463,
           9303,
           2394,
           11636,
           21170,
           18614,
           6458,
           5655,
           18740,
           5660,
           5663,
           4761,
           4759,
           752,
           5669,
           14857,
           864,
           505,
           6461,
           19721,
           5673,
           10078,
           17700,
           521,
           17699,
           3708,
           19941,
           727,
           11344,
           6382,
           707,
           3764,
           19870,
           3707,
           862,
           8882,
           1636,
           14174,
           16944,
           1631,
           9105,
           13916,
           652,
           581,
           1962,
           1982,
           13068,
           8364,
           12215,
           16727,
           1892,
           1344,
           6975,
           1990
          ],
          "coloraxis": "coloraxis",
          "opacity": 0.4,
          "size": [
           6,
           7,
           9,
           10,
           5,
           4,
           4,
           10,
           10,
           7,
           28,
           28,
           13,
           28,
           28,
           10,
           26,
           27,
           7,
           8,
           7,
           9,
           23,
           28,
           15,
           6,
           6,
           9,
           4,
           20,
           4,
           7,
           13,
           7,
           5,
           20,
           7,
           15,
           24,
           12,
           11,
           6,
           7,
           6,
           6,
           7,
           7,
           6,
           11,
           18,
           14,
           4,
           18,
           5,
           8,
           15,
           26,
           5,
           17,
           6,
           6,
           9,
           12,
           12,
           16,
           4,
           5,
           10,
           6,
           9,
           8,
           28,
           4,
           11,
           6,
           7,
           7,
           28,
           12,
           16,
           4,
           20,
           4,
           6,
           21,
           15,
           16,
           20,
           16,
           12,
           23,
           8,
           5,
           6,
           17,
           5,
           4,
           8,
           19,
           13,
           19,
           12,
           23,
           17,
           15,
           14,
           10,
           4,
           5,
           16,
           6,
           18,
           5,
           7,
           15,
           18,
           15,
           5,
           7,
           19,
           4,
           17,
           6,
           6,
           12,
           18,
           15,
           8,
           5,
           13,
           15,
           5,
           14,
           16,
           6,
           5,
           9,
           5,
           15,
           19,
           23,
           23,
           28,
           5,
           15,
           10,
           16,
           5,
           18,
           28,
           14,
           4,
           19,
           18,
           28,
           28,
           27,
           23,
           26,
           6,
           6,
           13,
           15,
           17,
           10,
           5,
           9,
           6,
           10,
           10,
           9,
           5,
           28,
           9,
           17,
           4,
           20,
           4,
           14,
           19,
           15,
           19,
           6,
           26,
           28,
           28,
           13,
           7,
           18,
           7,
           8,
           15,
           7,
           12,
           13,
           9,
           10,
           4,
           5,
           9,
           4,
           5,
           27,
           9,
           23,
           15,
           18,
           7,
           28,
           20,
           17,
           6,
           10,
           7,
           28,
           5,
           4,
           6,
           4,
           18,
           10,
           5,
           28,
           23,
           18,
           4,
           4,
           10,
           18,
           6,
           13,
           28,
           10,
           5,
           24,
           16,
           26,
           28,
           7,
           26,
           7,
           4,
           28,
           17,
           20,
           19,
           4,
           12,
           16,
           6,
           15,
           13,
           15,
           6,
           28,
           8,
           19,
           5,
           9,
           10,
           23,
           8,
           6,
           6,
           8,
           6,
           11,
           6,
           4,
           6,
           10,
           28,
           16,
           28,
           28,
           17,
           9,
           7,
           28,
           6,
           12,
           15,
           9,
           18,
           27,
           28,
           12,
           15,
           8,
           28,
           5,
           4,
           6,
           5,
           7,
           9,
           7,
           28,
           13,
           9,
           5,
           14,
           17,
           8,
           6,
           15,
           16,
           7,
           4,
           14,
           13,
           20,
           15,
           19,
           18,
           5,
           20,
           5
          ],
          "sizemode": "area",
          "sizeref": 0.07,
          "symbol": "circle"
         },
         "mode": "markers",
         "name": "",
         "showlegend": false,
         "type": "scatter",
         "x": [
          "201306_19",
          "201306_27",
          "201306_8",
          "201306_8",
          "201306_8",
          "201306_1",
          "201306_27",
          "201306_25",
          "201306_8",
          "201306_27",
          "201306_12",
          "201306_12",
          "201306_26",
          "201306_12",
          "201306_12",
          "201306_18",
          "201306_12",
          "201306_12",
          "201306_8",
          "201306_8",
          "201306_12",
          "201306_27",
          "201306_12",
          "201306_12",
          "201306_12",
          "201306_12",
          "201306_12",
          "201306_24",
          "201306_13",
          "201306_11",
          "201306_14",
          "201306_20",
          "201306_8",
          "201306_24",
          "201306_26",
          "201306_28",
          "201306_30",
          "201306_12",
          "201306_12",
          "201306_20",
          "201306_20",
          "201306_28",
          "201306_18",
          "201306_12",
          "201306_12",
          "201306_12",
          "201306_12",
          "201306_12",
          "201306_11",
          "201306_12",
          "201306_17",
          "201306_7",
          "201306_12",
          "201306_2",
          "201306_1",
          "201306_12",
          "201306_10",
          "201306_7",
          "201306_15",
          "201306_19",
          "201306_5",
          "201306_23",
          "201306_26",
          "201306_20",
          "201306_12",
          "201306_13",
          "201306_12",
          "201306_29",
          "201306_14",
          "201306_10",
          "201306_27",
          "201306_12",
          "201306_15",
          "201306_9",
          "201306_23",
          "201306_7",
          "201306_22",
          "201306_12",
          "201306_12",
          "201306_19",
          "201306_12",
          "201306_8",
          "201306_4",
          "201306_14",
          "201306_30",
          "201306_12",
          "201306_24",
          "201306_12",
          "201306_12",
          "201306_27",
          "201306_20",
          "201306_6",
          "201306_6",
          "201306_12",
          "201306_12",
          "201306_27",
          "201306_11",
          "201306_27",
          "201306_12",
          "201306_12",
          "201306_1",
          "201306_22",
          "201306_12",
          "201306_18",
          "201306_16",
          "201306_12",
          "201306_14",
          "201306_10",
          "201306_11",
          "201306_12",
          "201306_1",
          "201306_10",
          "201306_23",
          "201306_11",
          "201306_12",
          "201306_12",
          "201306_10",
          "201306_4",
          "201306_9",
          "201306_10",
          "201306_22",
          "201306_28",
          "201306_15",
          "201306_12",
          "201306_18",
          "201306_12",
          "201306_11",
          "201306_27",
          "201306_12",
          "201306_6",
          "201306_16",
          "201306_12",
          "201306_7",
          "201306_10",
          "201306_12",
          "201306_7",
          "201306_15",
          "201306_5",
          "201306_12",
          "201306_12",
          "201306_12",
          "201307_20",
          "201307_12",
          "201307_5",
          "201307_12",
          "201307_25",
          "201307_12",
          "201307_7",
          "201307_12",
          "201307_12",
          "201307_17",
          "201307_10",
          "201307_10",
          "201307_12",
          "201307_12",
          "201307_12",
          "201307_12",
          "201307_12",
          "201307_10",
          "201307_12",
          "201307_28",
          "201307_6",
          "201307_10",
          "201307_12",
          "201307_8",
          "201307_7",
          "201307_8",
          "201307_12",
          "201307_29",
          "201307_8",
          "201307_10",
          "201307_6",
          "201307_12",
          "201307_23",
          "201307_28",
          "201307_13",
          "201307_8",
          "201307_1",
          "201307_7",
          "201307_12",
          "201307_16",
          "201307_1",
          "201307_14",
          "201307_12",
          "201307_12",
          "201307_12",
          "201307_8",
          "201307_27",
          "201307_12",
          "201307_18",
          "201307_27",
          "201307_12",
          "201307_27",
          "201307_26",
          "201307_26",
          "201307_15",
          "201307_14",
          "201307_27",
          "201308_6",
          "201308_24",
          "201308_22",
          "201308_27",
          "201308_12",
          "201308_10",
          "201308_12",
          "201308_12",
          "201308_12",
          "201308_11",
          "201308_12",
          "201308_28",
          "201308_12",
          "201308_12",
          "201308_8",
          "201308_22",
          "201308_12",
          "201308_8",
          "201308_7",
          "201308_15",
          "201308_1",
          "201308_12",
          "201308_25",
          "201308_23",
          "201308_12",
          "201308_20",
          "201308_12",
          "201308_14",
          "201308_12",
          "201308_8",
          "201308_12",
          "201308_28",
          "201308_26",
          "201308_12",
          "201308_18",
          "201308_5",
          "201308_12",
          "201308_12",
          "201308_10",
          "201308_12",
          "201308_12",
          "201308_12",
          "201308_8",
          "201308_4",
          "201308_12",
          "201308_15",
          "201308_11",
          "201308_1",
          "201308_13",
          "201308_26",
          "201308_24",
          "201308_12",
          "201308_12",
          "201308_6",
          "201308_16",
          "201308_12",
          "201308_12",
          "201308_8",
          "201308_12",
          "201308_12",
          "201308_8",
          "201309_8",
          "201309_20",
          "201309_6",
          "201309_14",
          "201309_28",
          "201309_8",
          "201309_12",
          "201309_11",
          "201309_12",
          "201309_10",
          "201309_14",
          "201309_8",
          "201309_12",
          "201309_12",
          "201309_12",
          "201309_12",
          "201309_15",
          "201309_23",
          "201309_27",
          "201309_12",
          "201309_12",
          "201309_26",
          "201309_12",
          "201309_8",
          "201309_12",
          "201309_12",
          "201309_12",
          "201309_27",
          "201309_12",
          "201309_27",
          "201309_12",
          "201309_23",
          "201309_27",
          "201309_15",
          "201309_8",
          "201309_27",
          "201309_10",
          "201309_11",
          "201309_12",
          "201309_26",
          "201309_24",
          "201309_2",
          "201309_7",
          "201309_12",
          "201309_1",
          "201309_12",
          "201309_16",
          "201309_19",
          "201309_9",
          "201309_7",
          "201309_17",
          "201309_6",
          "201309_11",
          "201309_11",
          "201309_10",
          "201309_12",
          "201309_5",
          "201309_28",
          "201309_7"
         ],
         "xaxis": "x",
         "y": [
          1,
          1,
          1,
          1,
          1,
          2,
          1,
          1,
          1,
          1,
          7,
          10,
          1,
          6,
          4,
          1,
          1,
          6,
          1,
          1,
          1,
          1,
          1,
          2,
          1,
          1,
          1,
          1,
          1,
          2,
          1,
          1,
          1,
          1,
          1,
          1,
          1,
          1,
          1,
          1,
          1,
          1,
          1,
          1,
          1,
          1,
          1,
          1,
          1,
          2,
          1,
          3,
          2,
          1,
          2,
          1,
          2,
          1,
          1,
          1,
          1,
          1,
          1,
          1,
          1,
          1,
          1,
          1,
          1,
          1,
          1,
          38,
          1,
          1,
          1,
          1,
          1,
          37,
          1,
          1,
          1,
          2,
          1,
          1,
          1,
          1,
          1,
          1,
          1,
          1,
          1,
          1,
          1,
          1,
          1,
          1,
          1,
          1,
          1,
          1,
          1,
          1,
          1,
          1,
          1,
          1,
          1,
          1,
          1,
          1,
          1,
          1,
          1,
          2,
          1,
          2,
          1,
          1,
          1,
          1,
          1,
          1,
          1,
          1,
          1,
          1,
          1,
          1,
          1,
          1,
          6,
          1,
          4,
          1,
          1,
          1,
          1,
          1,
          2,
          1,
          1,
          1,
          7,
          1,
          1,
          1,
          1,
          1,
          2,
          7,
          1,
          1,
          1,
          2,
          14,
          2,
          10,
          1,
          1,
          1,
          1,
          4,
          1,
          3,
          1,
          2,
          1,
          1,
          1,
          1,
          2,
          1,
          29,
          1,
          3,
          1,
          1,
          2,
          6,
          1,
          10,
          1,
          1,
          3,
          34,
          4,
          1,
          1,
          5,
          1,
          1,
          1,
          1,
          1,
          1,
          1,
          1,
          1,
          1,
          1,
          2,
          2,
          5,
          10,
          1,
          1,
          3,
          3,
          8,
          1,
          3,
          1,
          1,
          1,
          24,
          1,
          1,
          1,
          1,
          2,
          1,
          1,
          26,
          1,
          1,
          1,
          1,
          1,
          4,
          1,
          1,
          4,
          1,
          1,
          1,
          3,
          1,
          6,
          1,
          1,
          1,
          1,
          10,
          1,
          1,
          2,
          1,
          1,
          1,
          1,
          1,
          2,
          4,
          1,
          3,
          1,
          1,
          1,
          1,
          1,
          1,
          1,
          1,
          1,
          1,
          1,
          1,
          2,
          1,
          1,
          1,
          9,
          1,
          10,
          16,
          1,
          1,
          1,
          4,
          2,
          1,
          1,
          1,
          1,
          11,
          5,
          1,
          1,
          1,
          13,
          1,
          1,
          1,
          1,
          1,
          5,
          1,
          23,
          1,
          1,
          1,
          2,
          2,
          2,
          1,
          1,
          1,
          1,
          1,
          1,
          1,
          1,
          1,
          4,
          1,
          1,
          1,
          1
         ],
         "yaxis": "y"
        }
       ],
       "layout": {
        "coloraxis": {
         "colorbar": {
          "title": {
           "text": "item_id"
          }
         },
         "colorscale": [
          [
           0,
           "#0d0887"
          ],
          [
           0.1111111111111111,
           "#46039f"
          ],
          [
           0.2222222222222222,
           "#7201a8"
          ],
          [
           0.3333333333333333,
           "#9c179e"
          ],
          [
           0.4444444444444444,
           "#bd3786"
          ],
          [
           0.5555555555555556,
           "#d8576b"
          ],
          [
           0.6666666666666666,
           "#ed7953"
          ],
          [
           0.7777777777777778,
           "#fb9f3a"
          ],
          [
           0.8888888888888888,
           "#fdca26"
          ],
          [
           1,
           "#f0f921"
          ]
         ]
        },
        "height": 600,
        "legend": {
         "itemsizing": "constant",
         "tracegroupgap": 0
        },
        "margin": {
         "t": 60
        },
        "template": {
         "data": {
          "bar": [
           {
            "error_x": {
             "color": "#2a3f5f"
            },
            "error_y": {
             "color": "#2a3f5f"
            },
            "marker": {
             "line": {
              "color": "#E5ECF6",
              "width": 0.5
             }
            },
            "type": "bar"
           }
          ],
          "barpolar": [
           {
            "marker": {
             "line": {
              "color": "#E5ECF6",
              "width": 0.5
             }
            },
            "type": "barpolar"
           }
          ],
          "carpet": [
           {
            "aaxis": {
             "endlinecolor": "#2a3f5f",
             "gridcolor": "white",
             "linecolor": "white",
             "minorgridcolor": "white",
             "startlinecolor": "#2a3f5f"
            },
            "baxis": {
             "endlinecolor": "#2a3f5f",
             "gridcolor": "white",
             "linecolor": "white",
             "minorgridcolor": "white",
             "startlinecolor": "#2a3f5f"
            },
            "type": "carpet"
           }
          ],
          "choropleth": [
           {
            "colorbar": {
             "outlinewidth": 0,
             "ticks": ""
            },
            "type": "choropleth"
           }
          ],
          "contour": [
           {
            "colorbar": {
             "outlinewidth": 0,
             "ticks": ""
            },
            "colorscale": [
             [
              0,
              "#0d0887"
             ],
             [
              0.1111111111111111,
              "#46039f"
             ],
             [
              0.2222222222222222,
              "#7201a8"
             ],
             [
              0.3333333333333333,
              "#9c179e"
             ],
             [
              0.4444444444444444,
              "#bd3786"
             ],
             [
              0.5555555555555556,
              "#d8576b"
             ],
             [
              0.6666666666666666,
              "#ed7953"
             ],
             [
              0.7777777777777778,
              "#fb9f3a"
             ],
             [
              0.8888888888888888,
              "#fdca26"
             ],
             [
              1,
              "#f0f921"
             ]
            ],
            "type": "contour"
           }
          ],
          "contourcarpet": [
           {
            "colorbar": {
             "outlinewidth": 0,
             "ticks": ""
            },
            "type": "contourcarpet"
           }
          ],
          "heatmap": [
           {
            "colorbar": {
             "outlinewidth": 0,
             "ticks": ""
            },
            "colorscale": [
             [
              0,
              "#0d0887"
             ],
             [
              0.1111111111111111,
              "#46039f"
             ],
             [
              0.2222222222222222,
              "#7201a8"
             ],
             [
              0.3333333333333333,
              "#9c179e"
             ],
             [
              0.4444444444444444,
              "#bd3786"
             ],
             [
              0.5555555555555556,
              "#d8576b"
             ],
             [
              0.6666666666666666,
              "#ed7953"
             ],
             [
              0.7777777777777778,
              "#fb9f3a"
             ],
             [
              0.8888888888888888,
              "#fdca26"
             ],
             [
              1,
              "#f0f921"
             ]
            ],
            "type": "heatmap"
           }
          ],
          "heatmapgl": [
           {
            "colorbar": {
             "outlinewidth": 0,
             "ticks": ""
            },
            "colorscale": [
             [
              0,
              "#0d0887"
             ],
             [
              0.1111111111111111,
              "#46039f"
             ],
             [
              0.2222222222222222,
              "#7201a8"
             ],
             [
              0.3333333333333333,
              "#9c179e"
             ],
             [
              0.4444444444444444,
              "#bd3786"
             ],
             [
              0.5555555555555556,
              "#d8576b"
             ],
             [
              0.6666666666666666,
              "#ed7953"
             ],
             [
              0.7777777777777778,
              "#fb9f3a"
             ],
             [
              0.8888888888888888,
              "#fdca26"
             ],
             [
              1,
              "#f0f921"
             ]
            ],
            "type": "heatmapgl"
           }
          ],
          "histogram": [
           {
            "marker": {
             "colorbar": {
              "outlinewidth": 0,
              "ticks": ""
             }
            },
            "type": "histogram"
           }
          ],
          "histogram2d": [
           {
            "colorbar": {
             "outlinewidth": 0,
             "ticks": ""
            },
            "colorscale": [
             [
              0,
              "#0d0887"
             ],
             [
              0.1111111111111111,
              "#46039f"
             ],
             [
              0.2222222222222222,
              "#7201a8"
             ],
             [
              0.3333333333333333,
              "#9c179e"
             ],
             [
              0.4444444444444444,
              "#bd3786"
             ],
             [
              0.5555555555555556,
              "#d8576b"
             ],
             [
              0.6666666666666666,
              "#ed7953"
             ],
             [
              0.7777777777777778,
              "#fb9f3a"
             ],
             [
              0.8888888888888888,
              "#fdca26"
             ],
             [
              1,
              "#f0f921"
             ]
            ],
            "type": "histogram2d"
           }
          ],
          "histogram2dcontour": [
           {
            "colorbar": {
             "outlinewidth": 0,
             "ticks": ""
            },
            "colorscale": [
             [
              0,
              "#0d0887"
             ],
             [
              0.1111111111111111,
              "#46039f"
             ],
             [
              0.2222222222222222,
              "#7201a8"
             ],
             [
              0.3333333333333333,
              "#9c179e"
             ],
             [
              0.4444444444444444,
              "#bd3786"
             ],
             [
              0.5555555555555556,
              "#d8576b"
             ],
             [
              0.6666666666666666,
              "#ed7953"
             ],
             [
              0.7777777777777778,
              "#fb9f3a"
             ],
             [
              0.8888888888888888,
              "#fdca26"
             ],
             [
              1,
              "#f0f921"
             ]
            ],
            "type": "histogram2dcontour"
           }
          ],
          "mesh3d": [
           {
            "colorbar": {
             "outlinewidth": 0,
             "ticks": ""
            },
            "type": "mesh3d"
           }
          ],
          "parcoords": [
           {
            "line": {
             "colorbar": {
              "outlinewidth": 0,
              "ticks": ""
             }
            },
            "type": "parcoords"
           }
          ],
          "scatter": [
           {
            "marker": {
             "colorbar": {
              "outlinewidth": 0,
              "ticks": ""
             }
            },
            "type": "scatter"
           }
          ],
          "scatter3d": [
           {
            "line": {
             "colorbar": {
              "outlinewidth": 0,
              "ticks": ""
             }
            },
            "marker": {
             "colorbar": {
              "outlinewidth": 0,
              "ticks": ""
             }
            },
            "type": "scatter3d"
           }
          ],
          "scattercarpet": [
           {
            "marker": {
             "colorbar": {
              "outlinewidth": 0,
              "ticks": ""
             }
            },
            "type": "scattercarpet"
           }
          ],
          "scattergeo": [
           {
            "marker": {
             "colorbar": {
              "outlinewidth": 0,
              "ticks": ""
             }
            },
            "type": "scattergeo"
           }
          ],
          "scattergl": [
           {
            "marker": {
             "colorbar": {
              "outlinewidth": 0,
              "ticks": ""
             }
            },
            "type": "scattergl"
           }
          ],
          "scattermapbox": [
           {
            "marker": {
             "colorbar": {
              "outlinewidth": 0,
              "ticks": ""
             }
            },
            "type": "scattermapbox"
           }
          ],
          "scatterpolar": [
           {
            "marker": {
             "colorbar": {
              "outlinewidth": 0,
              "ticks": ""
             }
            },
            "type": "scatterpolar"
           }
          ],
          "scatterpolargl": [
           {
            "marker": {
             "colorbar": {
              "outlinewidth": 0,
              "ticks": ""
             }
            },
            "type": "scatterpolargl"
           }
          ],
          "scatterternary": [
           {
            "marker": {
             "colorbar": {
              "outlinewidth": 0,
              "ticks": ""
             }
            },
            "type": "scatterternary"
           }
          ],
          "surface": [
           {
            "colorbar": {
             "outlinewidth": 0,
             "ticks": ""
            },
            "colorscale": [
             [
              0,
              "#0d0887"
             ],
             [
              0.1111111111111111,
              "#46039f"
             ],
             [
              0.2222222222222222,
              "#7201a8"
             ],
             [
              0.3333333333333333,
              "#9c179e"
             ],
             [
              0.4444444444444444,
              "#bd3786"
             ],
             [
              0.5555555555555556,
              "#d8576b"
             ],
             [
              0.6666666666666666,
              "#ed7953"
             ],
             [
              0.7777777777777778,
              "#fb9f3a"
             ],
             [
              0.8888888888888888,
              "#fdca26"
             ],
             [
              1,
              "#f0f921"
             ]
            ],
            "type": "surface"
           }
          ],
          "table": [
           {
            "cells": {
             "fill": {
              "color": "#EBF0F8"
             },
             "line": {
              "color": "white"
             }
            },
            "header": {
             "fill": {
              "color": "#C8D4E3"
             },
             "line": {
              "color": "white"
             }
            },
            "type": "table"
           }
          ]
         },
         "layout": {
          "annotationdefaults": {
           "arrowcolor": "#2a3f5f",
           "arrowhead": 0,
           "arrowwidth": 1
          },
          "colorscale": {
           "diverging": [
            [
             0,
             "#8e0152"
            ],
            [
             0.1,
             "#c51b7d"
            ],
            [
             0.2,
             "#de77ae"
            ],
            [
             0.3,
             "#f1b6da"
            ],
            [
             0.4,
             "#fde0ef"
            ],
            [
             0.5,
             "#f7f7f7"
            ],
            [
             0.6,
             "#e6f5d0"
            ],
            [
             0.7,
             "#b8e186"
            ],
            [
             0.8,
             "#7fbc41"
            ],
            [
             0.9,
             "#4d9221"
            ],
            [
             1,
             "#276419"
            ]
           ],
           "sequential": [
            [
             0,
             "#0d0887"
            ],
            [
             0.1111111111111111,
             "#46039f"
            ],
            [
             0.2222222222222222,
             "#7201a8"
            ],
            [
             0.3333333333333333,
             "#9c179e"
            ],
            [
             0.4444444444444444,
             "#bd3786"
            ],
            [
             0.5555555555555556,
             "#d8576b"
            ],
            [
             0.6666666666666666,
             "#ed7953"
            ],
            [
             0.7777777777777778,
             "#fb9f3a"
            ],
            [
             0.8888888888888888,
             "#fdca26"
            ],
            [
             1,
             "#f0f921"
            ]
           ],
           "sequentialminus": [
            [
             0,
             "#0d0887"
            ],
            [
             0.1111111111111111,
             "#46039f"
            ],
            [
             0.2222222222222222,
             "#7201a8"
            ],
            [
             0.3333333333333333,
             "#9c179e"
            ],
            [
             0.4444444444444444,
             "#bd3786"
            ],
            [
             0.5555555555555556,
             "#d8576b"
            ],
            [
             0.6666666666666666,
             "#ed7953"
            ],
            [
             0.7777777777777778,
             "#fb9f3a"
            ],
            [
             0.8888888888888888,
             "#fdca26"
            ],
            [
             1,
             "#f0f921"
            ]
           ]
          },
          "colorway": [
           "#636efa",
           "#EF553B",
           "#00cc96",
           "#ab63fa",
           "#FFA15A",
           "#19d3f3",
           "#FF6692",
           "#B6E880",
           "#FF97FF",
           "#FECB52"
          ],
          "font": {
           "color": "#2a3f5f"
          },
          "geo": {
           "bgcolor": "white",
           "lakecolor": "white",
           "landcolor": "#E5ECF6",
           "showlakes": true,
           "showland": true,
           "subunitcolor": "white"
          },
          "hoverlabel": {
           "align": "left"
          },
          "hovermode": "closest",
          "mapbox": {
           "style": "light"
          },
          "paper_bgcolor": "white",
          "plot_bgcolor": "#E5ECF6",
          "polar": {
           "angularaxis": {
            "gridcolor": "white",
            "linecolor": "white",
            "ticks": ""
           },
           "bgcolor": "#E5ECF6",
           "radialaxis": {
            "gridcolor": "white",
            "linecolor": "white",
            "ticks": ""
           }
          },
          "scene": {
           "xaxis": {
            "backgroundcolor": "#E5ECF6",
            "gridcolor": "white",
            "gridwidth": 2,
            "linecolor": "white",
            "showbackground": true,
            "ticks": "",
            "zerolinecolor": "white"
           },
           "yaxis": {
            "backgroundcolor": "#E5ECF6",
            "gridcolor": "white",
            "gridwidth": 2,
            "linecolor": "white",
            "showbackground": true,
            "ticks": "",
            "zerolinecolor": "white"
           },
           "zaxis": {
            "backgroundcolor": "#E5ECF6",
            "gridcolor": "white",
            "gridwidth": 2,
            "linecolor": "white",
            "showbackground": true,
            "ticks": "",
            "zerolinecolor": "white"
           }
          },
          "shapedefaults": {
           "line": {
            "color": "#2a3f5f"
           }
          },
          "ternary": {
           "aaxis": {
            "gridcolor": "white",
            "linecolor": "white",
            "ticks": ""
           },
           "baxis": {
            "gridcolor": "white",
            "linecolor": "white",
            "ticks": ""
           },
           "bgcolor": "#E5ECF6",
           "caxis": {
            "gridcolor": "white",
            "linecolor": "white",
            "ticks": ""
           }
          },
          "title": {
           "x": 0.05
          },
          "xaxis": {
           "automargin": true,
           "gridcolor": "white",
           "linecolor": "white",
           "ticks": "",
           "zerolinecolor": "white",
           "zerolinewidth": 2
          },
          "yaxis": {
           "automargin": true,
           "gridcolor": "white",
           "linecolor": "white",
           "ticks": "",
           "zerolinecolor": "white",
           "zerolinewidth": 2
          }
         }
        },
        "xaxis": {
         "anchor": "y",
         "domain": [
          0,
          0.98
         ],
         "title": {
          "text": "YM_plus"
         }
        },
        "yaxis": {
         "anchor": "x",
         "domain": [
          0,
          1
         ],
         "title": {
          "text": "Num_Shops"
         }
        }
       }
      },
      "text/html": [
       "<div>\n",
       "        \n",
       "        \n",
       "            <div id=\"03425c17-23ea-481e-951d-5030eab826af\" class=\"plotly-graph-div\" style=\"height:600px; width:100%;\"></div>\n",
       "            <script type=\"text/javascript\">\n",
       "                require([\"plotly\"], function(Plotly) {\n",
       "                    window.PLOTLYENV=window.PLOTLYENV || {};\n",
       "                    \n",
       "                if (document.getElementById(\"03425c17-23ea-481e-951d-5030eab826af\")) {\n",
       "                    Plotly.newPlot(\n",
       "                        '03425c17-23ea-481e-951d-5030eab826af',\n",
       "                        [{\"customdata\": [[1.0], [1.0], [3.0], [2.0], [1.0], [2.0], [1.0], [1.0], [3.0], [1.0], [12.0], [29.0], [1.0], [7.0], [7.0], [1.0], [2.0], [11.0], [1.0], [1.0], [1.0], [1.0], [1.0], [4.0], [1.0], [1.0], [1.0], [1.0], [1.0], [2.0], [1.0], [1.0], [1.0], [1.0], [1.0], [1.0], [1.0], [1.0], [1.0], [1.0], [1.0], [1.0], [1.0], [1.0], [1.0], [1.0], [1.0], [1.0], [1.0], [2.0], [3.0], [3.0], [2.0], [1.0], [2.0], [1.0], [2.0], [1.0], [1.0], [1.0], [1.0], [1.0], [1.0], [1.0], [2.0], [8.0], [1.0], [1.0], [1.0], [1.0], [1.0], [274.0], [1.0], [1.0], [1.0], [1.0], [1.0], [122.0], [1.0], [2.0], [1.0], [2.0], [1.0], [1.0], [1.0], [1.0], [1.0], [1.0], [1.0], [1.0], [1.0], [1.0], [1.0], [1.0], [1.0], [1.0], [1.0], [1.0], [1.0], [1.0], [1.0], [2.0], [1.0], [1.0], [1.0], [1.0], [2.0], [1.0], [1.0], [1.0], [1.0], [2.0], [1.0], [2.0], [1.0], [2.0], [1.0], [1.0], [3.0], [1.0], [1.0], [1.0], [1.0], [1.0], [1.0], [1.0], [1.0], [1.0], [1.0], [1.0], [6.0], [1.0], [4.0], [3.0], [1.0], [1.0], [3.0], [1.0], [2.0], [1.0], [1.0], [2.0], [10.0], [2.0], [1.0], [1.0], [1.0], [3.0], [2.0], [8.0], [1.0], [1.0], [1.0], [2.0], [38.0], [2.0], [14.0], [1.0], [1.0], [1.0], [1.0], [4.0], [2.0], [3.0], [1.0], [3.0], [1.0], [1.0], [1.0], [1.0], [3.0], [1.0], [52.0], [2.0], [3.0], [1.0], [1.0], [2.0], [7.0], [1.0], [10.0], [1.0], [1.0], [3.0], [117.0], [4.0], [1.0], [1.0], [6.0], [1.0], [1.0], [1.0], [1.0], [1.0], [2.0], [1.0], [1.0], [1.0], [1.0], [1.0], [2.0], [2.0], [7.0], [12.0], [1.0], [1.0], [5.0], [3.0], [9.0], [1.0], [3.0], [1.0], [1.0], [1.0], [46.0], [1.0], [1.0], [1.0], [1.0], [2.0], [1.0], [1.0], [39.0], [2.0], [2.0], [1.0], [1.0], [1.0], [5.0], [1.0], [1.0], [4.0], [1.0], [1.0], [1.0], [3.0], [1.0], [11.0], [1.0], [1.0], [1.0], [1.0], [19.0], [1.0], [1.0], [2.0], [5.0], [1.0], [2.0], [1.0], [1.0], [2.0], [4.0], [1.0], [4.0], [1.0], [1.0], [1.0], [1.0], [1.0], [1.0], [2.0], [1.0], [1.0], [1.0], [1.0], [1.0], [2.0], [1.0], [1.0], [1.0], [13.0], [1.0], [14.0], [37.0], [2.0], [1.0], [1.0], [6.0], [2.0], [1.0], [1.0], [1.0], [1.0], [14.0], [5.0], [2.0], [1.0], [1.0], [14.0], [1.0], [1.0], [1.0], [2.0], [1.0], [5.0], [1.0], [37.0], [1.0], [1.0], [1.0], [3.0], [2.0], [2.0], [1.0], [1.0], [1.0], [3.0], [1.0], [1.0], [1.0], [1.0], [1.0], [5.0], [1.0], [1.0], [3.0], [1.0]], \"hoverlabel\": {\"namelength\": 0}, \"hovertemplate\": \"YM_plus=%{x}<br>Num_Shops=%{y}<br>Num_months_Sold=%{marker.size}<br>SoldPM=%{customdata[0]}<br>item_id=%{marker.color}\", \"legendgroup\": \"\", \"marker\": {\"color\": [483, 707, 6461, 6458, 6382, 6373, 727, 5876, 6462, 752, 5669, 5663, 862, 5660, 5655, 5251, 5241, 5673, 5175, 6463, 6961, 644, 10168, 10078, 9827, 9303, 9105, 8882, 6944, 8364, 7776, 7031, 6985, 6982, 6981, 6975, 6973, 7871, 10237, 4762, 4760, 2388, 1149, 2026, 2025, 2019, 2013, 2006, 2394, 1309, 1982, 1962, 1892, 1636, 1631, 1619, 1453, 1990, 4761, 2405, 914, 4759, 864, 4744, 4259, 4239, 4189, 4030, 2452, 3764, 906, 3707, 3567, 3161, 2513, 2511, 2501, 3708, 10346, 652, 630, 18739, 18732, 18614, 18573, 521, 18090, 17903, 18740, 17700, 17674, 17616, 17612, 11278, 16944, 16778, 16774, 17699, 18804, 18810, 18880, 21803, 21406, 21345, 21344, 21343, 490, 21170, 20788, 20782, 20551, 20351, 19941, 19870, 505, 19721, 19396, 18991, 581, 16727, 17171, 14489, 11344, 11636, 11818, 12166, 12215, 622, 12223, 13068, 13916, 620, 14174, 16263, 14857, 15390, 611, 1344, 15931, 15814, 16233, 17674, 5655, 1344, 7871, 5876, 20782, 1990, 12166, 5660, 1982, 21170, 16727, 1892, 5663, 10078, 5673, 10168, 1453, 11278, 2388, 13068, 19396, 16944, 6458, 15390, 6461, 14857, 4030, 6462, 3764, 17612, 3708, 4759, 14489, 6944, 18739, 6373, 14174, 15814, 13916, 18880, 2452, 5241, 3707, 5669, 6985, 707, 1309, 1149, 906, 521, 752, 864, 862, 611, 490, 727, 17612, 8882, 17171, 16778, 5673, 3764, 21406, 521, 12166, 19870, 10078, 6975, 16944, 11636, 6458, 2501, 3707, 6382, 1962, 11344, 6373, 1892, 5876, 19941, 3708, 17674, 1309, 7776, 630, 6462, 19721, 2388, 862, 5655, 5251, 1344, 10237, 18740, 1453, 5660, 6961, 5241, 5175, 18732, 5663, 4761, 8364, 18880, 4239, 864, 18090, 14857, 9827, 13068, 13916, 9303, 5669, 6463, 15814, 620, 6461, 6462, 17674, 17616, 2452, 2388, 6463, 9303, 2394, 11636, 21170, 18614, 6458, 5655, 18740, 5660, 5663, 4761, 4759, 752, 5669, 14857, 864, 505, 6461, 19721, 5673, 10078, 17700, 521, 17699, 3708, 19941, 727, 11344, 6382, 707, 3764, 19870, 3707, 862, 8882, 1636, 14174, 16944, 1631, 9105, 13916, 652, 581, 1962, 1982, 13068, 8364, 12215, 16727, 1892, 1344, 6975, 1990], \"coloraxis\": \"coloraxis\", \"opacity\": 0.4, \"size\": [6, 7, 9, 10, 5, 4, 4, 10, 10, 7, 28, 28, 13, 28, 28, 10, 26, 27, 7, 8, 7, 9, 23, 28, 15, 6, 6, 9, 4, 20, 4, 7, 13, 7, 5, 20, 7, 15, 24, 12, 11, 6, 7, 6, 6, 7, 7, 6, 11, 18, 14, 4, 18, 5, 8, 15, 26, 5, 17, 6, 6, 9, 12, 12, 16, 4, 5, 10, 6, 9, 8, 28, 4, 11, 6, 7, 7, 28, 12, 16, 4, 20, 4, 6, 21, 15, 16, 20, 16, 12, 23, 8, 5, 6, 17, 5, 4, 8, 19, 13, 19, 12, 23, 17, 15, 14, 10, 4, 5, 16, 6, 18, 5, 7, 15, 18, 15, 5, 7, 19, 4, 17, 6, 6, 12, 18, 15, 8, 5, 13, 15, 5, 14, 16, 6, 5, 9, 5, 15, 19, 23, 23, 28, 5, 15, 10, 16, 5, 18, 28, 14, 4, 19, 18, 28, 28, 27, 23, 26, 6, 6, 13, 15, 17, 10, 5, 9, 6, 10, 10, 9, 5, 28, 9, 17, 4, 20, 4, 14, 19, 15, 19, 6, 26, 28, 28, 13, 7, 18, 7, 8, 15, 7, 12, 13, 9, 10, 4, 5, 9, 4, 5, 27, 9, 23, 15, 18, 7, 28, 20, 17, 6, 10, 7, 28, 5, 4, 6, 4, 18, 10, 5, 28, 23, 18, 4, 4, 10, 18, 6, 13, 28, 10, 5, 24, 16, 26, 28, 7, 26, 7, 4, 28, 17, 20, 19, 4, 12, 16, 6, 15, 13, 15, 6, 28, 8, 19, 5, 9, 10, 23, 8, 6, 6, 8, 6, 11, 6, 4, 6, 10, 28, 16, 28, 28, 17, 9, 7, 28, 6, 12, 15, 9, 18, 27, 28, 12, 15, 8, 28, 5, 4, 6, 5, 7, 9, 7, 28, 13, 9, 5, 14, 17, 8, 6, 15, 16, 7, 4, 14, 13, 20, 15, 19, 18, 5, 20, 5], \"sizemode\": \"area\", \"sizeref\": 0.07, \"symbol\": \"circle\"}, \"mode\": \"markers\", \"name\": \"\", \"showlegend\": false, \"type\": \"scatter\", \"x\": [\"201306_19\", \"201306_27\", \"201306_8\", \"201306_8\", \"201306_8\", \"201306_1\", \"201306_27\", \"201306_25\", \"201306_8\", \"201306_27\", \"201306_12\", \"201306_12\", \"201306_26\", \"201306_12\", \"201306_12\", \"201306_18\", \"201306_12\", \"201306_12\", \"201306_8\", \"201306_8\", \"201306_12\", \"201306_27\", \"201306_12\", \"201306_12\", \"201306_12\", \"201306_12\", \"201306_12\", \"201306_24\", \"201306_13\", \"201306_11\", \"201306_14\", \"201306_20\", \"201306_8\", \"201306_24\", \"201306_26\", \"201306_28\", \"201306_30\", \"201306_12\", \"201306_12\", \"201306_20\", \"201306_20\", \"201306_28\", \"201306_18\", \"201306_12\", \"201306_12\", \"201306_12\", \"201306_12\", \"201306_12\", \"201306_11\", \"201306_12\", \"201306_17\", \"201306_7\", \"201306_12\", \"201306_2\", \"201306_1\", \"201306_12\", \"201306_10\", \"201306_7\", \"201306_15\", \"201306_19\", \"201306_5\", \"201306_23\", \"201306_26\", \"201306_20\", \"201306_12\", \"201306_13\", \"201306_12\", \"201306_29\", \"201306_14\", \"201306_10\", \"201306_27\", \"201306_12\", \"201306_15\", \"201306_9\", \"201306_23\", \"201306_7\", \"201306_22\", \"201306_12\", \"201306_12\", \"201306_19\", \"201306_12\", \"201306_8\", \"201306_4\", \"201306_14\", \"201306_30\", \"201306_12\", \"201306_24\", \"201306_12\", \"201306_12\", \"201306_27\", \"201306_20\", \"201306_6\", \"201306_6\", \"201306_12\", \"201306_12\", \"201306_27\", \"201306_11\", \"201306_27\", \"201306_12\", \"201306_12\", \"201306_1\", \"201306_22\", \"201306_12\", \"201306_18\", \"201306_16\", \"201306_12\", \"201306_14\", \"201306_10\", \"201306_11\", \"201306_12\", \"201306_1\", \"201306_10\", \"201306_23\", \"201306_11\", \"201306_12\", \"201306_12\", \"201306_10\", \"201306_4\", \"201306_9\", \"201306_10\", \"201306_22\", \"201306_28\", \"201306_15\", \"201306_12\", \"201306_18\", \"201306_12\", \"201306_11\", \"201306_27\", \"201306_12\", \"201306_6\", \"201306_16\", \"201306_12\", \"201306_7\", \"201306_10\", \"201306_12\", \"201306_7\", \"201306_15\", \"201306_5\", \"201306_12\", \"201306_12\", \"201306_12\", \"201307_20\", \"201307_12\", \"201307_5\", \"201307_12\", \"201307_25\", \"201307_12\", \"201307_7\", \"201307_12\", \"201307_12\", \"201307_17\", \"201307_10\", \"201307_10\", \"201307_12\", \"201307_12\", \"201307_12\", \"201307_12\", \"201307_12\", \"201307_10\", \"201307_12\", \"201307_28\", \"201307_6\", \"201307_10\", \"201307_12\", \"201307_8\", \"201307_7\", \"201307_8\", \"201307_12\", \"201307_29\", \"201307_8\", \"201307_10\", \"201307_6\", \"201307_12\", \"201307_23\", \"201307_28\", \"201307_13\", \"201307_8\", \"201307_1\", \"201307_7\", \"201307_12\", \"201307_16\", \"201307_1\", \"201307_14\", \"201307_12\", \"201307_12\", \"201307_12\", \"201307_8\", \"201307_27\", \"201307_12\", \"201307_18\", \"201307_27\", \"201307_12\", \"201307_27\", \"201307_26\", \"201307_26\", \"201307_15\", \"201307_14\", \"201307_27\", \"201308_6\", \"201308_24\", \"201308_22\", \"201308_27\", \"201308_12\", \"201308_10\", \"201308_12\", \"201308_12\", \"201308_12\", \"201308_11\", \"201308_12\", \"201308_28\", \"201308_12\", \"201308_12\", \"201308_8\", \"201308_22\", \"201308_12\", \"201308_8\", \"201308_7\", \"201308_15\", \"201308_1\", \"201308_12\", \"201308_25\", \"201308_23\", \"201308_12\", \"201308_20\", \"201308_12\", \"201308_14\", \"201308_12\", \"201308_8\", \"201308_12\", \"201308_28\", \"201308_26\", \"201308_12\", \"201308_18\", \"201308_5\", \"201308_12\", \"201308_12\", \"201308_10\", \"201308_12\", \"201308_12\", \"201308_12\", \"201308_8\", \"201308_4\", \"201308_12\", \"201308_15\", \"201308_11\", \"201308_1\", \"201308_13\", \"201308_26\", \"201308_24\", \"201308_12\", \"201308_12\", \"201308_6\", \"201308_16\", \"201308_12\", \"201308_12\", \"201308_8\", \"201308_12\", \"201308_12\", \"201308_8\", \"201309_8\", \"201309_20\", \"201309_6\", \"201309_14\", \"201309_28\", \"201309_8\", \"201309_12\", \"201309_11\", \"201309_12\", \"201309_10\", \"201309_14\", \"201309_8\", \"201309_12\", \"201309_12\", \"201309_12\", \"201309_12\", \"201309_15\", \"201309_23\", \"201309_27\", \"201309_12\", \"201309_12\", \"201309_26\", \"201309_12\", \"201309_8\", \"201309_12\", \"201309_12\", \"201309_12\", \"201309_27\", \"201309_12\", \"201309_27\", \"201309_12\", \"201309_23\", \"201309_27\", \"201309_15\", \"201309_8\", \"201309_27\", \"201309_10\", \"201309_11\", \"201309_12\", \"201309_26\", \"201309_24\", \"201309_2\", \"201309_7\", \"201309_12\", \"201309_1\", \"201309_12\", \"201309_16\", \"201309_19\", \"201309_9\", \"201309_7\", \"201309_17\", \"201309_6\", \"201309_11\", \"201309_11\", \"201309_10\", \"201309_12\", \"201309_5\", \"201309_28\", \"201309_7\"], \"xaxis\": \"x\", \"y\": [1, 1, 1, 1, 1, 2, 1, 1, 1, 1, 7, 10, 1, 6, 4, 1, 1, 6, 1, 1, 1, 1, 1, 2, 1, 1, 1, 1, 1, 2, 1, 1, 1, 1, 1, 1, 1, 1, 1, 1, 1, 1, 1, 1, 1, 1, 1, 1, 1, 2, 1, 3, 2, 1, 2, 1, 2, 1, 1, 1, 1, 1, 1, 1, 1, 1, 1, 1, 1, 1, 1, 38, 1, 1, 1, 1, 1, 37, 1, 1, 1, 2, 1, 1, 1, 1, 1, 1, 1, 1, 1, 1, 1, 1, 1, 1, 1, 1, 1, 1, 1, 1, 1, 1, 1, 1, 1, 1, 1, 1, 1, 1, 1, 2, 1, 2, 1, 1, 1, 1, 1, 1, 1, 1, 1, 1, 1, 1, 1, 1, 6, 1, 4, 1, 1, 1, 1, 1, 2, 1, 1, 1, 7, 1, 1, 1, 1, 1, 2, 7, 1, 1, 1, 2, 14, 2, 10, 1, 1, 1, 1, 4, 1, 3, 1, 2, 1, 1, 1, 1, 2, 1, 29, 1, 3, 1, 1, 2, 6, 1, 10, 1, 1, 3, 34, 4, 1, 1, 5, 1, 1, 1, 1, 1, 1, 1, 1, 1, 1, 1, 2, 2, 5, 10, 1, 1, 3, 3, 8, 1, 3, 1, 1, 1, 24, 1, 1, 1, 1, 2, 1, 1, 26, 1, 1, 1, 1, 1, 4, 1, 1, 4, 1, 1, 1, 3, 1, 6, 1, 1, 1, 1, 10, 1, 1, 2, 1, 1, 1, 1, 1, 2, 4, 1, 3, 1, 1, 1, 1, 1, 1, 1, 1, 1, 1, 1, 1, 2, 1, 1, 1, 9, 1, 10, 16, 1, 1, 1, 4, 2, 1, 1, 1, 1, 11, 5, 1, 1, 1, 13, 1, 1, 1, 1, 1, 5, 1, 23, 1, 1, 1, 2, 2, 2, 1, 1, 1, 1, 1, 1, 1, 1, 1, 4, 1, 1, 1, 1], \"yaxis\": \"y\"}],\n",
       "                        {\"coloraxis\": {\"colorbar\": {\"title\": {\"text\": \"item_id\"}}, \"colorscale\": [[0.0, \"#0d0887\"], [0.1111111111111111, \"#46039f\"], [0.2222222222222222, \"#7201a8\"], [0.3333333333333333, \"#9c179e\"], [0.4444444444444444, \"#bd3786\"], [0.5555555555555556, \"#d8576b\"], [0.6666666666666666, \"#ed7953\"], [0.7777777777777778, \"#fb9f3a\"], [0.8888888888888888, \"#fdca26\"], [1.0, \"#f0f921\"]]}, \"height\": 600, \"legend\": {\"itemsizing\": \"constant\", \"tracegroupgap\": 0}, \"margin\": {\"t\": 60}, \"template\": {\"data\": {\"bar\": [{\"error_x\": {\"color\": \"#2a3f5f\"}, \"error_y\": {\"color\": \"#2a3f5f\"}, \"marker\": {\"line\": {\"color\": \"#E5ECF6\", \"width\": 0.5}}, \"type\": \"bar\"}], \"barpolar\": [{\"marker\": {\"line\": {\"color\": \"#E5ECF6\", \"width\": 0.5}}, \"type\": \"barpolar\"}], \"carpet\": [{\"aaxis\": {\"endlinecolor\": \"#2a3f5f\", \"gridcolor\": \"white\", \"linecolor\": \"white\", \"minorgridcolor\": \"white\", \"startlinecolor\": \"#2a3f5f\"}, \"baxis\": {\"endlinecolor\": \"#2a3f5f\", \"gridcolor\": \"white\", \"linecolor\": \"white\", \"minorgridcolor\": \"white\", \"startlinecolor\": \"#2a3f5f\"}, \"type\": \"carpet\"}], \"choropleth\": [{\"colorbar\": {\"outlinewidth\": 0, \"ticks\": \"\"}, \"type\": \"choropleth\"}], \"contour\": [{\"colorbar\": {\"outlinewidth\": 0, \"ticks\": \"\"}, \"colorscale\": [[0.0, \"#0d0887\"], [0.1111111111111111, \"#46039f\"], [0.2222222222222222, \"#7201a8\"], [0.3333333333333333, \"#9c179e\"], [0.4444444444444444, \"#bd3786\"], [0.5555555555555556, \"#d8576b\"], [0.6666666666666666, \"#ed7953\"], [0.7777777777777778, \"#fb9f3a\"], [0.8888888888888888, \"#fdca26\"], [1.0, \"#f0f921\"]], \"type\": \"contour\"}], \"contourcarpet\": [{\"colorbar\": {\"outlinewidth\": 0, \"ticks\": \"\"}, \"type\": \"contourcarpet\"}], \"heatmap\": [{\"colorbar\": {\"outlinewidth\": 0, \"ticks\": \"\"}, \"colorscale\": [[0.0, \"#0d0887\"], [0.1111111111111111, \"#46039f\"], [0.2222222222222222, \"#7201a8\"], [0.3333333333333333, \"#9c179e\"], [0.4444444444444444, \"#bd3786\"], [0.5555555555555556, \"#d8576b\"], [0.6666666666666666, \"#ed7953\"], [0.7777777777777778, \"#fb9f3a\"], [0.8888888888888888, \"#fdca26\"], [1.0, \"#f0f921\"]], \"type\": \"heatmap\"}], \"heatmapgl\": [{\"colorbar\": {\"outlinewidth\": 0, \"ticks\": \"\"}, \"colorscale\": [[0.0, \"#0d0887\"], [0.1111111111111111, \"#46039f\"], [0.2222222222222222, \"#7201a8\"], [0.3333333333333333, \"#9c179e\"], [0.4444444444444444, \"#bd3786\"], [0.5555555555555556, \"#d8576b\"], [0.6666666666666666, \"#ed7953\"], [0.7777777777777778, \"#fb9f3a\"], [0.8888888888888888, \"#fdca26\"], [1.0, \"#f0f921\"]], \"type\": \"heatmapgl\"}], \"histogram\": [{\"marker\": {\"colorbar\": {\"outlinewidth\": 0, \"ticks\": \"\"}}, \"type\": \"histogram\"}], \"histogram2d\": [{\"colorbar\": {\"outlinewidth\": 0, \"ticks\": \"\"}, \"colorscale\": [[0.0, \"#0d0887\"], [0.1111111111111111, \"#46039f\"], [0.2222222222222222, \"#7201a8\"], [0.3333333333333333, \"#9c179e\"], [0.4444444444444444, \"#bd3786\"], [0.5555555555555556, \"#d8576b\"], [0.6666666666666666, \"#ed7953\"], [0.7777777777777778, \"#fb9f3a\"], [0.8888888888888888, \"#fdca26\"], [1.0, \"#f0f921\"]], \"type\": \"histogram2d\"}], \"histogram2dcontour\": [{\"colorbar\": {\"outlinewidth\": 0, \"ticks\": \"\"}, \"colorscale\": [[0.0, \"#0d0887\"], [0.1111111111111111, \"#46039f\"], [0.2222222222222222, \"#7201a8\"], [0.3333333333333333, \"#9c179e\"], [0.4444444444444444, \"#bd3786\"], [0.5555555555555556, \"#d8576b\"], [0.6666666666666666, \"#ed7953\"], [0.7777777777777778, \"#fb9f3a\"], [0.8888888888888888, \"#fdca26\"], [1.0, \"#f0f921\"]], \"type\": \"histogram2dcontour\"}], \"mesh3d\": [{\"colorbar\": {\"outlinewidth\": 0, \"ticks\": \"\"}, \"type\": \"mesh3d\"}], \"parcoords\": [{\"line\": {\"colorbar\": {\"outlinewidth\": 0, \"ticks\": \"\"}}, \"type\": \"parcoords\"}], \"scatter\": [{\"marker\": {\"colorbar\": {\"outlinewidth\": 0, \"ticks\": \"\"}}, \"type\": \"scatter\"}], \"scatter3d\": [{\"line\": {\"colorbar\": {\"outlinewidth\": 0, \"ticks\": \"\"}}, \"marker\": {\"colorbar\": {\"outlinewidth\": 0, \"ticks\": \"\"}}, \"type\": \"scatter3d\"}], \"scattercarpet\": [{\"marker\": {\"colorbar\": {\"outlinewidth\": 0, \"ticks\": \"\"}}, \"type\": \"scattercarpet\"}], \"scattergeo\": [{\"marker\": {\"colorbar\": {\"outlinewidth\": 0, \"ticks\": \"\"}}, \"type\": \"scattergeo\"}], \"scattergl\": [{\"marker\": {\"colorbar\": {\"outlinewidth\": 0, \"ticks\": \"\"}}, \"type\": \"scattergl\"}], \"scattermapbox\": [{\"marker\": {\"colorbar\": {\"outlinewidth\": 0, \"ticks\": \"\"}}, \"type\": \"scattermapbox\"}], \"scatterpolar\": [{\"marker\": {\"colorbar\": {\"outlinewidth\": 0, \"ticks\": \"\"}}, \"type\": \"scatterpolar\"}], \"scatterpolargl\": [{\"marker\": {\"colorbar\": {\"outlinewidth\": 0, \"ticks\": \"\"}}, \"type\": \"scatterpolargl\"}], \"scatterternary\": [{\"marker\": {\"colorbar\": {\"outlinewidth\": 0, \"ticks\": \"\"}}, \"type\": \"scatterternary\"}], \"surface\": [{\"colorbar\": {\"outlinewidth\": 0, \"ticks\": \"\"}, \"colorscale\": [[0.0, \"#0d0887\"], [0.1111111111111111, \"#46039f\"], [0.2222222222222222, \"#7201a8\"], [0.3333333333333333, \"#9c179e\"], [0.4444444444444444, \"#bd3786\"], [0.5555555555555556, \"#d8576b\"], [0.6666666666666666, \"#ed7953\"], [0.7777777777777778, \"#fb9f3a\"], [0.8888888888888888, \"#fdca26\"], [1.0, \"#f0f921\"]], \"type\": \"surface\"}], \"table\": [{\"cells\": {\"fill\": {\"color\": \"#EBF0F8\"}, \"line\": {\"color\": \"white\"}}, \"header\": {\"fill\": {\"color\": \"#C8D4E3\"}, \"line\": {\"color\": \"white\"}}, \"type\": \"table\"}]}, \"layout\": {\"annotationdefaults\": {\"arrowcolor\": \"#2a3f5f\", \"arrowhead\": 0, \"arrowwidth\": 1}, \"colorscale\": {\"diverging\": [[0, \"#8e0152\"], [0.1, \"#c51b7d\"], [0.2, \"#de77ae\"], [0.3, \"#f1b6da\"], [0.4, \"#fde0ef\"], [0.5, \"#f7f7f7\"], [0.6, \"#e6f5d0\"], [0.7, \"#b8e186\"], [0.8, \"#7fbc41\"], [0.9, \"#4d9221\"], [1, \"#276419\"]], \"sequential\": [[0.0, \"#0d0887\"], [0.1111111111111111, \"#46039f\"], [0.2222222222222222, \"#7201a8\"], [0.3333333333333333, \"#9c179e\"], [0.4444444444444444, \"#bd3786\"], [0.5555555555555556, \"#d8576b\"], [0.6666666666666666, \"#ed7953\"], [0.7777777777777778, \"#fb9f3a\"], [0.8888888888888888, \"#fdca26\"], [1.0, \"#f0f921\"]], \"sequentialminus\": [[0.0, \"#0d0887\"], [0.1111111111111111, \"#46039f\"], [0.2222222222222222, \"#7201a8\"], [0.3333333333333333, \"#9c179e\"], [0.4444444444444444, \"#bd3786\"], [0.5555555555555556, \"#d8576b\"], [0.6666666666666666, \"#ed7953\"], [0.7777777777777778, \"#fb9f3a\"], [0.8888888888888888, \"#fdca26\"], [1.0, \"#f0f921\"]]}, \"colorway\": [\"#636efa\", \"#EF553B\", \"#00cc96\", \"#ab63fa\", \"#FFA15A\", \"#19d3f3\", \"#FF6692\", \"#B6E880\", \"#FF97FF\", \"#FECB52\"], \"font\": {\"color\": \"#2a3f5f\"}, \"geo\": {\"bgcolor\": \"white\", \"lakecolor\": \"white\", \"landcolor\": \"#E5ECF6\", \"showlakes\": true, \"showland\": true, \"subunitcolor\": \"white\"}, \"hoverlabel\": {\"align\": \"left\"}, \"hovermode\": \"closest\", \"mapbox\": {\"style\": \"light\"}, \"paper_bgcolor\": \"white\", \"plot_bgcolor\": \"#E5ECF6\", \"polar\": {\"angularaxis\": {\"gridcolor\": \"white\", \"linecolor\": \"white\", \"ticks\": \"\"}, \"bgcolor\": \"#E5ECF6\", \"radialaxis\": {\"gridcolor\": \"white\", \"linecolor\": \"white\", \"ticks\": \"\"}}, \"scene\": {\"xaxis\": {\"backgroundcolor\": \"#E5ECF6\", \"gridcolor\": \"white\", \"gridwidth\": 2, \"linecolor\": \"white\", \"showbackground\": true, \"ticks\": \"\", \"zerolinecolor\": \"white\"}, \"yaxis\": {\"backgroundcolor\": \"#E5ECF6\", \"gridcolor\": \"white\", \"gridwidth\": 2, \"linecolor\": \"white\", \"showbackground\": true, \"ticks\": \"\", \"zerolinecolor\": \"white\"}, \"zaxis\": {\"backgroundcolor\": \"#E5ECF6\", \"gridcolor\": \"white\", \"gridwidth\": 2, \"linecolor\": \"white\", \"showbackground\": true, \"ticks\": \"\", \"zerolinecolor\": \"white\"}}, \"shapedefaults\": {\"line\": {\"color\": \"#2a3f5f\"}}, \"ternary\": {\"aaxis\": {\"gridcolor\": \"white\", \"linecolor\": \"white\", \"ticks\": \"\"}, \"baxis\": {\"gridcolor\": \"white\", \"linecolor\": \"white\", \"ticks\": \"\"}, \"bgcolor\": \"#E5ECF6\", \"caxis\": {\"gridcolor\": \"white\", \"linecolor\": \"white\", \"ticks\": \"\"}}, \"title\": {\"x\": 0.05}, \"xaxis\": {\"automargin\": true, \"gridcolor\": \"white\", \"linecolor\": \"white\", \"ticks\": \"\", \"zerolinecolor\": \"white\", \"zerolinewidth\": 2}, \"yaxis\": {\"automargin\": true, \"gridcolor\": \"white\", \"linecolor\": \"white\", \"ticks\": \"\", \"zerolinecolor\": \"white\", \"zerolinewidth\": 2}}}, \"xaxis\": {\"anchor\": \"y\", \"domain\": [0.0, 0.98], \"title\": {\"text\": \"YM_plus\"}}, \"yaxis\": {\"anchor\": \"x\", \"domain\": [0.0, 1.0], \"title\": {\"text\": \"Num_Shops\"}}},\n",
       "                        {\"responsive\": true}\n",
       "                    ).then(function(){\n",
       "                            \n",
       "var gd = document.getElementById('03425c17-23ea-481e-951d-5030eab826af');\n",
       "var x = new MutationObserver(function (mutations, observer) {{\n",
       "        var display = window.getComputedStyle(gd).display;\n",
       "        if (!display || display === 'none') {{\n",
       "            console.log([gd, 'removed!']);\n",
       "            Plotly.purge(gd);\n",
       "            observer.disconnect();\n",
       "        }}\n",
       "}});\n",
       "\n",
       "// Listen for the removal of the full notebook cells\n",
       "var notebookContainer = gd.closest('#notebook-container');\n",
       "if (notebookContainer) {{\n",
       "    x.observe(notebookContainer, {childList: true});\n",
       "}}\n",
       "\n",
       "// Listen for the clearing of the current output cell\n",
       "var outputEl = gd.closest('.output');\n",
       "if (outputEl) {{\n",
       "    x.observe(outputEl, {childList: true});\n",
       "}}\n",
       "\n",
       "                        })\n",
       "                };\n",
       "                });\n",
       "            </script>\n",
       "        </div>"
      ]
     },
     "metadata": {},
     "output_type": "display_data"
    }
   ],
   "source": [
    "import plotly.express as px\n",
    "\n",
    "fig = px.scatter(shpdev1306_5, x=\"YM_plus\", y=\"Num_Shops\", opacity=0.4,color=\"item_id\",\n",
    "                 size='Num_months_Sold', hover_data=['SoldPM'])\n",
    "fig.show()\n"
   ]
  },
  {
   "cell_type": "code",
   "execution_count": 25,
   "metadata": {},
   "outputs": [
    {
     "data": {
      "application/vnd.plotly.v1+json": {
       "config": {
        "plotlyServerURL": "https://plot.ly"
       },
       "data": [
        {
         "customdata": [
          [
           6
          ],
          [
           7
          ],
          [
           9
          ],
          [
           10
          ],
          [
           5
          ],
          [
           4
          ],
          [
           4
          ],
          [
           10
          ],
          [
           10
          ],
          [
           7
          ],
          [
           28
          ],
          [
           28
          ],
          [
           13
          ],
          [
           28
          ],
          [
           28
          ],
          [
           10
          ],
          [
           26
          ],
          [
           27
          ],
          [
           7
          ],
          [
           8
          ],
          [
           7
          ],
          [
           9
          ],
          [
           23
          ],
          [
           28
          ],
          [
           15
          ],
          [
           6
          ],
          [
           6
          ],
          [
           9
          ],
          [
           4
          ],
          [
           20
          ],
          [
           4
          ],
          [
           7
          ],
          [
           13
          ],
          [
           7
          ],
          [
           5
          ],
          [
           20
          ],
          [
           7
          ],
          [
           15
          ],
          [
           24
          ],
          [
           12
          ],
          [
           11
          ],
          [
           6
          ],
          [
           7
          ],
          [
           6
          ],
          [
           6
          ],
          [
           7
          ],
          [
           7
          ],
          [
           6
          ],
          [
           11
          ],
          [
           18
          ],
          [
           14
          ],
          [
           4
          ],
          [
           18
          ],
          [
           5
          ],
          [
           8
          ],
          [
           15
          ],
          [
           26
          ],
          [
           5
          ],
          [
           17
          ],
          [
           6
          ],
          [
           6
          ],
          [
           9
          ],
          [
           12
          ],
          [
           12
          ],
          [
           16
          ],
          [
           4
          ],
          [
           5
          ],
          [
           10
          ],
          [
           6
          ],
          [
           9
          ],
          [
           8
          ],
          [
           28
          ],
          [
           4
          ],
          [
           11
          ],
          [
           6
          ],
          [
           7
          ],
          [
           7
          ],
          [
           28
          ],
          [
           12
          ],
          [
           16
          ],
          [
           4
          ],
          [
           20
          ],
          [
           4
          ],
          [
           6
          ],
          [
           21
          ],
          [
           15
          ],
          [
           16
          ],
          [
           20
          ],
          [
           16
          ],
          [
           12
          ],
          [
           23
          ],
          [
           8
          ],
          [
           5
          ],
          [
           6
          ],
          [
           17
          ],
          [
           5
          ],
          [
           4
          ],
          [
           8
          ],
          [
           19
          ],
          [
           13
          ],
          [
           19
          ],
          [
           12
          ],
          [
           23
          ],
          [
           17
          ],
          [
           15
          ],
          [
           14
          ],
          [
           10
          ],
          [
           4
          ],
          [
           5
          ],
          [
           16
          ],
          [
           6
          ],
          [
           18
          ],
          [
           5
          ],
          [
           7
          ],
          [
           15
          ],
          [
           18
          ],
          [
           15
          ],
          [
           5
          ],
          [
           7
          ],
          [
           19
          ],
          [
           4
          ],
          [
           17
          ],
          [
           6
          ],
          [
           6
          ],
          [
           12
          ],
          [
           18
          ],
          [
           15
          ],
          [
           8
          ],
          [
           5
          ],
          [
           13
          ],
          [
           15
          ],
          [
           5
          ],
          [
           14
          ],
          [
           16
          ],
          [
           6
          ],
          [
           5
          ],
          [
           9
          ],
          [
           5
          ],
          [
           15
          ],
          [
           19
          ],
          [
           23
          ],
          [
           23
          ],
          [
           28
          ],
          [
           5
          ],
          [
           15
          ],
          [
           10
          ],
          [
           16
          ],
          [
           5
          ],
          [
           18
          ],
          [
           28
          ],
          [
           14
          ],
          [
           4
          ],
          [
           19
          ],
          [
           18
          ],
          [
           28
          ],
          [
           28
          ],
          [
           27
          ],
          [
           23
          ],
          [
           26
          ],
          [
           6
          ],
          [
           6
          ],
          [
           13
          ],
          [
           15
          ],
          [
           17
          ],
          [
           10
          ],
          [
           5
          ],
          [
           9
          ],
          [
           6
          ],
          [
           10
          ],
          [
           10
          ],
          [
           9
          ],
          [
           5
          ],
          [
           28
          ],
          [
           9
          ],
          [
           17
          ],
          [
           4
          ],
          [
           20
          ],
          [
           4
          ],
          [
           14
          ],
          [
           19
          ],
          [
           15
          ],
          [
           19
          ],
          [
           6
          ],
          [
           26
          ],
          [
           28
          ],
          [
           28
          ],
          [
           13
          ],
          [
           7
          ],
          [
           18
          ],
          [
           7
          ],
          [
           8
          ],
          [
           15
          ],
          [
           7
          ],
          [
           12
          ],
          [
           13
          ],
          [
           9
          ],
          [
           10
          ],
          [
           4
          ],
          [
           5
          ],
          [
           9
          ],
          [
           4
          ],
          [
           5
          ],
          [
           27
          ],
          [
           9
          ],
          [
           23
          ],
          [
           15
          ],
          [
           18
          ],
          [
           7
          ],
          [
           28
          ],
          [
           20
          ],
          [
           17
          ],
          [
           6
          ],
          [
           10
          ],
          [
           7
          ],
          [
           28
          ],
          [
           5
          ],
          [
           4
          ],
          [
           6
          ],
          [
           4
          ],
          [
           18
          ],
          [
           10
          ],
          [
           5
          ],
          [
           28
          ],
          [
           23
          ],
          [
           18
          ],
          [
           4
          ],
          [
           4
          ],
          [
           10
          ],
          [
           18
          ],
          [
           6
          ],
          [
           13
          ],
          [
           28
          ],
          [
           10
          ],
          [
           5
          ],
          [
           24
          ],
          [
           16
          ],
          [
           26
          ],
          [
           28
          ],
          [
           7
          ],
          [
           26
          ],
          [
           7
          ],
          [
           4
          ],
          [
           28
          ],
          [
           17
          ],
          [
           20
          ],
          [
           19
          ],
          [
           4
          ],
          [
           12
          ],
          [
           16
          ],
          [
           6
          ],
          [
           15
          ],
          [
           13
          ],
          [
           15
          ],
          [
           6
          ],
          [
           28
          ],
          [
           8
          ],
          [
           19
          ],
          [
           5
          ],
          [
           9
          ],
          [
           10
          ],
          [
           23
          ],
          [
           8
          ],
          [
           6
          ],
          [
           6
          ],
          [
           8
          ],
          [
           6
          ],
          [
           11
          ],
          [
           6
          ],
          [
           4
          ],
          [
           6
          ],
          [
           10
          ],
          [
           28
          ],
          [
           16
          ],
          [
           28
          ],
          [
           28
          ],
          [
           17
          ],
          [
           9
          ],
          [
           7
          ],
          [
           28
          ],
          [
           6
          ],
          [
           12
          ],
          [
           15
          ],
          [
           9
          ],
          [
           18
          ],
          [
           27
          ],
          [
           28
          ],
          [
           12
          ],
          [
           15
          ],
          [
           8
          ],
          [
           28
          ],
          [
           5
          ],
          [
           4
          ],
          [
           6
          ],
          [
           5
          ],
          [
           7
          ],
          [
           9
          ],
          [
           7
          ],
          [
           28
          ],
          [
           13
          ],
          [
           9
          ],
          [
           5
          ],
          [
           14
          ],
          [
           17
          ],
          [
           8
          ],
          [
           6
          ],
          [
           15
          ],
          [
           16
          ],
          [
           7
          ],
          [
           4
          ],
          [
           14
          ],
          [
           13
          ],
          [
           20
          ],
          [
           15
          ],
          [
           19
          ],
          [
           18
          ],
          [
           5
          ],
          [
           20
          ],
          [
           5
          ]
         ],
         "hoverlabel": {
          "namelength": 0
         },
         "hovertemplate": "YM2=%{x}<br>Num_Shops=%{y}<br>SoldPM=%{marker.size}<br>Num_months_Sold=%{customdata[0]}<br>item_id=%{marker.color}",
         "legendgroup": "",
         "marker": {
          "color": [
           483,
           707,
           6461,
           6458,
           6382,
           6373,
           727,
           5876,
           6462,
           752,
           5669,
           5663,
           862,
           5660,
           5655,
           5251,
           5241,
           5673,
           5175,
           6463,
           6961,
           644,
           10168,
           10078,
           9827,
           9303,
           9105,
           8882,
           6944,
           8364,
           7776,
           7031,
           6985,
           6982,
           6981,
           6975,
           6973,
           7871,
           10237,
           4762,
           4760,
           2388,
           1149,
           2026,
           2025,
           2019,
           2013,
           2006,
           2394,
           1309,
           1982,
           1962,
           1892,
           1636,
           1631,
           1619,
           1453,
           1990,
           4761,
           2405,
           914,
           4759,
           864,
           4744,
           4259,
           4239,
           4189,
           4030,
           2452,
           3764,
           906,
           3707,
           3567,
           3161,
           2513,
           2511,
           2501,
           3708,
           10346,
           652,
           630,
           18739,
           18732,
           18614,
           18573,
           521,
           18090,
           17903,
           18740,
           17700,
           17674,
           17616,
           17612,
           11278,
           16944,
           16778,
           16774,
           17699,
           18804,
           18810,
           18880,
           21803,
           21406,
           21345,
           21344,
           21343,
           490,
           21170,
           20788,
           20782,
           20551,
           20351,
           19941,
           19870,
           505,
           19721,
           19396,
           18991,
           581,
           16727,
           17171,
           14489,
           11344,
           11636,
           11818,
           12166,
           12215,
           622,
           12223,
           13068,
           13916,
           620,
           14174,
           16263,
           14857,
           15390,
           611,
           1344,
           15931,
           15814,
           16233,
           17674,
           5655,
           1344,
           7871,
           5876,
           20782,
           1990,
           12166,
           5660,
           1982,
           21170,
           16727,
           1892,
           5663,
           10078,
           5673,
           10168,
           1453,
           11278,
           2388,
           13068,
           19396,
           16944,
           6458,
           15390,
           6461,
           14857,
           4030,
           6462,
           3764,
           17612,
           3708,
           4759,
           14489,
           6944,
           18739,
           6373,
           14174,
           15814,
           13916,
           18880,
           2452,
           5241,
           3707,
           5669,
           6985,
           707,
           1309,
           1149,
           906,
           521,
           752,
           864,
           862,
           611,
           490,
           727,
           17612,
           8882,
           17171,
           16778,
           5673,
           3764,
           21406,
           521,
           12166,
           19870,
           10078,
           6975,
           16944,
           11636,
           6458,
           2501,
           3707,
           6382,
           1962,
           11344,
           6373,
           1892,
           5876,
           19941,
           3708,
           17674,
           1309,
           7776,
           630,
           6462,
           19721,
           2388,
           862,
           5655,
           5251,
           1344,
           10237,
           18740,
           1453,
           5660,
           6961,
           5241,
           5175,
           18732,
           5663,
           4761,
           8364,
           18880,
           4239,
           864,
           18090,
           14857,
           9827,
           13068,
           13916,
           9303,
           5669,
           6463,
           15814,
           620,
           6461,
           6462,
           17674,
           17616,
           2452,
           2388,
           6463,
           9303,
           2394,
           11636,
           21170,
           18614,
           6458,
           5655,
           18740,
           5660,
           5663,
           4761,
           4759,
           752,
           5669,
           14857,
           864,
           505,
           6461,
           19721,
           5673,
           10078,
           17700,
           521,
           17699,
           3708,
           19941,
           727,
           11344,
           6382,
           707,
           3764,
           19870,
           3707,
           862,
           8882,
           1636,
           14174,
           16944,
           1631,
           9105,
           13916,
           652,
           581,
           1962,
           1982,
           13068,
           8364,
           12215,
           16727,
           1892,
           1344,
           6975,
           1990
          ],
          "coloraxis": "coloraxis",
          "opacity": 0.4,
          "size": [
           1,
           1,
           3,
           2,
           1,
           2,
           1,
           1,
           3,
           1,
           12,
           29,
           1,
           7,
           7,
           1,
           2,
           11,
           1,
           1,
           1,
           1,
           1,
           4,
           1,
           1,
           1,
           1,
           1,
           2,
           1,
           1,
           1,
           1,
           1,
           1,
           1,
           1,
           1,
           1,
           1,
           1,
           1,
           1,
           1,
           1,
           1,
           1,
           1,
           2,
           3,
           3,
           2,
           1,
           2,
           1,
           2,
           1,
           1,
           1,
           1,
           1,
           1,
           1,
           2,
           8,
           1,
           1,
           1,
           1,
           1,
           274,
           1,
           1,
           1,
           1,
           1,
           122,
           1,
           2,
           1,
           2,
           1,
           1,
           1,
           1,
           1,
           1,
           1,
           1,
           1,
           1,
           1,
           1,
           1,
           1,
           1,
           1,
           1,
           1,
           1,
           2,
           1,
           1,
           1,
           1,
           2,
           1,
           1,
           1,
           1,
           2,
           1,
           2,
           1,
           2,
           1,
           1,
           3,
           1,
           1,
           1,
           1,
           1,
           1,
           1,
           1,
           1,
           1,
           1,
           6,
           1,
           4,
           3,
           1,
           1,
           3,
           1,
           2,
           1,
           1,
           2,
           10,
           2,
           1,
           1,
           1,
           3,
           2,
           8,
           1,
           1,
           1,
           2,
           38,
           2,
           14,
           1,
           1,
           1,
           1,
           4,
           2,
           3,
           1,
           3,
           1,
           1,
           1,
           1,
           3,
           1,
           52,
           2,
           3,
           1,
           1,
           2,
           7,
           1,
           10,
           1,
           1,
           3,
           117,
           4,
           1,
           1,
           6,
           1,
           1,
           1,
           1,
           1,
           2,
           1,
           1,
           1,
           1,
           1,
           2,
           2,
           7,
           12,
           1,
           1,
           5,
           3,
           9,
           1,
           3,
           1,
           1,
           1,
           46,
           1,
           1,
           1,
           1,
           2,
           1,
           1,
           39,
           2,
           2,
           1,
           1,
           1,
           5,
           1,
           1,
           4,
           1,
           1,
           1,
           3,
           1,
           11,
           1,
           1,
           1,
           1,
           19,
           1,
           1,
           2,
           5,
           1,
           2,
           1,
           1,
           2,
           4,
           1,
           4,
           1,
           1,
           1,
           1,
           1,
           1,
           2,
           1,
           1,
           1,
           1,
           1,
           2,
           1,
           1,
           1,
           13,
           1,
           14,
           37,
           2,
           1,
           1,
           6,
           2,
           1,
           1,
           1,
           1,
           14,
           5,
           2,
           1,
           1,
           14,
           1,
           1,
           1,
           2,
           1,
           5,
           1,
           37,
           1,
           1,
           1,
           3,
           2,
           2,
           1,
           1,
           1,
           3,
           1,
           1,
           1,
           1,
           1,
           5,
           1,
           1,
           3,
           1
          ],
          "sizemode": "area",
          "sizeref": 0.685,
          "symbol": "circle"
         },
         "mode": "markers",
         "name": "",
         "showlegend": false,
         "type": "scatter",
         "x": [
          "_201306",
          "_201306",
          "_201306",
          "_201306",
          "_201306",
          "_201306",
          "_201306",
          "_201306",
          "_201306",
          "_201306",
          "_201306",
          "_201306",
          "_201306",
          "_201306",
          "_201306",
          "_201306",
          "_201306",
          "_201306",
          "_201306",
          "_201306",
          "_201306",
          "_201306",
          "_201306",
          "_201306",
          "_201306",
          "_201306",
          "_201306",
          "_201306",
          "_201306",
          "_201306",
          "_201306",
          "_201306",
          "_201306",
          "_201306",
          "_201306",
          "_201306",
          "_201306",
          "_201306",
          "_201306",
          "_201306",
          "_201306",
          "_201306",
          "_201306",
          "_201306",
          "_201306",
          "_201306",
          "_201306",
          "_201306",
          "_201306",
          "_201306",
          "_201306",
          "_201306",
          "_201306",
          "_201306",
          "_201306",
          "_201306",
          "_201306",
          "_201306",
          "_201306",
          "_201306",
          "_201306",
          "_201306",
          "_201306",
          "_201306",
          "_201306",
          "_201306",
          "_201306",
          "_201306",
          "_201306",
          "_201306",
          "_201306",
          "_201306",
          "_201306",
          "_201306",
          "_201306",
          "_201306",
          "_201306",
          "_201306",
          "_201306",
          "_201306",
          "_201306",
          "_201306",
          "_201306",
          "_201306",
          "_201306",
          "_201306",
          "_201306",
          "_201306",
          "_201306",
          "_201306",
          "_201306",
          "_201306",
          "_201306",
          "_201306",
          "_201306",
          "_201306",
          "_201306",
          "_201306",
          "_201306",
          "_201306",
          "_201306",
          "_201306",
          "_201306",
          "_201306",
          "_201306",
          "_201306",
          "_201306",
          "_201306",
          "_201306",
          "_201306",
          "_201306",
          "_201306",
          "_201306",
          "_201306",
          "_201306",
          "_201306",
          "_201306",
          "_201306",
          "_201306",
          "_201306",
          "_201306",
          "_201306",
          "_201306",
          "_201306",
          "_201306",
          "_201306",
          "_201306",
          "_201306",
          "_201306",
          "_201306",
          "_201306",
          "_201306",
          "_201306",
          "_201306",
          "_201306",
          "_201306",
          "_201306",
          "_201306",
          "_201306",
          "_201306",
          "_201306",
          "_201307",
          "_201307",
          "_201307",
          "_201307",
          "_201307",
          "_201307",
          "_201307",
          "_201307",
          "_201307",
          "_201307",
          "_201307",
          "_201307",
          "_201307",
          "_201307",
          "_201307",
          "_201307",
          "_201307",
          "_201307",
          "_201307",
          "_201307",
          "_201307",
          "_201307",
          "_201307",
          "_201307",
          "_201307",
          "_201307",
          "_201307",
          "_201307",
          "_201307",
          "_201307",
          "_201307",
          "_201307",
          "_201307",
          "_201307",
          "_201307",
          "_201307",
          "_201307",
          "_201307",
          "_201307",
          "_201307",
          "_201307",
          "_201307",
          "_201307",
          "_201307",
          "_201307",
          "_201307",
          "_201307",
          "_201307",
          "_201307",
          "_201307",
          "_201307",
          "_201307",
          "_201307",
          "_201307",
          "_201307",
          "_201307",
          "_201307",
          "_201308",
          "_201308",
          "_201308",
          "_201308",
          "_201308",
          "_201308",
          "_201308",
          "_201308",
          "_201308",
          "_201308",
          "_201308",
          "_201308",
          "_201308",
          "_201308",
          "_201308",
          "_201308",
          "_201308",
          "_201308",
          "_201308",
          "_201308",
          "_201308",
          "_201308",
          "_201308",
          "_201308",
          "_201308",
          "_201308",
          "_201308",
          "_201308",
          "_201308",
          "_201308",
          "_201308",
          "_201308",
          "_201308",
          "_201308",
          "_201308",
          "_201308",
          "_201308",
          "_201308",
          "_201308",
          "_201308",
          "_201308",
          "_201308",
          "_201308",
          "_201308",
          "_201308",
          "_201308",
          "_201308",
          "_201308",
          "_201308",
          "_201308",
          "_201308",
          "_201308",
          "_201308",
          "_201308",
          "_201308",
          "_201308",
          "_201308",
          "_201308",
          "_201308",
          "_201308",
          "_201308",
          "_201309",
          "_201309",
          "_201309",
          "_201309",
          "_201309",
          "_201309",
          "_201309",
          "_201309",
          "_201309",
          "_201309",
          "_201309",
          "_201309",
          "_201309",
          "_201309",
          "_201309",
          "_201309",
          "_201309",
          "_201309",
          "_201309",
          "_201309",
          "_201309",
          "_201309",
          "_201309",
          "_201309",
          "_201309",
          "_201309",
          "_201309",
          "_201309",
          "_201309",
          "_201309",
          "_201309",
          "_201309",
          "_201309",
          "_201309",
          "_201309",
          "_201309",
          "_201309",
          "_201309",
          "_201309",
          "_201309",
          "_201309",
          "_201309",
          "_201309",
          "_201309",
          "_201309",
          "_201309",
          "_201309",
          "_201309",
          "_201309",
          "_201309",
          "_201309",
          "_201309",
          "_201309",
          "_201309",
          "_201309",
          "_201309",
          "_201309",
          "_201309",
          "_201309"
         ],
         "xaxis": "x",
         "y": [
          1,
          1,
          1,
          1,
          1,
          2,
          1,
          1,
          1,
          1,
          7,
          10,
          1,
          6,
          4,
          1,
          1,
          6,
          1,
          1,
          1,
          1,
          1,
          2,
          1,
          1,
          1,
          1,
          1,
          2,
          1,
          1,
          1,
          1,
          1,
          1,
          1,
          1,
          1,
          1,
          1,
          1,
          1,
          1,
          1,
          1,
          1,
          1,
          1,
          2,
          1,
          3,
          2,
          1,
          2,
          1,
          2,
          1,
          1,
          1,
          1,
          1,
          1,
          1,
          1,
          1,
          1,
          1,
          1,
          1,
          1,
          38,
          1,
          1,
          1,
          1,
          1,
          37,
          1,
          1,
          1,
          2,
          1,
          1,
          1,
          1,
          1,
          1,
          1,
          1,
          1,
          1,
          1,
          1,
          1,
          1,
          1,
          1,
          1,
          1,
          1,
          1,
          1,
          1,
          1,
          1,
          1,
          1,
          1,
          1,
          1,
          1,
          1,
          2,
          1,
          2,
          1,
          1,
          1,
          1,
          1,
          1,
          1,
          1,
          1,
          1,
          1,
          1,
          1,
          1,
          6,
          1,
          4,
          1,
          1,
          1,
          1,
          1,
          2,
          1,
          1,
          1,
          7,
          1,
          1,
          1,
          1,
          1,
          2,
          7,
          1,
          1,
          1,
          2,
          14,
          2,
          10,
          1,
          1,
          1,
          1,
          4,
          1,
          3,
          1,
          2,
          1,
          1,
          1,
          1,
          2,
          1,
          29,
          1,
          3,
          1,
          1,
          2,
          6,
          1,
          10,
          1,
          1,
          3,
          34,
          4,
          1,
          1,
          5,
          1,
          1,
          1,
          1,
          1,
          1,
          1,
          1,
          1,
          1,
          1,
          2,
          2,
          5,
          10,
          1,
          1,
          3,
          3,
          8,
          1,
          3,
          1,
          1,
          1,
          24,
          1,
          1,
          1,
          1,
          2,
          1,
          1,
          26,
          1,
          1,
          1,
          1,
          1,
          4,
          1,
          1,
          4,
          1,
          1,
          1,
          3,
          1,
          6,
          1,
          1,
          1,
          1,
          10,
          1,
          1,
          2,
          1,
          1,
          1,
          1,
          1,
          2,
          4,
          1,
          3,
          1,
          1,
          1,
          1,
          1,
          1,
          1,
          1,
          1,
          1,
          1,
          1,
          2,
          1,
          1,
          1,
          9,
          1,
          10,
          16,
          1,
          1,
          1,
          4,
          2,
          1,
          1,
          1,
          1,
          11,
          5,
          1,
          1,
          1,
          13,
          1,
          1,
          1,
          1,
          1,
          5,
          1,
          23,
          1,
          1,
          1,
          2,
          2,
          2,
          1,
          1,
          1,
          1,
          1,
          1,
          1,
          1,
          1,
          4,
          1,
          1,
          1,
          1
         ],
         "yaxis": "y"
        }
       ],
       "layout": {
        "coloraxis": {
         "colorbar": {
          "title": {
           "text": "item_id"
          }
         },
         "colorscale": [
          [
           0,
           "#0d0887"
          ],
          [
           0.1111111111111111,
           "#46039f"
          ],
          [
           0.2222222222222222,
           "#7201a8"
          ],
          [
           0.3333333333333333,
           "#9c179e"
          ],
          [
           0.4444444444444444,
           "#bd3786"
          ],
          [
           0.5555555555555556,
           "#d8576b"
          ],
          [
           0.6666666666666666,
           "#ed7953"
          ],
          [
           0.7777777777777778,
           "#fb9f3a"
          ],
          [
           0.8888888888888888,
           "#fdca26"
          ],
          [
           1,
           "#f0f921"
          ]
         ]
        },
        "height": 600,
        "legend": {
         "itemsizing": "constant",
         "tracegroupgap": 0
        },
        "margin": {
         "t": 60
        },
        "template": {
         "data": {
          "bar": [
           {
            "error_x": {
             "color": "#2a3f5f"
            },
            "error_y": {
             "color": "#2a3f5f"
            },
            "marker": {
             "line": {
              "color": "#E5ECF6",
              "width": 0.5
             }
            },
            "type": "bar"
           }
          ],
          "barpolar": [
           {
            "marker": {
             "line": {
              "color": "#E5ECF6",
              "width": 0.5
             }
            },
            "type": "barpolar"
           }
          ],
          "carpet": [
           {
            "aaxis": {
             "endlinecolor": "#2a3f5f",
             "gridcolor": "white",
             "linecolor": "white",
             "minorgridcolor": "white",
             "startlinecolor": "#2a3f5f"
            },
            "baxis": {
             "endlinecolor": "#2a3f5f",
             "gridcolor": "white",
             "linecolor": "white",
             "minorgridcolor": "white",
             "startlinecolor": "#2a3f5f"
            },
            "type": "carpet"
           }
          ],
          "choropleth": [
           {
            "colorbar": {
             "outlinewidth": 0,
             "ticks": ""
            },
            "type": "choropleth"
           }
          ],
          "contour": [
           {
            "colorbar": {
             "outlinewidth": 0,
             "ticks": ""
            },
            "colorscale": [
             [
              0,
              "#0d0887"
             ],
             [
              0.1111111111111111,
              "#46039f"
             ],
             [
              0.2222222222222222,
              "#7201a8"
             ],
             [
              0.3333333333333333,
              "#9c179e"
             ],
             [
              0.4444444444444444,
              "#bd3786"
             ],
             [
              0.5555555555555556,
              "#d8576b"
             ],
             [
              0.6666666666666666,
              "#ed7953"
             ],
             [
              0.7777777777777778,
              "#fb9f3a"
             ],
             [
              0.8888888888888888,
              "#fdca26"
             ],
             [
              1,
              "#f0f921"
             ]
            ],
            "type": "contour"
           }
          ],
          "contourcarpet": [
           {
            "colorbar": {
             "outlinewidth": 0,
             "ticks": ""
            },
            "type": "contourcarpet"
           }
          ],
          "heatmap": [
           {
            "colorbar": {
             "outlinewidth": 0,
             "ticks": ""
            },
            "colorscale": [
             [
              0,
              "#0d0887"
             ],
             [
              0.1111111111111111,
              "#46039f"
             ],
             [
              0.2222222222222222,
              "#7201a8"
             ],
             [
              0.3333333333333333,
              "#9c179e"
             ],
             [
              0.4444444444444444,
              "#bd3786"
             ],
             [
              0.5555555555555556,
              "#d8576b"
             ],
             [
              0.6666666666666666,
              "#ed7953"
             ],
             [
              0.7777777777777778,
              "#fb9f3a"
             ],
             [
              0.8888888888888888,
              "#fdca26"
             ],
             [
              1,
              "#f0f921"
             ]
            ],
            "type": "heatmap"
           }
          ],
          "heatmapgl": [
           {
            "colorbar": {
             "outlinewidth": 0,
             "ticks": ""
            },
            "colorscale": [
             [
              0,
              "#0d0887"
             ],
             [
              0.1111111111111111,
              "#46039f"
             ],
             [
              0.2222222222222222,
              "#7201a8"
             ],
             [
              0.3333333333333333,
              "#9c179e"
             ],
             [
              0.4444444444444444,
              "#bd3786"
             ],
             [
              0.5555555555555556,
              "#d8576b"
             ],
             [
              0.6666666666666666,
              "#ed7953"
             ],
             [
              0.7777777777777778,
              "#fb9f3a"
             ],
             [
              0.8888888888888888,
              "#fdca26"
             ],
             [
              1,
              "#f0f921"
             ]
            ],
            "type": "heatmapgl"
           }
          ],
          "histogram": [
           {
            "marker": {
             "colorbar": {
              "outlinewidth": 0,
              "ticks": ""
             }
            },
            "type": "histogram"
           }
          ],
          "histogram2d": [
           {
            "colorbar": {
             "outlinewidth": 0,
             "ticks": ""
            },
            "colorscale": [
             [
              0,
              "#0d0887"
             ],
             [
              0.1111111111111111,
              "#46039f"
             ],
             [
              0.2222222222222222,
              "#7201a8"
             ],
             [
              0.3333333333333333,
              "#9c179e"
             ],
             [
              0.4444444444444444,
              "#bd3786"
             ],
             [
              0.5555555555555556,
              "#d8576b"
             ],
             [
              0.6666666666666666,
              "#ed7953"
             ],
             [
              0.7777777777777778,
              "#fb9f3a"
             ],
             [
              0.8888888888888888,
              "#fdca26"
             ],
             [
              1,
              "#f0f921"
             ]
            ],
            "type": "histogram2d"
           }
          ],
          "histogram2dcontour": [
           {
            "colorbar": {
             "outlinewidth": 0,
             "ticks": ""
            },
            "colorscale": [
             [
              0,
              "#0d0887"
             ],
             [
              0.1111111111111111,
              "#46039f"
             ],
             [
              0.2222222222222222,
              "#7201a8"
             ],
             [
              0.3333333333333333,
              "#9c179e"
             ],
             [
              0.4444444444444444,
              "#bd3786"
             ],
             [
              0.5555555555555556,
              "#d8576b"
             ],
             [
              0.6666666666666666,
              "#ed7953"
             ],
             [
              0.7777777777777778,
              "#fb9f3a"
             ],
             [
              0.8888888888888888,
              "#fdca26"
             ],
             [
              1,
              "#f0f921"
             ]
            ],
            "type": "histogram2dcontour"
           }
          ],
          "mesh3d": [
           {
            "colorbar": {
             "outlinewidth": 0,
             "ticks": ""
            },
            "type": "mesh3d"
           }
          ],
          "parcoords": [
           {
            "line": {
             "colorbar": {
              "outlinewidth": 0,
              "ticks": ""
             }
            },
            "type": "parcoords"
           }
          ],
          "scatter": [
           {
            "marker": {
             "colorbar": {
              "outlinewidth": 0,
              "ticks": ""
             }
            },
            "type": "scatter"
           }
          ],
          "scatter3d": [
           {
            "line": {
             "colorbar": {
              "outlinewidth": 0,
              "ticks": ""
             }
            },
            "marker": {
             "colorbar": {
              "outlinewidth": 0,
              "ticks": ""
             }
            },
            "type": "scatter3d"
           }
          ],
          "scattercarpet": [
           {
            "marker": {
             "colorbar": {
              "outlinewidth": 0,
              "ticks": ""
             }
            },
            "type": "scattercarpet"
           }
          ],
          "scattergeo": [
           {
            "marker": {
             "colorbar": {
              "outlinewidth": 0,
              "ticks": ""
             }
            },
            "type": "scattergeo"
           }
          ],
          "scattergl": [
           {
            "marker": {
             "colorbar": {
              "outlinewidth": 0,
              "ticks": ""
             }
            },
            "type": "scattergl"
           }
          ],
          "scattermapbox": [
           {
            "marker": {
             "colorbar": {
              "outlinewidth": 0,
              "ticks": ""
             }
            },
            "type": "scattermapbox"
           }
          ],
          "scatterpolar": [
           {
            "marker": {
             "colorbar": {
              "outlinewidth": 0,
              "ticks": ""
             }
            },
            "type": "scatterpolar"
           }
          ],
          "scatterpolargl": [
           {
            "marker": {
             "colorbar": {
              "outlinewidth": 0,
              "ticks": ""
             }
            },
            "type": "scatterpolargl"
           }
          ],
          "scatterternary": [
           {
            "marker": {
             "colorbar": {
              "outlinewidth": 0,
              "ticks": ""
             }
            },
            "type": "scatterternary"
           }
          ],
          "surface": [
           {
            "colorbar": {
             "outlinewidth": 0,
             "ticks": ""
            },
            "colorscale": [
             [
              0,
              "#0d0887"
             ],
             [
              0.1111111111111111,
              "#46039f"
             ],
             [
              0.2222222222222222,
              "#7201a8"
             ],
             [
              0.3333333333333333,
              "#9c179e"
             ],
             [
              0.4444444444444444,
              "#bd3786"
             ],
             [
              0.5555555555555556,
              "#d8576b"
             ],
             [
              0.6666666666666666,
              "#ed7953"
             ],
             [
              0.7777777777777778,
              "#fb9f3a"
             ],
             [
              0.8888888888888888,
              "#fdca26"
             ],
             [
              1,
              "#f0f921"
             ]
            ],
            "type": "surface"
           }
          ],
          "table": [
           {
            "cells": {
             "fill": {
              "color": "#EBF0F8"
             },
             "line": {
              "color": "white"
             }
            },
            "header": {
             "fill": {
              "color": "#C8D4E3"
             },
             "line": {
              "color": "white"
             }
            },
            "type": "table"
           }
          ]
         },
         "layout": {
          "annotationdefaults": {
           "arrowcolor": "#2a3f5f",
           "arrowhead": 0,
           "arrowwidth": 1
          },
          "colorscale": {
           "diverging": [
            [
             0,
             "#8e0152"
            ],
            [
             0.1,
             "#c51b7d"
            ],
            [
             0.2,
             "#de77ae"
            ],
            [
             0.3,
             "#f1b6da"
            ],
            [
             0.4,
             "#fde0ef"
            ],
            [
             0.5,
             "#f7f7f7"
            ],
            [
             0.6,
             "#e6f5d0"
            ],
            [
             0.7,
             "#b8e186"
            ],
            [
             0.8,
             "#7fbc41"
            ],
            [
             0.9,
             "#4d9221"
            ],
            [
             1,
             "#276419"
            ]
           ],
           "sequential": [
            [
             0,
             "#0d0887"
            ],
            [
             0.1111111111111111,
             "#46039f"
            ],
            [
             0.2222222222222222,
             "#7201a8"
            ],
            [
             0.3333333333333333,
             "#9c179e"
            ],
            [
             0.4444444444444444,
             "#bd3786"
            ],
            [
             0.5555555555555556,
             "#d8576b"
            ],
            [
             0.6666666666666666,
             "#ed7953"
            ],
            [
             0.7777777777777778,
             "#fb9f3a"
            ],
            [
             0.8888888888888888,
             "#fdca26"
            ],
            [
             1,
             "#f0f921"
            ]
           ],
           "sequentialminus": [
            [
             0,
             "#0d0887"
            ],
            [
             0.1111111111111111,
             "#46039f"
            ],
            [
             0.2222222222222222,
             "#7201a8"
            ],
            [
             0.3333333333333333,
             "#9c179e"
            ],
            [
             0.4444444444444444,
             "#bd3786"
            ],
            [
             0.5555555555555556,
             "#d8576b"
            ],
            [
             0.6666666666666666,
             "#ed7953"
            ],
            [
             0.7777777777777778,
             "#fb9f3a"
            ],
            [
             0.8888888888888888,
             "#fdca26"
            ],
            [
             1,
             "#f0f921"
            ]
           ]
          },
          "colorway": [
           "#636efa",
           "#EF553B",
           "#00cc96",
           "#ab63fa",
           "#FFA15A",
           "#19d3f3",
           "#FF6692",
           "#B6E880",
           "#FF97FF",
           "#FECB52"
          ],
          "font": {
           "color": "#2a3f5f"
          },
          "geo": {
           "bgcolor": "white",
           "lakecolor": "white",
           "landcolor": "#E5ECF6",
           "showlakes": true,
           "showland": true,
           "subunitcolor": "white"
          },
          "hoverlabel": {
           "align": "left"
          },
          "hovermode": "closest",
          "mapbox": {
           "style": "light"
          },
          "paper_bgcolor": "white",
          "plot_bgcolor": "#E5ECF6",
          "polar": {
           "angularaxis": {
            "gridcolor": "white",
            "linecolor": "white",
            "ticks": ""
           },
           "bgcolor": "#E5ECF6",
           "radialaxis": {
            "gridcolor": "white",
            "linecolor": "white",
            "ticks": ""
           }
          },
          "scene": {
           "xaxis": {
            "backgroundcolor": "#E5ECF6",
            "gridcolor": "white",
            "gridwidth": 2,
            "linecolor": "white",
            "showbackground": true,
            "ticks": "",
            "zerolinecolor": "white"
           },
           "yaxis": {
            "backgroundcolor": "#E5ECF6",
            "gridcolor": "white",
            "gridwidth": 2,
            "linecolor": "white",
            "showbackground": true,
            "ticks": "",
            "zerolinecolor": "white"
           },
           "zaxis": {
            "backgroundcolor": "#E5ECF6",
            "gridcolor": "white",
            "gridwidth": 2,
            "linecolor": "white",
            "showbackground": true,
            "ticks": "",
            "zerolinecolor": "white"
           }
          },
          "shapedefaults": {
           "line": {
            "color": "#2a3f5f"
           }
          },
          "ternary": {
           "aaxis": {
            "gridcolor": "white",
            "linecolor": "white",
            "ticks": ""
           },
           "baxis": {
            "gridcolor": "white",
            "linecolor": "white",
            "ticks": ""
           },
           "bgcolor": "#E5ECF6",
           "caxis": {
            "gridcolor": "white",
            "linecolor": "white",
            "ticks": ""
           }
          },
          "title": {
           "x": 0.05
          },
          "xaxis": {
           "automargin": true,
           "gridcolor": "white",
           "linecolor": "white",
           "ticks": "",
           "zerolinecolor": "white",
           "zerolinewidth": 2
          },
          "yaxis": {
           "automargin": true,
           "gridcolor": "white",
           "linecolor": "white",
           "ticks": "",
           "zerolinecolor": "white",
           "zerolinewidth": 2
          }
         }
        },
        "xaxis": {
         "anchor": "y",
         "domain": [
          0,
          0.98
         ],
         "title": {
          "text": "YM2"
         }
        },
        "yaxis": {
         "anchor": "x",
         "domain": [
          0,
          1
         ],
         "title": {
          "text": "Num_Shops"
         }
        }
       }
      },
      "text/html": [
       "<div>\n",
       "        \n",
       "        \n",
       "            <div id=\"d1126eab-2999-47ab-82a3-1b5d49a61735\" class=\"plotly-graph-div\" style=\"height:600px; width:100%;\"></div>\n",
       "            <script type=\"text/javascript\">\n",
       "                require([\"plotly\"], function(Plotly) {\n",
       "                    window.PLOTLYENV=window.PLOTLYENV || {};\n",
       "                    \n",
       "                if (document.getElementById(\"d1126eab-2999-47ab-82a3-1b5d49a61735\")) {\n",
       "                    Plotly.newPlot(\n",
       "                        'd1126eab-2999-47ab-82a3-1b5d49a61735',\n",
       "                        [{\"customdata\": [[6], [7], [9], [10], [5], [4], [4], [10], [10], [7], [28], [28], [13], [28], [28], [10], [26], [27], [7], [8], [7], [9], [23], [28], [15], [6], [6], [9], [4], [20], [4], [7], [13], [7], [5], [20], [7], [15], [24], [12], [11], [6], [7], [6], [6], [7], [7], [6], [11], [18], [14], [4], [18], [5], [8], [15], [26], [5], [17], [6], [6], [9], [12], [12], [16], [4], [5], [10], [6], [9], [8], [28], [4], [11], [6], [7], [7], [28], [12], [16], [4], [20], [4], [6], [21], [15], [16], [20], [16], [12], [23], [8], [5], [6], [17], [5], [4], [8], [19], [13], [19], [12], [23], [17], [15], [14], [10], [4], [5], [16], [6], [18], [5], [7], [15], [18], [15], [5], [7], [19], [4], [17], [6], [6], [12], [18], [15], [8], [5], [13], [15], [5], [14], [16], [6], [5], [9], [5], [15], [19], [23], [23], [28], [5], [15], [10], [16], [5], [18], [28], [14], [4], [19], [18], [28], [28], [27], [23], [26], [6], [6], [13], [15], [17], [10], [5], [9], [6], [10], [10], [9], [5], [28], [9], [17], [4], [20], [4], [14], [19], [15], [19], [6], [26], [28], [28], [13], [7], [18], [7], [8], [15], [7], [12], [13], [9], [10], [4], [5], [9], [4], [5], [27], [9], [23], [15], [18], [7], [28], [20], [17], [6], [10], [7], [28], [5], [4], [6], [4], [18], [10], [5], [28], [23], [18], [4], [4], [10], [18], [6], [13], [28], [10], [5], [24], [16], [26], [28], [7], [26], [7], [4], [28], [17], [20], [19], [4], [12], [16], [6], [15], [13], [15], [6], [28], [8], [19], [5], [9], [10], [23], [8], [6], [6], [8], [6], [11], [6], [4], [6], [10], [28], [16], [28], [28], [17], [9], [7], [28], [6], [12], [15], [9], [18], [27], [28], [12], [15], [8], [28], [5], [4], [6], [5], [7], [9], [7], [28], [13], [9], [5], [14], [17], [8], [6], [15], [16], [7], [4], [14], [13], [20], [15], [19], [18], [5], [20], [5]], \"hoverlabel\": {\"namelength\": 0}, \"hovertemplate\": \"YM2=%{x}<br>Num_Shops=%{y}<br>SoldPM=%{marker.size}<br>Num_months_Sold=%{customdata[0]}<br>item_id=%{marker.color}\", \"legendgroup\": \"\", \"marker\": {\"color\": [483, 707, 6461, 6458, 6382, 6373, 727, 5876, 6462, 752, 5669, 5663, 862, 5660, 5655, 5251, 5241, 5673, 5175, 6463, 6961, 644, 10168, 10078, 9827, 9303, 9105, 8882, 6944, 8364, 7776, 7031, 6985, 6982, 6981, 6975, 6973, 7871, 10237, 4762, 4760, 2388, 1149, 2026, 2025, 2019, 2013, 2006, 2394, 1309, 1982, 1962, 1892, 1636, 1631, 1619, 1453, 1990, 4761, 2405, 914, 4759, 864, 4744, 4259, 4239, 4189, 4030, 2452, 3764, 906, 3707, 3567, 3161, 2513, 2511, 2501, 3708, 10346, 652, 630, 18739, 18732, 18614, 18573, 521, 18090, 17903, 18740, 17700, 17674, 17616, 17612, 11278, 16944, 16778, 16774, 17699, 18804, 18810, 18880, 21803, 21406, 21345, 21344, 21343, 490, 21170, 20788, 20782, 20551, 20351, 19941, 19870, 505, 19721, 19396, 18991, 581, 16727, 17171, 14489, 11344, 11636, 11818, 12166, 12215, 622, 12223, 13068, 13916, 620, 14174, 16263, 14857, 15390, 611, 1344, 15931, 15814, 16233, 17674, 5655, 1344, 7871, 5876, 20782, 1990, 12166, 5660, 1982, 21170, 16727, 1892, 5663, 10078, 5673, 10168, 1453, 11278, 2388, 13068, 19396, 16944, 6458, 15390, 6461, 14857, 4030, 6462, 3764, 17612, 3708, 4759, 14489, 6944, 18739, 6373, 14174, 15814, 13916, 18880, 2452, 5241, 3707, 5669, 6985, 707, 1309, 1149, 906, 521, 752, 864, 862, 611, 490, 727, 17612, 8882, 17171, 16778, 5673, 3764, 21406, 521, 12166, 19870, 10078, 6975, 16944, 11636, 6458, 2501, 3707, 6382, 1962, 11344, 6373, 1892, 5876, 19941, 3708, 17674, 1309, 7776, 630, 6462, 19721, 2388, 862, 5655, 5251, 1344, 10237, 18740, 1453, 5660, 6961, 5241, 5175, 18732, 5663, 4761, 8364, 18880, 4239, 864, 18090, 14857, 9827, 13068, 13916, 9303, 5669, 6463, 15814, 620, 6461, 6462, 17674, 17616, 2452, 2388, 6463, 9303, 2394, 11636, 21170, 18614, 6458, 5655, 18740, 5660, 5663, 4761, 4759, 752, 5669, 14857, 864, 505, 6461, 19721, 5673, 10078, 17700, 521, 17699, 3708, 19941, 727, 11344, 6382, 707, 3764, 19870, 3707, 862, 8882, 1636, 14174, 16944, 1631, 9105, 13916, 652, 581, 1962, 1982, 13068, 8364, 12215, 16727, 1892, 1344, 6975, 1990], \"coloraxis\": \"coloraxis\", \"opacity\": 0.4, \"size\": [1.0, 1.0, 3.0, 2.0, 1.0, 2.0, 1.0, 1.0, 3.0, 1.0, 12.0, 29.0, 1.0, 7.0, 7.0, 1.0, 2.0, 11.0, 1.0, 1.0, 1.0, 1.0, 1.0, 4.0, 1.0, 1.0, 1.0, 1.0, 1.0, 2.0, 1.0, 1.0, 1.0, 1.0, 1.0, 1.0, 1.0, 1.0, 1.0, 1.0, 1.0, 1.0, 1.0, 1.0, 1.0, 1.0, 1.0, 1.0, 1.0, 2.0, 3.0, 3.0, 2.0, 1.0, 2.0, 1.0, 2.0, 1.0, 1.0, 1.0, 1.0, 1.0, 1.0, 1.0, 2.0, 8.0, 1.0, 1.0, 1.0, 1.0, 1.0, 274.0, 1.0, 1.0, 1.0, 1.0, 1.0, 122.0, 1.0, 2.0, 1.0, 2.0, 1.0, 1.0, 1.0, 1.0, 1.0, 1.0, 1.0, 1.0, 1.0, 1.0, 1.0, 1.0, 1.0, 1.0, 1.0, 1.0, 1.0, 1.0, 1.0, 2.0, 1.0, 1.0, 1.0, 1.0, 2.0, 1.0, 1.0, 1.0, 1.0, 2.0, 1.0, 2.0, 1.0, 2.0, 1.0, 1.0, 3.0, 1.0, 1.0, 1.0, 1.0, 1.0, 1.0, 1.0, 1.0, 1.0, 1.0, 1.0, 6.0, 1.0, 4.0, 3.0, 1.0, 1.0, 3.0, 1.0, 2.0, 1.0, 1.0, 2.0, 10.0, 2.0, 1.0, 1.0, 1.0, 3.0, 2.0, 8.0, 1.0, 1.0, 1.0, 2.0, 38.0, 2.0, 14.0, 1.0, 1.0, 1.0, 1.0, 4.0, 2.0, 3.0, 1.0, 3.0, 1.0, 1.0, 1.0, 1.0, 3.0, 1.0, 52.0, 2.0, 3.0, 1.0, 1.0, 2.0, 7.0, 1.0, 10.0, 1.0, 1.0, 3.0, 117.0, 4.0, 1.0, 1.0, 6.0, 1.0, 1.0, 1.0, 1.0, 1.0, 2.0, 1.0, 1.0, 1.0, 1.0, 1.0, 2.0, 2.0, 7.0, 12.0, 1.0, 1.0, 5.0, 3.0, 9.0, 1.0, 3.0, 1.0, 1.0, 1.0, 46.0, 1.0, 1.0, 1.0, 1.0, 2.0, 1.0, 1.0, 39.0, 2.0, 2.0, 1.0, 1.0, 1.0, 5.0, 1.0, 1.0, 4.0, 1.0, 1.0, 1.0, 3.0, 1.0, 11.0, 1.0, 1.0, 1.0, 1.0, 19.0, 1.0, 1.0, 2.0, 5.0, 1.0, 2.0, 1.0, 1.0, 2.0, 4.0, 1.0, 4.0, 1.0, 1.0, 1.0, 1.0, 1.0, 1.0, 2.0, 1.0, 1.0, 1.0, 1.0, 1.0, 2.0, 1.0, 1.0, 1.0, 13.0, 1.0, 14.0, 37.0, 2.0, 1.0, 1.0, 6.0, 2.0, 1.0, 1.0, 1.0, 1.0, 14.0, 5.0, 2.0, 1.0, 1.0, 14.0, 1.0, 1.0, 1.0, 2.0, 1.0, 5.0, 1.0, 37.0, 1.0, 1.0, 1.0, 3.0, 2.0, 2.0, 1.0, 1.0, 1.0, 3.0, 1.0, 1.0, 1.0, 1.0, 1.0, 5.0, 1.0, 1.0, 3.0, 1.0], \"sizemode\": \"area\", \"sizeref\": 0.685, \"symbol\": \"circle\"}, \"mode\": \"markers\", \"name\": \"\", \"showlegend\": false, \"type\": \"scatter\", \"x\": [\"_201306\", \"_201306\", \"_201306\", \"_201306\", \"_201306\", \"_201306\", \"_201306\", \"_201306\", \"_201306\", \"_201306\", \"_201306\", \"_201306\", \"_201306\", \"_201306\", \"_201306\", \"_201306\", \"_201306\", \"_201306\", \"_201306\", \"_201306\", \"_201306\", \"_201306\", \"_201306\", \"_201306\", \"_201306\", \"_201306\", \"_201306\", \"_201306\", \"_201306\", \"_201306\", \"_201306\", \"_201306\", \"_201306\", \"_201306\", \"_201306\", \"_201306\", \"_201306\", \"_201306\", \"_201306\", \"_201306\", \"_201306\", \"_201306\", \"_201306\", \"_201306\", \"_201306\", \"_201306\", \"_201306\", \"_201306\", \"_201306\", \"_201306\", \"_201306\", \"_201306\", \"_201306\", \"_201306\", \"_201306\", \"_201306\", \"_201306\", \"_201306\", \"_201306\", \"_201306\", \"_201306\", \"_201306\", \"_201306\", \"_201306\", \"_201306\", \"_201306\", \"_201306\", \"_201306\", \"_201306\", \"_201306\", \"_201306\", \"_201306\", \"_201306\", \"_201306\", \"_201306\", \"_201306\", \"_201306\", \"_201306\", \"_201306\", \"_201306\", \"_201306\", \"_201306\", \"_201306\", \"_201306\", \"_201306\", \"_201306\", \"_201306\", \"_201306\", \"_201306\", \"_201306\", \"_201306\", \"_201306\", \"_201306\", \"_201306\", \"_201306\", \"_201306\", \"_201306\", \"_201306\", \"_201306\", \"_201306\", \"_201306\", \"_201306\", \"_201306\", \"_201306\", \"_201306\", \"_201306\", \"_201306\", \"_201306\", \"_201306\", \"_201306\", \"_201306\", \"_201306\", \"_201306\", \"_201306\", \"_201306\", \"_201306\", \"_201306\", \"_201306\", \"_201306\", \"_201306\", \"_201306\", \"_201306\", \"_201306\", \"_201306\", \"_201306\", \"_201306\", \"_201306\", \"_201306\", \"_201306\", \"_201306\", \"_201306\", \"_201306\", \"_201306\", \"_201306\", \"_201306\", \"_201306\", \"_201306\", \"_201306\", \"_201306\", \"_201306\", \"_201306\", \"_201307\", \"_201307\", \"_201307\", \"_201307\", \"_201307\", \"_201307\", \"_201307\", \"_201307\", \"_201307\", \"_201307\", \"_201307\", \"_201307\", \"_201307\", \"_201307\", \"_201307\", \"_201307\", \"_201307\", \"_201307\", \"_201307\", \"_201307\", \"_201307\", \"_201307\", \"_201307\", \"_201307\", \"_201307\", \"_201307\", \"_201307\", \"_201307\", \"_201307\", \"_201307\", \"_201307\", \"_201307\", \"_201307\", \"_201307\", \"_201307\", \"_201307\", \"_201307\", \"_201307\", \"_201307\", \"_201307\", \"_201307\", \"_201307\", \"_201307\", \"_201307\", \"_201307\", \"_201307\", \"_201307\", \"_201307\", \"_201307\", \"_201307\", \"_201307\", \"_201307\", \"_201307\", \"_201307\", \"_201307\", \"_201307\", \"_201307\", \"_201308\", \"_201308\", \"_201308\", \"_201308\", \"_201308\", \"_201308\", \"_201308\", \"_201308\", \"_201308\", \"_201308\", \"_201308\", \"_201308\", \"_201308\", \"_201308\", \"_201308\", \"_201308\", \"_201308\", \"_201308\", \"_201308\", \"_201308\", \"_201308\", \"_201308\", \"_201308\", \"_201308\", \"_201308\", \"_201308\", \"_201308\", \"_201308\", \"_201308\", \"_201308\", \"_201308\", \"_201308\", \"_201308\", \"_201308\", \"_201308\", \"_201308\", \"_201308\", \"_201308\", \"_201308\", \"_201308\", \"_201308\", \"_201308\", \"_201308\", \"_201308\", \"_201308\", \"_201308\", \"_201308\", \"_201308\", \"_201308\", \"_201308\", \"_201308\", \"_201308\", \"_201308\", \"_201308\", \"_201308\", \"_201308\", \"_201308\", \"_201308\", \"_201308\", \"_201308\", \"_201308\", \"_201309\", \"_201309\", \"_201309\", \"_201309\", \"_201309\", \"_201309\", \"_201309\", \"_201309\", \"_201309\", \"_201309\", \"_201309\", \"_201309\", \"_201309\", \"_201309\", \"_201309\", \"_201309\", \"_201309\", \"_201309\", \"_201309\", \"_201309\", \"_201309\", \"_201309\", \"_201309\", \"_201309\", \"_201309\", \"_201309\", \"_201309\", \"_201309\", \"_201309\", \"_201309\", \"_201309\", \"_201309\", \"_201309\", \"_201309\", \"_201309\", \"_201309\", \"_201309\", \"_201309\", \"_201309\", \"_201309\", \"_201309\", \"_201309\", \"_201309\", \"_201309\", \"_201309\", \"_201309\", \"_201309\", \"_201309\", \"_201309\", \"_201309\", \"_201309\", \"_201309\", \"_201309\", \"_201309\", \"_201309\", \"_201309\", \"_201309\", \"_201309\", \"_201309\"], \"xaxis\": \"x\", \"y\": [1, 1, 1, 1, 1, 2, 1, 1, 1, 1, 7, 10, 1, 6, 4, 1, 1, 6, 1, 1, 1, 1, 1, 2, 1, 1, 1, 1, 1, 2, 1, 1, 1, 1, 1, 1, 1, 1, 1, 1, 1, 1, 1, 1, 1, 1, 1, 1, 1, 2, 1, 3, 2, 1, 2, 1, 2, 1, 1, 1, 1, 1, 1, 1, 1, 1, 1, 1, 1, 1, 1, 38, 1, 1, 1, 1, 1, 37, 1, 1, 1, 2, 1, 1, 1, 1, 1, 1, 1, 1, 1, 1, 1, 1, 1, 1, 1, 1, 1, 1, 1, 1, 1, 1, 1, 1, 1, 1, 1, 1, 1, 1, 1, 2, 1, 2, 1, 1, 1, 1, 1, 1, 1, 1, 1, 1, 1, 1, 1, 1, 6, 1, 4, 1, 1, 1, 1, 1, 2, 1, 1, 1, 7, 1, 1, 1, 1, 1, 2, 7, 1, 1, 1, 2, 14, 2, 10, 1, 1, 1, 1, 4, 1, 3, 1, 2, 1, 1, 1, 1, 2, 1, 29, 1, 3, 1, 1, 2, 6, 1, 10, 1, 1, 3, 34, 4, 1, 1, 5, 1, 1, 1, 1, 1, 1, 1, 1, 1, 1, 1, 2, 2, 5, 10, 1, 1, 3, 3, 8, 1, 3, 1, 1, 1, 24, 1, 1, 1, 1, 2, 1, 1, 26, 1, 1, 1, 1, 1, 4, 1, 1, 4, 1, 1, 1, 3, 1, 6, 1, 1, 1, 1, 10, 1, 1, 2, 1, 1, 1, 1, 1, 2, 4, 1, 3, 1, 1, 1, 1, 1, 1, 1, 1, 1, 1, 1, 1, 2, 1, 1, 1, 9, 1, 10, 16, 1, 1, 1, 4, 2, 1, 1, 1, 1, 11, 5, 1, 1, 1, 13, 1, 1, 1, 1, 1, 5, 1, 23, 1, 1, 1, 2, 2, 2, 1, 1, 1, 1, 1, 1, 1, 1, 1, 4, 1, 1, 1, 1], \"yaxis\": \"y\"}],\n",
       "                        {\"coloraxis\": {\"colorbar\": {\"title\": {\"text\": \"item_id\"}}, \"colorscale\": [[0.0, \"#0d0887\"], [0.1111111111111111, \"#46039f\"], [0.2222222222222222, \"#7201a8\"], [0.3333333333333333, \"#9c179e\"], [0.4444444444444444, \"#bd3786\"], [0.5555555555555556, \"#d8576b\"], [0.6666666666666666, \"#ed7953\"], [0.7777777777777778, \"#fb9f3a\"], [0.8888888888888888, \"#fdca26\"], [1.0, \"#f0f921\"]]}, \"height\": 600, \"legend\": {\"itemsizing\": \"constant\", \"tracegroupgap\": 0}, \"margin\": {\"t\": 60}, \"template\": {\"data\": {\"bar\": [{\"error_x\": {\"color\": \"#2a3f5f\"}, \"error_y\": {\"color\": \"#2a3f5f\"}, \"marker\": {\"line\": {\"color\": \"#E5ECF6\", \"width\": 0.5}}, \"type\": \"bar\"}], \"barpolar\": [{\"marker\": {\"line\": {\"color\": \"#E5ECF6\", \"width\": 0.5}}, \"type\": \"barpolar\"}], \"carpet\": [{\"aaxis\": {\"endlinecolor\": \"#2a3f5f\", \"gridcolor\": \"white\", \"linecolor\": \"white\", \"minorgridcolor\": \"white\", \"startlinecolor\": \"#2a3f5f\"}, \"baxis\": {\"endlinecolor\": \"#2a3f5f\", \"gridcolor\": \"white\", \"linecolor\": \"white\", \"minorgridcolor\": \"white\", \"startlinecolor\": \"#2a3f5f\"}, \"type\": \"carpet\"}], \"choropleth\": [{\"colorbar\": {\"outlinewidth\": 0, \"ticks\": \"\"}, \"type\": \"choropleth\"}], \"contour\": [{\"colorbar\": {\"outlinewidth\": 0, \"ticks\": \"\"}, \"colorscale\": [[0.0, \"#0d0887\"], [0.1111111111111111, \"#46039f\"], [0.2222222222222222, \"#7201a8\"], [0.3333333333333333, \"#9c179e\"], [0.4444444444444444, \"#bd3786\"], [0.5555555555555556, \"#d8576b\"], [0.6666666666666666, \"#ed7953\"], [0.7777777777777778, \"#fb9f3a\"], [0.8888888888888888, \"#fdca26\"], [1.0, \"#f0f921\"]], \"type\": \"contour\"}], \"contourcarpet\": [{\"colorbar\": {\"outlinewidth\": 0, \"ticks\": \"\"}, \"type\": \"contourcarpet\"}], \"heatmap\": [{\"colorbar\": {\"outlinewidth\": 0, \"ticks\": \"\"}, \"colorscale\": [[0.0, \"#0d0887\"], [0.1111111111111111, \"#46039f\"], [0.2222222222222222, \"#7201a8\"], [0.3333333333333333, \"#9c179e\"], [0.4444444444444444, \"#bd3786\"], [0.5555555555555556, \"#d8576b\"], [0.6666666666666666, \"#ed7953\"], [0.7777777777777778, \"#fb9f3a\"], [0.8888888888888888, \"#fdca26\"], [1.0, \"#f0f921\"]], \"type\": \"heatmap\"}], \"heatmapgl\": [{\"colorbar\": {\"outlinewidth\": 0, \"ticks\": \"\"}, \"colorscale\": [[0.0, \"#0d0887\"], [0.1111111111111111, \"#46039f\"], [0.2222222222222222, \"#7201a8\"], [0.3333333333333333, \"#9c179e\"], [0.4444444444444444, \"#bd3786\"], [0.5555555555555556, \"#d8576b\"], [0.6666666666666666, \"#ed7953\"], [0.7777777777777778, \"#fb9f3a\"], [0.8888888888888888, \"#fdca26\"], [1.0, \"#f0f921\"]], \"type\": \"heatmapgl\"}], \"histogram\": [{\"marker\": {\"colorbar\": {\"outlinewidth\": 0, \"ticks\": \"\"}}, \"type\": \"histogram\"}], \"histogram2d\": [{\"colorbar\": {\"outlinewidth\": 0, \"ticks\": \"\"}, \"colorscale\": [[0.0, \"#0d0887\"], [0.1111111111111111, \"#46039f\"], [0.2222222222222222, \"#7201a8\"], [0.3333333333333333, \"#9c179e\"], [0.4444444444444444, \"#bd3786\"], [0.5555555555555556, \"#d8576b\"], [0.6666666666666666, \"#ed7953\"], [0.7777777777777778, \"#fb9f3a\"], [0.8888888888888888, \"#fdca26\"], [1.0, \"#f0f921\"]], \"type\": \"histogram2d\"}], \"histogram2dcontour\": [{\"colorbar\": {\"outlinewidth\": 0, \"ticks\": \"\"}, \"colorscale\": [[0.0, \"#0d0887\"], [0.1111111111111111, \"#46039f\"], [0.2222222222222222, \"#7201a8\"], [0.3333333333333333, \"#9c179e\"], [0.4444444444444444, \"#bd3786\"], [0.5555555555555556, \"#d8576b\"], [0.6666666666666666, \"#ed7953\"], [0.7777777777777778, \"#fb9f3a\"], [0.8888888888888888, \"#fdca26\"], [1.0, \"#f0f921\"]], \"type\": \"histogram2dcontour\"}], \"mesh3d\": [{\"colorbar\": {\"outlinewidth\": 0, \"ticks\": \"\"}, \"type\": \"mesh3d\"}], \"parcoords\": [{\"line\": {\"colorbar\": {\"outlinewidth\": 0, \"ticks\": \"\"}}, \"type\": \"parcoords\"}], \"scatter\": [{\"marker\": {\"colorbar\": {\"outlinewidth\": 0, \"ticks\": \"\"}}, \"type\": \"scatter\"}], \"scatter3d\": [{\"line\": {\"colorbar\": {\"outlinewidth\": 0, \"ticks\": \"\"}}, \"marker\": {\"colorbar\": {\"outlinewidth\": 0, \"ticks\": \"\"}}, \"type\": \"scatter3d\"}], \"scattercarpet\": [{\"marker\": {\"colorbar\": {\"outlinewidth\": 0, \"ticks\": \"\"}}, \"type\": \"scattercarpet\"}], \"scattergeo\": [{\"marker\": {\"colorbar\": {\"outlinewidth\": 0, \"ticks\": \"\"}}, \"type\": \"scattergeo\"}], \"scattergl\": [{\"marker\": {\"colorbar\": {\"outlinewidth\": 0, \"ticks\": \"\"}}, \"type\": \"scattergl\"}], \"scattermapbox\": [{\"marker\": {\"colorbar\": {\"outlinewidth\": 0, \"ticks\": \"\"}}, \"type\": \"scattermapbox\"}], \"scatterpolar\": [{\"marker\": {\"colorbar\": {\"outlinewidth\": 0, \"ticks\": \"\"}}, \"type\": \"scatterpolar\"}], \"scatterpolargl\": [{\"marker\": {\"colorbar\": {\"outlinewidth\": 0, \"ticks\": \"\"}}, \"type\": \"scatterpolargl\"}], \"scatterternary\": [{\"marker\": {\"colorbar\": {\"outlinewidth\": 0, \"ticks\": \"\"}}, \"type\": \"scatterternary\"}], \"surface\": [{\"colorbar\": {\"outlinewidth\": 0, \"ticks\": \"\"}, \"colorscale\": [[0.0, \"#0d0887\"], [0.1111111111111111, \"#46039f\"], [0.2222222222222222, \"#7201a8\"], [0.3333333333333333, \"#9c179e\"], [0.4444444444444444, \"#bd3786\"], [0.5555555555555556, \"#d8576b\"], [0.6666666666666666, \"#ed7953\"], [0.7777777777777778, \"#fb9f3a\"], [0.8888888888888888, \"#fdca26\"], [1.0, \"#f0f921\"]], \"type\": \"surface\"}], \"table\": [{\"cells\": {\"fill\": {\"color\": \"#EBF0F8\"}, \"line\": {\"color\": \"white\"}}, \"header\": {\"fill\": {\"color\": \"#C8D4E3\"}, \"line\": {\"color\": \"white\"}}, \"type\": \"table\"}]}, \"layout\": {\"annotationdefaults\": {\"arrowcolor\": \"#2a3f5f\", \"arrowhead\": 0, \"arrowwidth\": 1}, \"colorscale\": {\"diverging\": [[0, \"#8e0152\"], [0.1, \"#c51b7d\"], [0.2, \"#de77ae\"], [0.3, \"#f1b6da\"], [0.4, \"#fde0ef\"], [0.5, \"#f7f7f7\"], [0.6, \"#e6f5d0\"], [0.7, \"#b8e186\"], [0.8, \"#7fbc41\"], [0.9, \"#4d9221\"], [1, \"#276419\"]], \"sequential\": [[0.0, \"#0d0887\"], [0.1111111111111111, \"#46039f\"], [0.2222222222222222, \"#7201a8\"], [0.3333333333333333, \"#9c179e\"], [0.4444444444444444, \"#bd3786\"], [0.5555555555555556, \"#d8576b\"], [0.6666666666666666, \"#ed7953\"], [0.7777777777777778, \"#fb9f3a\"], [0.8888888888888888, \"#fdca26\"], [1.0, \"#f0f921\"]], \"sequentialminus\": [[0.0, \"#0d0887\"], [0.1111111111111111, \"#46039f\"], [0.2222222222222222, \"#7201a8\"], [0.3333333333333333, \"#9c179e\"], [0.4444444444444444, \"#bd3786\"], [0.5555555555555556, \"#d8576b\"], [0.6666666666666666, \"#ed7953\"], [0.7777777777777778, \"#fb9f3a\"], [0.8888888888888888, \"#fdca26\"], [1.0, \"#f0f921\"]]}, \"colorway\": [\"#636efa\", \"#EF553B\", \"#00cc96\", \"#ab63fa\", \"#FFA15A\", \"#19d3f3\", \"#FF6692\", \"#B6E880\", \"#FF97FF\", \"#FECB52\"], \"font\": {\"color\": \"#2a3f5f\"}, \"geo\": {\"bgcolor\": \"white\", \"lakecolor\": \"white\", \"landcolor\": \"#E5ECF6\", \"showlakes\": true, \"showland\": true, \"subunitcolor\": \"white\"}, \"hoverlabel\": {\"align\": \"left\"}, \"hovermode\": \"closest\", \"mapbox\": {\"style\": \"light\"}, \"paper_bgcolor\": \"white\", \"plot_bgcolor\": \"#E5ECF6\", \"polar\": {\"angularaxis\": {\"gridcolor\": \"white\", \"linecolor\": \"white\", \"ticks\": \"\"}, \"bgcolor\": \"#E5ECF6\", \"radialaxis\": {\"gridcolor\": \"white\", \"linecolor\": \"white\", \"ticks\": \"\"}}, \"scene\": {\"xaxis\": {\"backgroundcolor\": \"#E5ECF6\", \"gridcolor\": \"white\", \"gridwidth\": 2, \"linecolor\": \"white\", \"showbackground\": true, \"ticks\": \"\", \"zerolinecolor\": \"white\"}, \"yaxis\": {\"backgroundcolor\": \"#E5ECF6\", \"gridcolor\": \"white\", \"gridwidth\": 2, \"linecolor\": \"white\", \"showbackground\": true, \"ticks\": \"\", \"zerolinecolor\": \"white\"}, \"zaxis\": {\"backgroundcolor\": \"#E5ECF6\", \"gridcolor\": \"white\", \"gridwidth\": 2, \"linecolor\": \"white\", \"showbackground\": true, \"ticks\": \"\", \"zerolinecolor\": \"white\"}}, \"shapedefaults\": {\"line\": {\"color\": \"#2a3f5f\"}}, \"ternary\": {\"aaxis\": {\"gridcolor\": \"white\", \"linecolor\": \"white\", \"ticks\": \"\"}, \"baxis\": {\"gridcolor\": \"white\", \"linecolor\": \"white\", \"ticks\": \"\"}, \"bgcolor\": \"#E5ECF6\", \"caxis\": {\"gridcolor\": \"white\", \"linecolor\": \"white\", \"ticks\": \"\"}}, \"title\": {\"x\": 0.05}, \"xaxis\": {\"automargin\": true, \"gridcolor\": \"white\", \"linecolor\": \"white\", \"ticks\": \"\", \"zerolinecolor\": \"white\", \"zerolinewidth\": 2}, \"yaxis\": {\"automargin\": true, \"gridcolor\": \"white\", \"linecolor\": \"white\", \"ticks\": \"\", \"zerolinecolor\": \"white\", \"zerolinewidth\": 2}}}, \"xaxis\": {\"anchor\": \"y\", \"domain\": [0.0, 0.98], \"title\": {\"text\": \"YM2\"}}, \"yaxis\": {\"anchor\": \"x\", \"domain\": [0.0, 1.0], \"title\": {\"text\": \"Num_Shops\"}}},\n",
       "                        {\"responsive\": true}\n",
       "                    ).then(function(){\n",
       "                            \n",
       "var gd = document.getElementById('d1126eab-2999-47ab-82a3-1b5d49a61735');\n",
       "var x = new MutationObserver(function (mutations, observer) {{\n",
       "        var display = window.getComputedStyle(gd).display;\n",
       "        if (!display || display === 'none') {{\n",
       "            console.log([gd, 'removed!']);\n",
       "            Plotly.purge(gd);\n",
       "            observer.disconnect();\n",
       "        }}\n",
       "}});\n",
       "\n",
       "// Listen for the removal of the full notebook cells\n",
       "var notebookContainer = gd.closest('#notebook-container');\n",
       "if (notebookContainer) {{\n",
       "    x.observe(notebookContainer, {childList: true});\n",
       "}}\n",
       "\n",
       "// Listen for the clearing of the current output cell\n",
       "var outputEl = gd.closest('.output');\n",
       "if (outputEl) {{\n",
       "    x.observe(outputEl, {childList: true});\n",
       "}}\n",
       "\n",
       "                        })\n",
       "                };\n",
       "                });\n",
       "            </script>\n",
       "        </div>"
      ]
     },
     "metadata": {},
     "output_type": "display_data"
    }
   ],
   "source": [
    "fig=px.scatter(shpdev1306_5,x=\"YM2\",y=\"Num_Shops\", opacity=0.4,color=\"item_id\", size=\"SoldPM\",hover_data=[\"Num_months_Sold\"])\n",
    "fig.show()"
   ]
  },
  {
   "cell_type": "code",
   "execution_count": 29,
   "metadata": {},
   "outputs": [
    {
     "data": {
      "text/html": [
       "<div>\n",
       "<style>\n",
       "    .dataframe thead tr:only-child th {\n",
       "        text-align: right;\n",
       "    }\n",
       "\n",
       "    .dataframe thead th {\n",
       "        text-align: left;\n",
       "    }\n",
       "\n",
       "    .dataframe tbody tr th {\n",
       "        vertical-align: top;\n",
       "    }\n",
       "</style>\n",
       "<table border=\"1\" class=\"dataframe\">\n",
       "  <thead>\n",
       "    <tr style=\"text-align: right;\">\n",
       "      <th></th>\n",
       "      <th>_201306</th>\n",
       "      <th>_201307</th>\n",
       "      <th>_201308</th>\n",
       "      <th>_201309</th>\n",
       "      <th>ComboCount</th>\n",
       "    </tr>\n",
       "  </thead>\n",
       "  <tbody>\n",
       "    <tr>\n",
       "      <th>0</th>\n",
       "      <td>1</td>\n",
       "      <td>0</td>\n",
       "      <td>0</td>\n",
       "      <td>0</td>\n",
       "      <td>42</td>\n",
       "    </tr>\n",
       "    <tr>\n",
       "      <th>1</th>\n",
       "      <td>1</td>\n",
       "      <td>0</td>\n",
       "      <td>0</td>\n",
       "      <td>1</td>\n",
       "      <td>11</td>\n",
       "    </tr>\n",
       "    <tr>\n",
       "      <th>2</th>\n",
       "      <td>1</td>\n",
       "      <td>0</td>\n",
       "      <td>1</td>\n",
       "      <td>0</td>\n",
       "      <td>13</td>\n",
       "    </tr>\n",
       "    <tr>\n",
       "      <th>3</th>\n",
       "      <td>1</td>\n",
       "      <td>0</td>\n",
       "      <td>1</td>\n",
       "      <td>1</td>\n",
       "      <td>8</td>\n",
       "    </tr>\n",
       "    <tr>\n",
       "      <th>4</th>\n",
       "      <td>1</td>\n",
       "      <td>0</td>\n",
       "      <td>1</td>\n",
       "      <td>2</td>\n",
       "      <td>1</td>\n",
       "    </tr>\n",
       "    <tr>\n",
       "      <th>5</th>\n",
       "      <td>1</td>\n",
       "      <td>0</td>\n",
       "      <td>2</td>\n",
       "      <td>0</td>\n",
       "      <td>2</td>\n",
       "    </tr>\n",
       "    <tr>\n",
       "      <th>6</th>\n",
       "      <td>1</td>\n",
       "      <td>0</td>\n",
       "      <td>3</td>\n",
       "      <td>1</td>\n",
       "      <td>1</td>\n",
       "    </tr>\n",
       "    <tr>\n",
       "      <th>7</th>\n",
       "      <td>1</td>\n",
       "      <td>1</td>\n",
       "      <td>0</td>\n",
       "      <td>0</td>\n",
       "      <td>12</td>\n",
       "    </tr>\n",
       "    <tr>\n",
       "      <th>8</th>\n",
       "      <td>1</td>\n",
       "      <td>1</td>\n",
       "      <td>0</td>\n",
       "      <td>1</td>\n",
       "      <td>8</td>\n",
       "    </tr>\n",
       "    <tr>\n",
       "      <th>9</th>\n",
       "      <td>1</td>\n",
       "      <td>1</td>\n",
       "      <td>0</td>\n",
       "      <td>4</td>\n",
       "      <td>1</td>\n",
       "    </tr>\n",
       "    <tr>\n",
       "      <th>10</th>\n",
       "      <td>1</td>\n",
       "      <td>1</td>\n",
       "      <td>1</td>\n",
       "      <td>0</td>\n",
       "      <td>3</td>\n",
       "    </tr>\n",
       "    <tr>\n",
       "      <th>11</th>\n",
       "      <td>1</td>\n",
       "      <td>1</td>\n",
       "      <td>1</td>\n",
       "      <td>1</td>\n",
       "      <td>9</td>\n",
       "    </tr>\n",
       "    <tr>\n",
       "      <th>12</th>\n",
       "      <td>1</td>\n",
       "      <td>1</td>\n",
       "      <td>1</td>\n",
       "      <td>2</td>\n",
       "      <td>1</td>\n",
       "    </tr>\n",
       "    <tr>\n",
       "      <th>13</th>\n",
       "      <td>1</td>\n",
       "      <td>1</td>\n",
       "      <td>2</td>\n",
       "      <td>0</td>\n",
       "      <td>1</td>\n",
       "    </tr>\n",
       "    <tr>\n",
       "      <th>14</th>\n",
       "      <td>1</td>\n",
       "      <td>2</td>\n",
       "      <td>0</td>\n",
       "      <td>0</td>\n",
       "      <td>1</td>\n",
       "    </tr>\n",
       "    <tr>\n",
       "      <th>15</th>\n",
       "      <td>1</td>\n",
       "      <td>2</td>\n",
       "      <td>3</td>\n",
       "      <td>0</td>\n",
       "      <td>1</td>\n",
       "    </tr>\n",
       "    <tr>\n",
       "      <th>16</th>\n",
       "      <td>1</td>\n",
       "      <td>2</td>\n",
       "      <td>10</td>\n",
       "      <td>5</td>\n",
       "      <td>1</td>\n",
       "    </tr>\n",
       "    <tr>\n",
       "      <th>17</th>\n",
       "      <td>1</td>\n",
       "      <td>3</td>\n",
       "      <td>0</td>\n",
       "      <td>0</td>\n",
       "      <td>1</td>\n",
       "    </tr>\n",
       "    <tr>\n",
       "      <th>18</th>\n",
       "      <td>1</td>\n",
       "      <td>3</td>\n",
       "      <td>1</td>\n",
       "      <td>0</td>\n",
       "      <td>1</td>\n",
       "    </tr>\n",
       "    <tr>\n",
       "      <th>19</th>\n",
       "      <td>1</td>\n",
       "      <td>3</td>\n",
       "      <td>3</td>\n",
       "      <td>2</td>\n",
       "      <td>1</td>\n",
       "    </tr>\n",
       "    <tr>\n",
       "      <th>20</th>\n",
       "      <td>1</td>\n",
       "      <td>4</td>\n",
       "      <td>2</td>\n",
       "      <td>1</td>\n",
       "      <td>1</td>\n",
       "    </tr>\n",
       "    <tr>\n",
       "      <th>21</th>\n",
       "      <td>2</td>\n",
       "      <td>0</td>\n",
       "      <td>0</td>\n",
       "      <td>0</td>\n",
       "      <td>1</td>\n",
       "    </tr>\n",
       "    <tr>\n",
       "      <th>22</th>\n",
       "      <td>2</td>\n",
       "      <td>0</td>\n",
       "      <td>0</td>\n",
       "      <td>2</td>\n",
       "      <td>1</td>\n",
       "    </tr>\n",
       "    <tr>\n",
       "      <th>23</th>\n",
       "      <td>2</td>\n",
       "      <td>0</td>\n",
       "      <td>1</td>\n",
       "      <td>1</td>\n",
       "      <td>1</td>\n",
       "    </tr>\n",
       "    <tr>\n",
       "      <th>24</th>\n",
       "      <td>2</td>\n",
       "      <td>0</td>\n",
       "      <td>3</td>\n",
       "      <td>1</td>\n",
       "      <td>1</td>\n",
       "    </tr>\n",
       "    <tr>\n",
       "      <th>25</th>\n",
       "      <td>2</td>\n",
       "      <td>0</td>\n",
       "      <td>4</td>\n",
       "      <td>1</td>\n",
       "      <td>1</td>\n",
       "    </tr>\n",
       "    <tr>\n",
       "      <th>26</th>\n",
       "      <td>2</td>\n",
       "      <td>1</td>\n",
       "      <td>0</td>\n",
       "      <td>0</td>\n",
       "      <td>1</td>\n",
       "    </tr>\n",
       "    <tr>\n",
       "      <th>27</th>\n",
       "      <td>2</td>\n",
       "      <td>1</td>\n",
       "      <td>1</td>\n",
       "      <td>0</td>\n",
       "      <td>1</td>\n",
       "    </tr>\n",
       "    <tr>\n",
       "      <th>28</th>\n",
       "      <td>2</td>\n",
       "      <td>2</td>\n",
       "      <td>1</td>\n",
       "      <td>0</td>\n",
       "      <td>1</td>\n",
       "    </tr>\n",
       "    <tr>\n",
       "      <th>29</th>\n",
       "      <td>2</td>\n",
       "      <td>2</td>\n",
       "      <td>2</td>\n",
       "      <td>1</td>\n",
       "      <td>1</td>\n",
       "    </tr>\n",
       "    <tr>\n",
       "      <th>30</th>\n",
       "      <td>2</td>\n",
       "      <td>2</td>\n",
       "      <td>8</td>\n",
       "      <td>5</td>\n",
       "      <td>1</td>\n",
       "    </tr>\n",
       "    <tr>\n",
       "      <th>31</th>\n",
       "      <td>2</td>\n",
       "      <td>5</td>\n",
       "      <td>1</td>\n",
       "      <td>0</td>\n",
       "      <td>1</td>\n",
       "    </tr>\n",
       "    <tr>\n",
       "      <th>32</th>\n",
       "      <td>3</td>\n",
       "      <td>0</td>\n",
       "      <td>1</td>\n",
       "      <td>1</td>\n",
       "      <td>1</td>\n",
       "    </tr>\n",
       "    <tr>\n",
       "      <th>33</th>\n",
       "      <td>4</td>\n",
       "      <td>6</td>\n",
       "      <td>0</td>\n",
       "      <td>2</td>\n",
       "      <td>1</td>\n",
       "    </tr>\n",
       "    <tr>\n",
       "      <th>34</th>\n",
       "      <td>4</td>\n",
       "      <td>7</td>\n",
       "      <td>4</td>\n",
       "      <td>9</td>\n",
       "      <td>1</td>\n",
       "    </tr>\n",
       "    <tr>\n",
       "      <th>35</th>\n",
       "      <td>6</td>\n",
       "      <td>7</td>\n",
       "      <td>6</td>\n",
       "      <td>10</td>\n",
       "      <td>1</td>\n",
       "    </tr>\n",
       "    <tr>\n",
       "      <th>36</th>\n",
       "      <td>6</td>\n",
       "      <td>10</td>\n",
       "      <td>4</td>\n",
       "      <td>1</td>\n",
       "      <td>1</td>\n",
       "    </tr>\n",
       "    <tr>\n",
       "      <th>37</th>\n",
       "      <td>6</td>\n",
       "      <td>10</td>\n",
       "      <td>5</td>\n",
       "      <td>11</td>\n",
       "      <td>1</td>\n",
       "    </tr>\n",
       "    <tr>\n",
       "      <th>38</th>\n",
       "      <td>7</td>\n",
       "      <td>4</td>\n",
       "      <td>3</td>\n",
       "      <td>4</td>\n",
       "      <td>1</td>\n",
       "    </tr>\n",
       "    <tr>\n",
       "      <th>39</th>\n",
       "      <td>10</td>\n",
       "      <td>14</td>\n",
       "      <td>10</td>\n",
       "      <td>16</td>\n",
       "      <td>1</td>\n",
       "    </tr>\n",
       "    <tr>\n",
       "      <th>40</th>\n",
       "      <td>37</td>\n",
       "      <td>29</td>\n",
       "      <td>26</td>\n",
       "      <td>13</td>\n",
       "      <td>1</td>\n",
       "    </tr>\n",
       "    <tr>\n",
       "      <th>41</th>\n",
       "      <td>38</td>\n",
       "      <td>34</td>\n",
       "      <td>24</td>\n",
       "      <td>23</td>\n",
       "      <td>1</td>\n",
       "    </tr>\n",
       "  </tbody>\n",
       "</table>\n",
       "</div>"
      ],
      "text/plain": [
       "    _201306  _201307  _201308  _201309  ComboCount\n",
       "0         1        0        0        0          42\n",
       "1         1        0        0        1          11\n",
       "2         1        0        1        0          13\n",
       "3         1        0        1        1           8\n",
       "4         1        0        1        2           1\n",
       "5         1        0        2        0           2\n",
       "6         1        0        3        1           1\n",
       "7         1        1        0        0          12\n",
       "8         1        1        0        1           8\n",
       "9         1        1        0        4           1\n",
       "10        1        1        1        0           3\n",
       "11        1        1        1        1           9\n",
       "12        1        1        1        2           1\n",
       "13        1        1        2        0           1\n",
       "14        1        2        0        0           1\n",
       "15        1        2        3        0           1\n",
       "16        1        2       10        5           1\n",
       "17        1        3        0        0           1\n",
       "18        1        3        1        0           1\n",
       "19        1        3        3        2           1\n",
       "20        1        4        2        1           1\n",
       "21        2        0        0        0           1\n",
       "22        2        0        0        2           1\n",
       "23        2        0        1        1           1\n",
       "24        2        0        3        1           1\n",
       "25        2        0        4        1           1\n",
       "26        2        1        0        0           1\n",
       "27        2        1        1        0           1\n",
       "28        2        2        1        0           1\n",
       "29        2        2        2        1           1\n",
       "30        2        2        8        5           1\n",
       "31        2        5        1        0           1\n",
       "32        3        0        1        1           1\n",
       "33        4        6        0        2           1\n",
       "34        4        7        4        9           1\n",
       "35        6        7        6       10           1\n",
       "36        6       10        4        1           1\n",
       "37        6       10        5       11           1\n",
       "38        7        4        3        4           1\n",
       "39       10       14       10       16           1\n",
       "40       37       29       26       13           1\n",
       "41       38       34       24       23           1"
      ]
     },
     "execution_count": 29,
     "metadata": {},
     "output_type": "execute_result"
    }
   ],
   "source": [
    "#see that the majority stick around 1 or low number of shops... need to see flow.\n",
    "#pivot the data out by YM2\n",
    "flo=shpdev1306_5.pivot_table(index=[\"item_id\"], columns=\"YM2\",values=\"Num_Shops\", fill_value=0).reset_index()\n",
    "#group by the columns names\n",
    "flo2=flo.groupby([\"_201306\",\"_201307\",\"_201308\",\"_201309\"])[\"item_id\"].count().reset_index(name=\"ComboCount\")\n",
    "flo2"
   ]
  },
  {
   "cell_type": "code",
   "execution_count": 13,
   "metadata": {},
   "outputs": [
    {
     "ename": "ValueError",
     "evalue": "Value of 'y' is not the name of a column in 'data_frame'. Expected one of ['item_id', 'YM', 'Num_Shops', 'YM2'] but received: Num_Shop",
     "output_type": "error",
     "traceback": [
      "\u001b[0;31m---------------------------------------------------------------------------\u001b[0m",
      "\u001b[0;31mValueError\u001b[0m                                Traceback (most recent call last)",
      "\u001b[0;32m<ipython-input-13-e61140a05ecd>\u001b[0m in \u001b[0;36m<module>\u001b[0;34m\u001b[0m\n\u001b[1;32m      2\u001b[0m \u001b[0miris\u001b[0m \u001b[0;34m=\u001b[0m \u001b[0mpx\u001b[0m\u001b[0;34m.\u001b[0m\u001b[0mdata\u001b[0m\u001b[0;34m.\u001b[0m\u001b[0miris\u001b[0m\u001b[0;34m(\u001b[0m\u001b[0;34m)\u001b[0m\u001b[0;34m\u001b[0m\u001b[0;34m\u001b[0m\u001b[0m\n\u001b[1;32m      3\u001b[0m fig = px.scatter(sshpdev1306_2, x=\"YM2\", y=\"Num_Shop\", color=\"species\",\n\u001b[0;32m----> 4\u001b[0;31m                  size='petal_length', hover_data=['petal_width'])\n\u001b[0m\u001b[1;32m      5\u001b[0m \u001b[0mfig\u001b[0m\u001b[0;34m.\u001b[0m\u001b[0mshow\u001b[0m\u001b[0;34m(\u001b[0m\u001b[0;34m)\u001b[0m\u001b[0;34m\u001b[0m\u001b[0;34m\u001b[0m\u001b[0m\n",
      "\u001b[0;32m~/.local/lib/python3.6/site-packages/plotly/express/_chart_types.py\u001b[0m in \u001b[0;36mscatter\u001b[0;34m(data_frame, x, y, color, symbol, size, hover_name, hover_data, custom_data, text, facet_row, facet_col, error_x, error_x_minus, error_y, error_y_minus, animation_frame, animation_group, category_orders, labels, color_discrete_sequence, color_discrete_map, color_continuous_scale, range_color, color_continuous_midpoint, symbol_sequence, symbol_map, opacity, size_max, marginal_x, marginal_y, trendline, trendline_color_override, log_x, log_y, range_x, range_y, render_mode, title, template, width, height)\u001b[0m\n\u001b[1;32m     51\u001b[0m     \u001b[0mIn\u001b[0m \u001b[0ma\u001b[0m \u001b[0mscatter\u001b[0m \u001b[0mplot\u001b[0m\u001b[0;34m,\u001b[0m \u001b[0meach\u001b[0m \u001b[0mrow\u001b[0m \u001b[0mof\u001b[0m\u001b[0;31m \u001b[0m\u001b[0;31m`\u001b[0m\u001b[0mdata_frame\u001b[0m\u001b[0;31m`\u001b[0m \u001b[0;32mis\u001b[0m \u001b[0mrepresented\u001b[0m \u001b[0mby\u001b[0m \u001b[0ma\u001b[0m \u001b[0msymbol\u001b[0m \u001b[0mmark\u001b[0m \u001b[0;32min\u001b[0m \u001b[0;36m2\u001b[0m\u001b[0mD\u001b[0m \u001b[0mspace\u001b[0m\u001b[0;34m.\u001b[0m\u001b[0;34m\u001b[0m\u001b[0;34m\u001b[0m\u001b[0m\n\u001b[1;32m     52\u001b[0m     \"\"\"\n\u001b[0;32m---> 53\u001b[0;31m     \u001b[0;32mreturn\u001b[0m \u001b[0mmake_figure\u001b[0m\u001b[0;34m(\u001b[0m\u001b[0margs\u001b[0m\u001b[0;34m=\u001b[0m\u001b[0mlocals\u001b[0m\u001b[0;34m(\u001b[0m\u001b[0;34m)\u001b[0m\u001b[0;34m,\u001b[0m \u001b[0mconstructor\u001b[0m\u001b[0;34m=\u001b[0m\u001b[0mgo\u001b[0m\u001b[0;34m.\u001b[0m\u001b[0mScatter\u001b[0m\u001b[0;34m)\u001b[0m\u001b[0;34m\u001b[0m\u001b[0;34m\u001b[0m\u001b[0m\n\u001b[0m\u001b[1;32m     54\u001b[0m \u001b[0;34m\u001b[0m\u001b[0m\n\u001b[1;32m     55\u001b[0m \u001b[0;34m\u001b[0m\u001b[0m\n",
      "\u001b[0;32m~/.local/lib/python3.6/site-packages/plotly/express/_core.py\u001b[0m in \u001b[0;36mmake_figure\u001b[0;34m(args, constructor, trace_patch, layout_patch)\u001b[0m\n\u001b[1;32m   1092\u001b[0m \u001b[0;34m\u001b[0m\u001b[0m\n\u001b[1;32m   1093\u001b[0m     args, trace_specs, grouped_mappings, sizeref, show_colorbar = infer_config(\n\u001b[0;32m-> 1094\u001b[0;31m         \u001b[0margs\u001b[0m\u001b[0;34m,\u001b[0m \u001b[0mconstructor\u001b[0m\u001b[0;34m,\u001b[0m \u001b[0mtrace_patch\u001b[0m\u001b[0;34m\u001b[0m\u001b[0;34m\u001b[0m\u001b[0m\n\u001b[0m\u001b[1;32m   1095\u001b[0m     )\n\u001b[1;32m   1096\u001b[0m     \u001b[0mgrouper\u001b[0m \u001b[0;34m=\u001b[0m \u001b[0;34m[\u001b[0m\u001b[0mx\u001b[0m\u001b[0;34m.\u001b[0m\u001b[0mgrouper\u001b[0m \u001b[0;32mor\u001b[0m \u001b[0mone_group\u001b[0m \u001b[0;32mfor\u001b[0m \u001b[0mx\u001b[0m \u001b[0;32min\u001b[0m \u001b[0mgrouped_mappings\u001b[0m\u001b[0;34m]\u001b[0m \u001b[0;32mor\u001b[0m \u001b[0;34m[\u001b[0m\u001b[0mone_group\u001b[0m\u001b[0;34m]\u001b[0m\u001b[0;34m\u001b[0m\u001b[0;34m\u001b[0m\u001b[0m\n",
      "\u001b[0;32m~/.local/lib/python3.6/site-packages/plotly/express/_core.py\u001b[0m in \u001b[0;36minfer_config\u001b[0;34m(args, constructor, trace_patch)\u001b[0m\n\u001b[1;32m    975\u001b[0m             \u001b[0mall_attrables\u001b[0m \u001b[0;34m+=\u001b[0m \u001b[0;34m[\u001b[0m\u001b[0mgroup_attr\u001b[0m\u001b[0;34m]\u001b[0m\u001b[0;34m\u001b[0m\u001b[0;34m\u001b[0m\u001b[0m\n\u001b[1;32m    976\u001b[0m \u001b[0;34m\u001b[0m\u001b[0m\n\u001b[0;32m--> 977\u001b[0;31m     \u001b[0margs\u001b[0m \u001b[0;34m=\u001b[0m \u001b[0mbuild_dataframe\u001b[0m\u001b[0;34m(\u001b[0m\u001b[0margs\u001b[0m\u001b[0;34m,\u001b[0m \u001b[0mall_attrables\u001b[0m\u001b[0;34m,\u001b[0m \u001b[0marray_attrables\u001b[0m\u001b[0;34m)\u001b[0m\u001b[0;34m\u001b[0m\u001b[0;34m\u001b[0m\u001b[0m\n\u001b[0m\u001b[1;32m    978\u001b[0m \u001b[0;34m\u001b[0m\u001b[0m\n\u001b[1;32m    979\u001b[0m     \u001b[0mattrs\u001b[0m \u001b[0;34m=\u001b[0m \u001b[0;34m[\u001b[0m\u001b[0mk\u001b[0m \u001b[0;32mfor\u001b[0m \u001b[0mk\u001b[0m \u001b[0;32min\u001b[0m \u001b[0mattrables\u001b[0m \u001b[0;32mif\u001b[0m \u001b[0mk\u001b[0m \u001b[0;32min\u001b[0m \u001b[0margs\u001b[0m\u001b[0;34m]\u001b[0m\u001b[0;34m\u001b[0m\u001b[0;34m\u001b[0m\u001b[0m\n",
      "\u001b[0;32m~/.local/lib/python3.6/site-packages/plotly/express/_core.py\u001b[0m in \u001b[0;36mbuild_dataframe\u001b[0;34m(args, attrables, array_attrables)\u001b[0m\n\u001b[1;32m    897\u001b[0m                             \u001b[0;34m\"\\n To use the index, pass it in directly as `df.index`.\"\u001b[0m\u001b[0;34m\u001b[0m\u001b[0;34m\u001b[0m\u001b[0m\n\u001b[1;32m    898\u001b[0m                         )\n\u001b[0;32m--> 899\u001b[0;31m                     \u001b[0;32mraise\u001b[0m \u001b[0mValueError\u001b[0m\u001b[0;34m(\u001b[0m\u001b[0merr_msg\u001b[0m\u001b[0;34m)\u001b[0m\u001b[0;34m\u001b[0m\u001b[0;34m\u001b[0m\u001b[0m\n\u001b[0m\u001b[1;32m    900\u001b[0m                 \u001b[0;32mif\u001b[0m \u001b[0mlength\u001b[0m \u001b[0;32mand\u001b[0m \u001b[0mlen\u001b[0m\u001b[0;34m(\u001b[0m\u001b[0mdf_input\u001b[0m\u001b[0;34m[\u001b[0m\u001b[0margument\u001b[0m\u001b[0;34m]\u001b[0m\u001b[0;34m)\u001b[0m \u001b[0;34m!=\u001b[0m \u001b[0mlength\u001b[0m\u001b[0;34m:\u001b[0m\u001b[0;34m\u001b[0m\u001b[0;34m\u001b[0m\u001b[0m\n\u001b[1;32m    901\u001b[0m                     raise ValueError(\n",
      "\u001b[0;31mValueError\u001b[0m: Value of 'y' is not the name of a column in 'data_frame'. Expected one of ['item_id', 'YM', 'Num_Shops', 'YM2'] but received: Num_Shop"
     ]
    }
   ],
   "source": [
    "import plotly.express as px\n",
    "iris = px.data.iris()\n",
    "fig = px.scatter(sshpdev1306_2, x=\"YM2\", y=\"Num_Shop\", color=\"species\",\n",
    "                 size='petal_length', hover_data=['petal_width'])\n",
    "fig.show()"
   ]
  }
 ],
 "metadata": {
  "kernelspec": {
   "display_name": "Python 3",
   "language": "python",
   "name": "python3"
  },
  "language_info": {
   "codemirror_mode": {
    "name": "ipython",
    "version": 3
   },
   "file_extension": ".py",
   "mimetype": "text/x-python",
   "name": "python",
   "nbconvert_exporter": "python",
   "pygments_lexer": "ipython3",
   "version": "3.6.8"
  }
 },
 "nbformat": 4,
 "nbformat_minor": 2
}
