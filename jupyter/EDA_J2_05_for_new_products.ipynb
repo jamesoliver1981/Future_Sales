{
 "cells": [
  {
   "cell_type": "code",
   "execution_count": null,
   "metadata": {},
   "outputs": [],
   "source": [
    "#about 40% of the submission are based on new products\n",
    "#therefore, need to create a dataset of the first month of sales per product\n",
    "#then do EDA on it\n",
    "    #what is the price variation of the variable\n",
    "    #are the timing specifities - when bought in November has an impact\n",
    "    #are the products that are to be realised all of the same category?\n",
    "    #are the shops we need to predict all open?\n",
    "    #how do shops tend to perform over the year?  Are there some that get a greater increase?"
   ]
  }
 ],
 "metadata": {
  "kernelspec": {
   "display_name": "Python 3",
   "language": "python",
   "name": "python3"
  },
  "language_info": {
   "codemirror_mode": {
    "name": "ipython",
    "version": 3
   },
   "file_extension": ".py",
   "mimetype": "text/x-python",
   "name": "python",
   "nbconvert_exporter": "python",
   "pygments_lexer": "ipython3",
   "version": "3.6.8"
  }
 },
 "nbformat": 4,
 "nbformat_minor": 2
}
