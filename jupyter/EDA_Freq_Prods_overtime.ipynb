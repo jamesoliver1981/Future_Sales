{
 "cells": [
  {
   "cell_type": "code",
   "execution_count": 1,
   "metadata": {},
   "outputs": [],
   "source": [
    "#now that I've looked at the data in EDA file, wanted to look at how the frequency changes a bit more over time\n",
    "#how change in a month\n",
    "import pandas as pd\n",
    "from matplotlib import pyplot as plt\n",
    "import pandas as pd\n",
    "import os\n"
   ]
  },
  {
   "cell_type": "code",
   "execution_count": 2,
   "metadata": {},
   "outputs": [
    {
     "data": {
      "text/plain": [
       "['test.csv',\n",
       " 'sales_train_v2.csv',\n",
       " 'sample_submission.csv',\n",
       " 'shops.csv',\n",
       " 'items.csv',\n",
       " 'item_categories.csv']"
      ]
     },
     "execution_count": 2,
     "metadata": {},
     "output_type": "execute_result"
    }
   ],
   "source": [
    "os.listdir(\"/home/cdsw/01_future-sales/data\")"
   ]
  },
  {
   "cell_type": "code",
   "execution_count": 4,
   "metadata": {},
   "outputs": [],
   "source": [
    "dateCols = ['date']\n",
    "train=pd.read_csv(\"/home/cdsw/01_future-sales/data/sales_train_v2.csv\", parse_dates=dateCols)"
   ]
  },
  {
   "cell_type": "code",
   "execution_count": 4,
   "metadata": {},
   "outputs": [],
   "source": [
    "dateCols = ['date']\n",
    "train2=pd.read_csv(\"/home/cdsw/train_plus_not_imputted.csv\",parse_dates=dateCols)\n",
    "#weird that this is crazy quick to load vs the original? is it compressed?"
   ]
  },
  {
   "cell_type": "code",
   "execution_count": 5,
   "metadata": {},
   "outputs": [
    {
     "name": "stdout",
     "output_type": "stream",
     "text": [
      "<class 'pandas.core.frame.DataFrame'>\n",
      "RangeIndex: 2935849 entries, 0 to 2935848\n",
      "Data columns (total 9 columns):\n",
      "Unnamed: 0          int64\n",
      "date                datetime64[ns]\n",
      "date_block_num      int64\n",
      "shop_id             int64\n",
      "item_id             int64\n",
      "item_price          float64\n",
      "item_cnt_day        float64\n",
      "item_name           object\n",
      "item_category_id    int64\n",
      "dtypes: datetime64[ns](1), float64(2), int64(5), object(1)\n",
      "memory usage: 201.6+ MB\n"
     ]
    }
   ],
   "source": [
    "train2.info()"
   ]
  },
  {
   "cell_type": "code",
   "execution_count": 7,
   "metadata": {},
   "outputs": [
    {
     "data": {
      "text/plain": [
       "1034"
      ]
     },
     "execution_count": 7,
     "metadata": {},
     "output_type": "execute_result"
    }
   ],
   "source": [
    "len(set(train2.date))"
   ]
  },
  {
   "cell_type": "code",
   "execution_count": 9,
   "metadata": {},
   "outputs": [
    {
     "data": {
      "text/plain": [
       "'2015-12-10'"
      ]
     },
     "execution_count": 9,
     "metadata": {},
     "output_type": "execute_result"
    }
   ],
   "source": [
    "train2.date.max()\n",
    "#so apparently I haven't trimmed the data - works out as am predicting the November and have the start to see how it leads in"
   ]
  },
  {
   "cell_type": "code",
   "execution_count": 13,
   "metadata": {},
   "outputs": [
    {
     "name": "stdout",
     "output_type": "stream",
     "text": [
      "<class 'pandas.core.frame.DataFrame'>\n",
      "RangeIndex: 2935849 entries, 0 to 2935848\n",
      "Data columns (total 9 columns):\n",
      "Unnamed: 0          int64\n",
      "date                datetime64[ns]\n",
      "date_block_num      int64\n",
      "shop_id             int64\n",
      "item_id             int64\n",
      "item_price          float64\n",
      "item_cnt_day        float64\n",
      "item_name           object\n",
      "item_category_id    int64\n",
      "dtypes: datetime64[ns](1), float64(2), int64(5), object(1)\n",
      "memory usage: 201.6+ MB\n"
     ]
    }
   ],
   "source": [
    "train2.info()"
   ]
  },
  {
   "cell_type": "code",
   "execution_count": 6,
   "metadata": {},
   "outputs": [
    {
     "data": {
      "text/html": [
       "<div>\n",
       "<style>\n",
       "    .dataframe thead tr:only-child th {\n",
       "        text-align: right;\n",
       "    }\n",
       "\n",
       "    .dataframe thead th {\n",
       "        text-align: left;\n",
       "    }\n",
       "\n",
       "    .dataframe tbody tr th {\n",
       "        vertical-align: top;\n",
       "    }\n",
       "</style>\n",
       "<table border=\"1\" class=\"dataframe\">\n",
       "  <thead>\n",
       "    <tr style=\"text-align: right;\">\n",
       "      <th></th>\n",
       "      <th>Unnamed: 0</th>\n",
       "      <th>date</th>\n",
       "      <th>date_block_num</th>\n",
       "      <th>shop_id</th>\n",
       "      <th>item_id</th>\n",
       "      <th>item_price</th>\n",
       "      <th>item_cnt_day</th>\n",
       "      <th>item_name</th>\n",
       "      <th>item_category_id</th>\n",
       "      <th>Month</th>\n",
       "      <th>Year</th>\n",
       "      <th>YM</th>\n",
       "    </tr>\n",
       "  </thead>\n",
       "  <tbody>\n",
       "    <tr>\n",
       "      <th>0</th>\n",
       "      <td>0</td>\n",
       "      <td>2013-02-01</td>\n",
       "      <td>0</td>\n",
       "      <td>59</td>\n",
       "      <td>22154</td>\n",
       "      <td>999.00</td>\n",
       "      <td>1.0</td>\n",
       "      <td>ЯВЛЕНИЕ 2012 (BD)</td>\n",
       "      <td>37</td>\n",
       "      <td>2</td>\n",
       "      <td>2013</td>\n",
       "      <td>201302</td>\n",
       "    </tr>\n",
       "    <tr>\n",
       "      <th>1</th>\n",
       "      <td>1</td>\n",
       "      <td>2013-03-01</td>\n",
       "      <td>0</td>\n",
       "      <td>25</td>\n",
       "      <td>2552</td>\n",
       "      <td>899.00</td>\n",
       "      <td>1.0</td>\n",
       "      <td>DEEP PURPLE  The House Of Blue Light  LP</td>\n",
       "      <td>58</td>\n",
       "      <td>3</td>\n",
       "      <td>2013</td>\n",
       "      <td>201303</td>\n",
       "    </tr>\n",
       "    <tr>\n",
       "      <th>2</th>\n",
       "      <td>2</td>\n",
       "      <td>2013-05-01</td>\n",
       "      <td>0</td>\n",
       "      <td>25</td>\n",
       "      <td>2552</td>\n",
       "      <td>899.00</td>\n",
       "      <td>-1.0</td>\n",
       "      <td>DEEP PURPLE  The House Of Blue Light  LP</td>\n",
       "      <td>58</td>\n",
       "      <td>5</td>\n",
       "      <td>2013</td>\n",
       "      <td>201305</td>\n",
       "    </tr>\n",
       "    <tr>\n",
       "      <th>3</th>\n",
       "      <td>3</td>\n",
       "      <td>2013-06-01</td>\n",
       "      <td>0</td>\n",
       "      <td>25</td>\n",
       "      <td>2554</td>\n",
       "      <td>1709.05</td>\n",
       "      <td>1.0</td>\n",
       "      <td>DEEP PURPLE  Who Do You Think We Are  LP</td>\n",
       "      <td>58</td>\n",
       "      <td>6</td>\n",
       "      <td>2013</td>\n",
       "      <td>201306</td>\n",
       "    </tr>\n",
       "    <tr>\n",
       "      <th>4</th>\n",
       "      <td>4</td>\n",
       "      <td>2013-01-15</td>\n",
       "      <td>0</td>\n",
       "      <td>25</td>\n",
       "      <td>2555</td>\n",
       "      <td>1099.00</td>\n",
       "      <td>1.0</td>\n",
       "      <td>DEEP PURPLE 30 Very Best Of 2CD (Фирм.)</td>\n",
       "      <td>56</td>\n",
       "      <td>1</td>\n",
       "      <td>2013</td>\n",
       "      <td>201301</td>\n",
       "    </tr>\n",
       "  </tbody>\n",
       "</table>\n",
       "</div>"
      ],
      "text/plain": [
       "   Unnamed: 0       date  date_block_num  shop_id  item_id  item_price  \\\n",
       "0           0 2013-02-01               0       59    22154      999.00   \n",
       "1           1 2013-03-01               0       25     2552      899.00   \n",
       "2           2 2013-05-01               0       25     2552      899.00   \n",
       "3           3 2013-06-01               0       25     2554     1709.05   \n",
       "4           4 2013-01-15               0       25     2555     1099.00   \n",
       "\n",
       "   item_cnt_day                                 item_name  item_category_id  \\\n",
       "0           1.0                         ЯВЛЕНИЕ 2012 (BD)                37   \n",
       "1           1.0  DEEP PURPLE  The House Of Blue Light  LP                58   \n",
       "2          -1.0  DEEP PURPLE  The House Of Blue Light  LP                58   \n",
       "3           1.0  DEEP PURPLE  Who Do You Think We Are  LP                58   \n",
       "4           1.0   DEEP PURPLE 30 Very Best Of 2CD (Фирм.)                56   \n",
       "\n",
       "   Month  Year      YM  \n",
       "0      2  2013  201302  \n",
       "1      3  2013  201303  \n",
       "2      5  2013  201305  \n",
       "3      6  2013  201306  \n",
       "4      1  2013  201301  "
      ]
     },
     "execution_count": 6,
     "metadata": {},
     "output_type": "execute_result"
    }
   ],
   "source": [
    "#create a month variable and then see how many months are at 1 or zero\n",
    "train2[\"Month\"]=train2.date.dt.month\n",
    "train2[\"Year\"]=train2.date.dt.year\n",
    "train2['YM'] = train2['Year']*100+train2[\"Month\"]\n",
    "train2.head()\n",
    "\n"
   ]
  },
  {
   "cell_type": "code",
   "execution_count": 7,
   "metadata": {},
   "outputs": [],
   "source": [
    "#create a month variable and then see how many months are at 1 or zero\n",
    "train2[\"Month\"]=train2.date.dt.month\n",
    "train2[\"Year\"]=train2.date.dt.year\n",
    "train2[\"YM\"]=train2.Year*100+train2.Month\n",
    "\n",
    "\n"
   ]
  },
  {
   "cell_type": "code",
   "execution_count": 8,
   "metadata": {},
   "outputs": [
    {
     "name": "stdout",
     "output_type": "stream",
     "text": [
      "<class 'pandas.core.frame.DataFrame'>\n",
      "RangeIndex: 2935849 entries, 0 to 2935848\n",
      "Data columns (total 12 columns):\n",
      "Unnamed: 0          int64\n",
      "date                datetime64[ns]\n",
      "date_block_num      int64\n",
      "shop_id             int64\n",
      "item_id             int64\n",
      "item_price          float64\n",
      "item_cnt_day        float64\n",
      "item_name           object\n",
      "item_category_id    int64\n",
      "Month               int64\n",
      "Year                int64\n",
      "YM                  int64\n",
      "dtypes: datetime64[ns](1), float64(2), int64(8), object(1)\n",
      "memory usage: 268.8+ MB\n"
     ]
    }
   ],
   "source": [
    "train2.info()"
   ]
  },
  {
   "cell_type": "code",
   "execution_count": 9,
   "metadata": {},
   "outputs": [
    {
     "data": {
      "text/html": [
       "<div>\n",
       "<style>\n",
       "    .dataframe thead tr:only-child th {\n",
       "        text-align: right;\n",
       "    }\n",
       "\n",
       "    .dataframe thead th {\n",
       "        text-align: left;\n",
       "    }\n",
       "\n",
       "    .dataframe tbody tr th {\n",
       "        vertical-align: top;\n",
       "    }\n",
       "</style>\n",
       "<table border=\"1\" class=\"dataframe\">\n",
       "  <thead>\n",
       "    <tr style=\"text-align: right;\">\n",
       "      <th></th>\n",
       "      <th>Unnamed: 0</th>\n",
       "      <th>date</th>\n",
       "      <th>date_block_num</th>\n",
       "      <th>shop_id</th>\n",
       "      <th>item_id</th>\n",
       "      <th>item_price</th>\n",
       "      <th>item_cnt_day</th>\n",
       "      <th>item_name</th>\n",
       "      <th>item_category_id</th>\n",
       "      <th>Month</th>\n",
       "      <th>Year</th>\n",
       "      <th>YM</th>\n",
       "    </tr>\n",
       "  </thead>\n",
       "  <tbody>\n",
       "    <tr>\n",
       "      <th>0</th>\n",
       "      <td>0</td>\n",
       "      <td>2013-02-01</td>\n",
       "      <td>0</td>\n",
       "      <td>59</td>\n",
       "      <td>22154</td>\n",
       "      <td>999.00</td>\n",
       "      <td>1.0</td>\n",
       "      <td>ЯВЛЕНИЕ 2012 (BD)</td>\n",
       "      <td>37</td>\n",
       "      <td>2</td>\n",
       "      <td>2013</td>\n",
       "      <td>201302</td>\n",
       "    </tr>\n",
       "    <tr>\n",
       "      <th>1</th>\n",
       "      <td>1</td>\n",
       "      <td>2013-03-01</td>\n",
       "      <td>0</td>\n",
       "      <td>25</td>\n",
       "      <td>2552</td>\n",
       "      <td>899.00</td>\n",
       "      <td>1.0</td>\n",
       "      <td>DEEP PURPLE  The House Of Blue Light  LP</td>\n",
       "      <td>58</td>\n",
       "      <td>3</td>\n",
       "      <td>2013</td>\n",
       "      <td>201303</td>\n",
       "    </tr>\n",
       "    <tr>\n",
       "      <th>2</th>\n",
       "      <td>2</td>\n",
       "      <td>2013-05-01</td>\n",
       "      <td>0</td>\n",
       "      <td>25</td>\n",
       "      <td>2552</td>\n",
       "      <td>899.00</td>\n",
       "      <td>-1.0</td>\n",
       "      <td>DEEP PURPLE  The House Of Blue Light  LP</td>\n",
       "      <td>58</td>\n",
       "      <td>5</td>\n",
       "      <td>2013</td>\n",
       "      <td>201305</td>\n",
       "    </tr>\n",
       "    <tr>\n",
       "      <th>3</th>\n",
       "      <td>3</td>\n",
       "      <td>2013-06-01</td>\n",
       "      <td>0</td>\n",
       "      <td>25</td>\n",
       "      <td>2554</td>\n",
       "      <td>1709.05</td>\n",
       "      <td>1.0</td>\n",
       "      <td>DEEP PURPLE  Who Do You Think We Are  LP</td>\n",
       "      <td>58</td>\n",
       "      <td>6</td>\n",
       "      <td>2013</td>\n",
       "      <td>201306</td>\n",
       "    </tr>\n",
       "    <tr>\n",
       "      <th>4</th>\n",
       "      <td>4</td>\n",
       "      <td>2013-01-15</td>\n",
       "      <td>0</td>\n",
       "      <td>25</td>\n",
       "      <td>2555</td>\n",
       "      <td>1099.00</td>\n",
       "      <td>1.0</td>\n",
       "      <td>DEEP PURPLE 30 Very Best Of 2CD (Фирм.)</td>\n",
       "      <td>56</td>\n",
       "      <td>1</td>\n",
       "      <td>2013</td>\n",
       "      <td>201301</td>\n",
       "    </tr>\n",
       "  </tbody>\n",
       "</table>\n",
       "</div>"
      ],
      "text/plain": [
       "   Unnamed: 0       date  date_block_num  shop_id  item_id  item_price  \\\n",
       "0           0 2013-02-01               0       59    22154      999.00   \n",
       "1           1 2013-03-01               0       25     2552      899.00   \n",
       "2           2 2013-05-01               0       25     2552      899.00   \n",
       "3           3 2013-06-01               0       25     2554     1709.05   \n",
       "4           4 2013-01-15               0       25     2555     1099.00   \n",
       "\n",
       "   item_cnt_day                                 item_name  item_category_id  \\\n",
       "0           1.0                         ЯВЛЕНИЕ 2012 (BD)                37   \n",
       "1           1.0  DEEP PURPLE  The House Of Blue Light  LP                58   \n",
       "2          -1.0  DEEP PURPLE  The House Of Blue Light  LP                58   \n",
       "3           1.0  DEEP PURPLE  Who Do You Think We Are  LP                58   \n",
       "4           1.0   DEEP PURPLE 30 Very Best Of 2CD (Фирм.)                56   \n",
       "\n",
       "   Month  Year      YM  \n",
       "0      2  2013  201302  \n",
       "1      3  2013  201303  \n",
       "2      5  2013  201305  \n",
       "3      6  2013  201306  \n",
       "4      1  2013  201301  "
      ]
     },
     "execution_count": 9,
     "metadata": {},
     "output_type": "execute_result"
    }
   ],
   "source": [
    "train2.head()"
   ]
  },
  {
   "cell_type": "code",
   "execution_count": 14,
   "metadata": {},
   "outputs": [
    {
     "name": "stdout",
     "output_type": "stream",
     "text": [
      "<class 'pandas.core.frame.DataFrame'>\n",
      "RangeIndex: 286604 entries, 0 to 286603\n",
      "Data columns (total 3 columns):\n",
      "item_id         286604 non-null int64\n",
      "YM              286604 non-null int64\n",
      "item_cnt_day    286604 non-null float64\n",
      "dtypes: float64(1), int64(2)\n",
      "memory usage: 6.6 MB\n",
      "None\n"
     ]
    },
    {
     "data": {
      "text/html": [
       "<div>\n",
       "<style>\n",
       "    .dataframe thead tr:only-child th {\n",
       "        text-align: right;\n",
       "    }\n",
       "\n",
       "    .dataframe thead th {\n",
       "        text-align: left;\n",
       "    }\n",
       "\n",
       "    .dataframe tbody tr th {\n",
       "        vertical-align: top;\n",
       "    }\n",
       "</style>\n",
       "<table border=\"1\" class=\"dataframe\">\n",
       "  <thead>\n",
       "    <tr style=\"text-align: right;\">\n",
       "      <th></th>\n",
       "      <th>item_id</th>\n",
       "      <th>YM</th>\n",
       "      <th>item_cnt_day</th>\n",
       "    </tr>\n",
       "  </thead>\n",
       "  <tbody>\n",
       "    <tr>\n",
       "      <th>0</th>\n",
       "      <td>0</td>\n",
       "      <td>201401</td>\n",
       "      <td>1.0</td>\n",
       "    </tr>\n",
       "    <tr>\n",
       "      <th>1</th>\n",
       "      <td>1</td>\n",
       "      <td>201402</td>\n",
       "      <td>1.0</td>\n",
       "    </tr>\n",
       "    <tr>\n",
       "      <th>2</th>\n",
       "      <td>1</td>\n",
       "      <td>201404</td>\n",
       "      <td>2.0</td>\n",
       "    </tr>\n",
       "    <tr>\n",
       "      <th>3</th>\n",
       "      <td>1</td>\n",
       "      <td>201406</td>\n",
       "      <td>1.0</td>\n",
       "    </tr>\n",
       "    <tr>\n",
       "      <th>4</th>\n",
       "      <td>1</td>\n",
       "      <td>201410</td>\n",
       "      <td>1.0</td>\n",
       "    </tr>\n",
       "  </tbody>\n",
       "</table>\n",
       "</div>"
      ],
      "text/plain": [
       "   item_id      YM  item_cnt_day\n",
       "0        0  201401           1.0\n",
       "1        1  201402           1.0\n",
       "2        1  201404           2.0\n",
       "3        1  201406           1.0\n",
       "4        1  201410           1.0"
      ]
     },
     "execution_count": 14,
     "metadata": {},
     "output_type": "execute_result"
    }
   ],
   "source": [
    "#group by sales per month\n",
    "sales_per_item_PM= train2.groupby(['item_id','YM'])['item_cnt_day'].sum().reset_index()\n",
    "\n",
    "print(sales_per_item_PM.info())\n",
    "sales_per_item_PM.head()"
   ]
  },
  {
   "cell_type": "code",
   "execution_count": 15,
   "metadata": {},
   "outputs": [],
   "source": [
    "#questions to answer now\n",
    "    #how many of these have sales in every month\n",
    "        #count of count of this table per id being 34\n",
    "        # vs a unique number of products\n",
    "\n",
    "    #Should I restrict this to the bigger items - how many sold over all?    \n",
    "    #what is the development of the sales shape\n",
    "        "
   ]
  },
  {
   "cell_type": "code",
   "execution_count": 40,
   "metadata": {},
   "outputs": [
    {
     "data": {
      "text/html": [
       "<div>\n",
       "<style>\n",
       "    .dataframe thead tr:only-child th {\n",
       "        text-align: right;\n",
       "    }\n",
       "\n",
       "    .dataframe thead th {\n",
       "        text-align: left;\n",
       "    }\n",
       "\n",
       "    .dataframe tbody tr th {\n",
       "        vertical-align: top;\n",
       "    }\n",
       "</style>\n",
       "<table border=\"1\" class=\"dataframe\">\n",
       "  <thead>\n",
       "    <tr style=\"text-align: right;\">\n",
       "      <th></th>\n",
       "      <th>YM</th>\n",
       "      <th>item_cnt_day</th>\n",
       "      <th>item_id</th>\n",
       "    </tr>\n",
       "    <tr>\n",
       "      <th>item_id</th>\n",
       "      <th></th>\n",
       "      <th></th>\n",
       "      <th></th>\n",
       "    </tr>\n",
       "  </thead>\n",
       "  <tbody>\n",
       "    <tr>\n",
       "      <th>0</th>\n",
       "      <td>1</td>\n",
       "      <td>1</td>\n",
       "      <td>0</td>\n",
       "    </tr>\n",
       "    <tr>\n",
       "      <th>1</th>\n",
       "      <td>5</td>\n",
       "      <td>5</td>\n",
       "      <td>1</td>\n",
       "    </tr>\n",
       "    <tr>\n",
       "      <th>2</th>\n",
       "      <td>2</td>\n",
       "      <td>2</td>\n",
       "      <td>2</td>\n",
       "    </tr>\n",
       "    <tr>\n",
       "      <th>3</th>\n",
       "      <td>2</td>\n",
       "      <td>2</td>\n",
       "      <td>3</td>\n",
       "    </tr>\n",
       "    <tr>\n",
       "      <th>4</th>\n",
       "      <td>1</td>\n",
       "      <td>1</td>\n",
       "      <td>4</td>\n",
       "    </tr>\n",
       "  </tbody>\n",
       "</table>\n",
       "</div>"
      ],
      "text/plain": [
       "         YM  item_cnt_day  item_id\n",
       "item_id                           \n",
       "0         1             1        0\n",
       "1         5             5        1\n",
       "2         2             2        2\n",
       "3         2             2        3\n",
       "4         1             1        4"
      ]
     },
     "execution_count": 40,
     "metadata": {},
     "output_type": "execute_result"
    }
   ],
   "source": [
    "#Question1\n",
    "#how many of these have sales in every month\n",
    "        #count of count of this table per id being 34\n",
    "        # vs a unique number of products\n",
    "num_months=sales_per_item_PM.groupby([\"item_id\"]).count()\n",
    "num_months[\"item_id\"]=num_months.index\n",
    "#print(num_months.info())\n",
    "num_months.head()"
   ]
  },
  {
   "cell_type": "code",
   "execution_count": 30,
   "metadata": {},
   "outputs": [
    {
     "name": "stdout",
     "output_type": "stream",
     "text": [
      "<class 'pandas.core.frame.DataFrame'>\n",
      "Int64Index: 1654 entries, 30 to 22167\n",
      "Data columns (total 2 columns):\n",
      "YM              1654 non-null int64\n",
      "item_cnt_day    1654 non-null int64\n",
      "dtypes: int64(2)\n",
      "memory usage: 38.8 KB\n"
     ]
    }
   ],
   "source": [
    "all_months=num_months[num_months.YM>30]\n",
    "all_months.info()\n"
   ]
  },
  {
   "cell_type": "code",
   "execution_count": 50,
   "metadata": {},
   "outputs": [
    {
     "name": "stdout",
     "output_type": "stream",
     "text": [
      "Number of items sold less than 1-10 times a week: 572\n",
      "Number of items sold less than 11-50 times a week: 324\n",
      "Number of items sold less than 51-500 times a week: 15\n",
      "Remember these are just averages!!!  There can be a lot of volume in one week that skew this\n"
     ]
    }
   ],
   "source": [
    "#so only 1654 items which were presented in 31 or more months of the 22k products\n",
    "#what are the volumes of these items - are they all a certain category type\n",
    "\n",
    "#overall sales per item\n",
    "sales_per_item=train2.groupby([\"item_id\"])[\"item_cnt_day\"].sum().reset_index()\n",
    "sales_per_item[\"perweek\"]=sales_per_item.item_cnt_day/150\n",
    "\n",
    "\n",
    "print(\"Number of items sold less than 1-10 times a week:\", len(sales_per_item[(sales_per_item.perweek<10) & (sales_per_item.perweek>=5) ]))\n",
    "print(\"Number of items sold less than 11-50 times a week:\", len(sales_per_item[(sales_per_item.perweek<50) & (sales_per_item.perweek>=10) ]))\n",
    "print(\"Number of items sold less than 51-500 times a week:\", len(sales_per_item[(sales_per_item.perweek<500) & (sales_per_item.perweek>=50) ]))\n",
    "\n",
    "print(\"Remember these are just averages!!!  There can be a lot of volume in one week that skew this\")"
   ]
  },
  {
   "cell_type": "code",
   "execution_count": null,
   "metadata": {},
   "outputs": [],
   "source": [
    "#TO DOs\n",
    "#Create a look up of high low medium volumes (more levels) from this and then look this up to see if those that are every week\n",
    "# are high volume\n",
    "# or just transfer the average over and assess it that way\n",
    "\n",
    "#then it will be interesting to assess the higher volume elements and see in how many weeks they are purchased"
   ]
  },
  {
   "cell_type": "code",
   "execution_count": 36,
   "metadata": {},
   "outputs": [
    {
     "data": {
      "text/html": [
       "<div>\n",
       "<style>\n",
       "    .dataframe thead tr:only-child th {\n",
       "        text-align: right;\n",
       "    }\n",
       "\n",
       "    .dataframe thead th {\n",
       "        text-align: left;\n",
       "    }\n",
       "\n",
       "    .dataframe tbody tr th {\n",
       "        vertical-align: top;\n",
       "    }\n",
       "</style>\n",
       "<table border=\"1\" class=\"dataframe\">\n",
       "  <thead>\n",
       "    <tr style=\"text-align: right;\">\n",
       "      <th></th>\n",
       "      <th>c</th>\n",
       "      <th>k</th>\n",
       "      <th>l</th>\n",
       "    </tr>\n",
       "  </thead>\n",
       "  <tbody>\n",
       "    <tr>\n",
       "      <th>0</th>\n",
       "      <td>A</td>\n",
       "      <td>1</td>\n",
       "      <td>a</td>\n",
       "    </tr>\n",
       "    <tr>\n",
       "      <th>2</th>\n",
       "      <td>B</td>\n",
       "      <td>2</td>\n",
       "      <td>a</td>\n",
       "    </tr>\n",
       "    <tr>\n",
       "      <th>4</th>\n",
       "      <td>C</td>\n",
       "      <td>2</td>\n",
       "      <td>d</td>\n",
       "    </tr>\n",
       "  </tbody>\n",
       "</table>\n",
       "</div>"
      ],
      "text/plain": [
       "   c  k  l\n",
       "0  A  1  a\n",
       "2  B  2  a\n",
       "4  C  2  d"
      ]
     },
     "execution_count": 36,
     "metadata": {},
     "output_type": "execute_result"
    }
   ],
   "source": [
    "#this is an example you want to replicate, to find the data in the often sold from the general volume data\n",
    "df1 = pd.DataFrame({'c': ['A', 'A', 'B', 'C', 'C'],\n",
    "                    'k': [1, 2, 2, 2, 2],\n",
    "                    'l': ['a', 'b', 'a', 'a', 'd']})\n",
    "df2 = pd.DataFrame({'c': ['A', 'C'],\n",
    "                    'l': ['b', 'a']})\n",
    "keys = list(df2.columns.values)\n",
    "i1 = df1.set_index(keys).index\n",
    "i2 = df2.set_index(keys).index\n",
    "df1[~i1.isin(i2)]"
   ]
  },
  {
   "cell_type": "code",
   "execution_count": 32,
   "metadata": {},
   "outputs": [
    {
     "data": {
      "text/html": [
       "<div>\n",
       "<style>\n",
       "    .dataframe thead tr:only-child th {\n",
       "        text-align: right;\n",
       "    }\n",
       "\n",
       "    .dataframe thead th {\n",
       "        text-align: left;\n",
       "    }\n",
       "\n",
       "    .dataframe tbody tr th {\n",
       "        vertical-align: top;\n",
       "    }\n",
       "</style>\n",
       "<table border=\"1\" class=\"dataframe\">\n",
       "  <thead>\n",
       "    <tr style=\"text-align: right;\">\n",
       "      <th></th>\n",
       "      <th>c</th>\n",
       "      <th>k</th>\n",
       "      <th>l</th>\n",
       "    </tr>\n",
       "  </thead>\n",
       "  <tbody>\n",
       "    <tr>\n",
       "      <th>0</th>\n",
       "      <td>A</td>\n",
       "      <td>1</td>\n",
       "      <td>a</td>\n",
       "    </tr>\n",
       "    <tr>\n",
       "      <th>1</th>\n",
       "      <td>A</td>\n",
       "      <td>2</td>\n",
       "      <td>b</td>\n",
       "    </tr>\n",
       "    <tr>\n",
       "      <th>2</th>\n",
       "      <td>B</td>\n",
       "      <td>2</td>\n",
       "      <td>a</td>\n",
       "    </tr>\n",
       "    <tr>\n",
       "      <th>3</th>\n",
       "      <td>C</td>\n",
       "      <td>2</td>\n",
       "      <td>a</td>\n",
       "    </tr>\n",
       "    <tr>\n",
       "      <th>4</th>\n",
       "      <td>C</td>\n",
       "      <td>2</td>\n",
       "      <td>d</td>\n",
       "    </tr>\n",
       "  </tbody>\n",
       "</table>\n",
       "</div>"
      ],
      "text/plain": [
       "   c  k  l\n",
       "0  A  1  a\n",
       "1  A  2  b\n",
       "2  B  2  a\n",
       "3  C  2  a\n",
       "4  C  2  d"
      ]
     },
     "execution_count": 32,
     "metadata": {},
     "output_type": "execute_result"
    }
   ],
   "source": [
    "df1"
   ]
  },
  {
   "cell_type": "code",
   "execution_count": 35,
   "metadata": {},
   "outputs": [
    {
     "data": {
      "text/html": [
       "<div>\n",
       "<style>\n",
       "    .dataframe thead tr:only-child th {\n",
       "        text-align: right;\n",
       "    }\n",
       "\n",
       "    .dataframe thead th {\n",
       "        text-align: left;\n",
       "    }\n",
       "\n",
       "    .dataframe tbody tr th {\n",
       "        vertical-align: top;\n",
       "    }\n",
       "</style>\n",
       "<table border=\"1\" class=\"dataframe\">\n",
       "  <thead>\n",
       "    <tr style=\"text-align: right;\">\n",
       "      <th></th>\n",
       "      <th>c</th>\n",
       "      <th>l</th>\n",
       "    </tr>\n",
       "  </thead>\n",
       "  <tbody>\n",
       "    <tr>\n",
       "      <th>0</th>\n",
       "      <td>A</td>\n",
       "      <td>b</td>\n",
       "    </tr>\n",
       "    <tr>\n",
       "      <th>1</th>\n",
       "      <td>C</td>\n",
       "      <td>a</td>\n",
       "    </tr>\n",
       "  </tbody>\n",
       "</table>\n",
       "</div>"
      ],
      "text/plain": [
       "   c  l\n",
       "0  A  b\n",
       "1  C  a"
      ]
     },
     "execution_count": 35,
     "metadata": {},
     "output_type": "execute_result"
    }
   ],
   "source": [
    "df2"
   ]
  },
  {
   "cell_type": "code",
   "execution_count": 34,
   "metadata": {},
   "outputs": [
    {
     "data": {
      "text/plain": [
       "MultiIndex(levels=[['A', 'B', 'C'], ['a', 'b', 'd']],\n",
       "           labels=[[0, 0, 1, 2, 2], [0, 1, 0, 0, 2]],\n",
       "           names=['c', 'l'])"
      ]
     },
     "execution_count": 34,
     "metadata": {},
     "output_type": "execute_result"
    }
   ],
   "source": [
    "i1"
   ]
  }
 ],
 "metadata": {
  "kernelspec": {
   "display_name": "Python 3",
   "language": "python",
   "name": "python3"
  },
  "language_info": {
   "codemirror_mode": {
    "name": "ipython",
    "version": 3
   },
   "file_extension": ".py",
   "mimetype": "text/x-python",
   "name": "python",
   "nbconvert_exporter": "python",
   "pygments_lexer": "ipython3",
   "version": "3.6.8"
  }
 },
 "nbformat": 4,
 "nbformat_minor": 2
}
